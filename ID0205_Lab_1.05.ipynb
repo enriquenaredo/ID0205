{
  "nbformat": 4,
  "nbformat_minor": 0,
  "metadata": {
    "colab": {
      "provenance": []
    },
    "kernelspec": {
      "name": "python3",
      "display_name": "Python 3"
    },
    "language_info": {
      "name": "python"
    }
  },
  "cells": [
    {
      "cell_type": "markdown",
      "source": [
        "#ID0205 - Geometría Computacional\n",
        "\n",
        "### Primavera 2023\n",
        "\n",
        "### ID0205_Lab-05\n",
        "\n",
        "**Profesor Enrique Naredo García**\n",
        "\n",
        " <font size = 2> \n",
        "©️ Todos los derechos reservados. All rights reserved.\n",
        "\n",
        "*Nota: El presente documento es una herramienta diseñada única y exclusivamente para los estudiantes de la asignatura arriba mencionada. Queda prohibido compartir este documento entre otros estudiantes, aún siendo de la misma clase, grupo o de la Universidad sin consentimiento del autor. Queda prohibida la reproducción total o parcial de este documento por cualquier medio o procedimiento, ya sea electrónico o mecánico, el tratamiento informático, el alquiler o cualquier otra forma de cesión sin la autorización previa y por escrito del titular del copyright.*\n",
        "</font>\n",
        "\n"
      ],
      "metadata": {
        "id": "DGf51NexH09L"
      }
    },
    {
      "cell_type": "markdown",
      "source": [
        "## Intersección de dos rectas"
      ],
      "metadata": {
        "id": "desAJo5UILEu"
      }
    },
    {
      "cell_type": "code",
      "source": [
        "# importar librerias\n",
        "import matplotlib.pyplot as plt"
      ],
      "metadata": {
        "id": "xCsnC8fT3JPd"
      },
      "execution_count": 1,
      "outputs": []
    },
    {
      "cell_type": "code",
      "source": [
        "# Clase utilizada para guardar coordenadas\n",
        "class Punto:\n",
        "  # coordenadas para un punto\n",
        "\tdef __init__(self, x, y):\n",
        "   # asigna x a la abcisa\n",
        "\t\tself.x = x\n",
        "    # asigna y a la ordenada\n",
        "\t\tself.y = y\n",
        "\n",
        "\t# Imprime las coordenadas de un punto\n",
        "\tdef muestraPunto(self, punto):\n",
        "\t\tprint(f\"({punto.x}, {punto.y})\")"
      ],
      "metadata": {
        "id": "pgydddm88O60"
      },
      "execution_count": 2,
      "outputs": []
    },
    {
      "cell_type": "code",
      "source": [
        "# definir un número grande\n",
        "# para usarlo cuando exista división por cero\n",
        "NUMGRANDE = 10**9"
      ],
      "metadata": {
        "id": "ihErBNjlCpOL"
      },
      "execution_count": 3,
      "outputs": []
    },
    {
      "cell_type": "code",
      "source": [
        "## Intersección de dos líneas\n",
        "# Linea1 -> (P1,P2), Linea2 -> (P3,P4)\n",
        "def Interseccion(P1, P2, P3, P4):\n",
        "\n",
        "  # Linea1 representada por: A1x + B1y = C1\n",
        "\tA1 = P2.y - P1.y\n",
        "\tB1 = P1.x - P2.x\n",
        "\tC1 = A1*(P1.x) + B1*(P1.y)\n",
        "\n",
        "  # Linea2 representada por: A2x + B2y = C2\n",
        "\tA2 = P4.y - P3.y\n",
        "\tB2 = P3.x - P4.x\n",
        "\tC2 = A2*(P3.x) + B2*(P3.y)\n",
        "\n",
        "  # determinante\n",
        "\tdet = A1*B2 - A2*B1\n",
        "\n",
        "  # probar si las líneas son paralelas\n",
        "\tif (det == 0): \n",
        "\t\t# las líneas son paralelas\n",
        "\t\t# entonces asigna un número muy grande: NUMGRANDE\n",
        "    # para evitar división por cero\n",
        "\t\treturn Punto(NUMGRANDE, NUMGRANDE)\n",
        "\telse:\n",
        "    # las líneas no son paralelas\n",
        "\t\tx = (B2*C1 - B1*C2)/det\n",
        "\t\ty = (A1*C2 - A2*C1)/det\n",
        "    # regresa el punto de intersección\n",
        "\t\treturn Punto(x, y)\n"
      ],
      "metadata": {
        "id": "7hBK62ow3JMx"
      },
      "execution_count": 4,
      "outputs": []
    },
    {
      "cell_type": "code",
      "source": [
        "## Puntos para construir 2 líneas\n",
        "# usando la clase 'Punto'\n",
        "\n",
        "# Linea1 -> (P1,P2)\n",
        "puntito1 = Punto(1, 1)\n",
        "puntito2 = Punto(4, 4)\n",
        "\n",
        "# Linea2 -> (P3,P4)\n",
        "puntito3 = Punto(1, 8)\n",
        "puntito4 = Punto(3, 1)"
      ],
      "metadata": {
        "id": "ShzGLrydAuEj"
      },
      "execution_count": 5,
      "outputs": []
    },
    {
      "cell_type": "code",
      "source": [
        "# Calcular el punto de intersección\n",
        "puntoInter = Interseccion(puntito1, puntito2, puntito3, puntito4)"
      ],
      "metadata": {
        "id": "JpiEY0LeBnbM"
      },
      "execution_count": 6,
      "outputs": []
    },
    {
      "cell_type": "code",
      "source": [
        "## Imprimir punto de intersección\n",
        "\n",
        "# si las coordenadas del punto de intersección  \n",
        "# son un valor muy grande (NUMGRANDE)\n",
        "# entonces las líneas son paralelas\n",
        "if (puntoInter.x == NUMGRANDE and puntoInter.y == NUMGRANDE):\n",
        "\tprint(\"Las líneas L1 y L2 son paralelas.\")\n",
        "else:\n",
        "\t# en caso contrario, las líneas si se intersectan\n",
        "\tprint(\"La intersección de las líneas L1 y L2 es: \")\n",
        "\tpuntoInter.muestraPunto(puntoInter)\n"
      ],
      "metadata": {
        "colab": {
          "base_uri": "https://localhost:8080/"
        },
        "id": "E4NBsATt5xFy",
        "outputId": "54a542a8-9b89-4374-b0d9-47ccc8329d64"
      },
      "execution_count": 7,
      "outputs": [
        {
          "output_type": "stream",
          "name": "stdout",
          "text": [
            "La intersección de las líneas L1 y L2 es: \n",
            "(2.5555555555555554, 2.5555555555555554)\n"
          ]
        }
      ]
    },
    {
      "cell_type": "code",
      "source": [
        "# gráficar rectas\n",
        "plt.figure(figsize=(5,5))\n",
        "plt.plot((puntito1.x,puntito2.x), (puntito1.y,puntito2.y), '.r--')\n",
        "plt.plot((puntito3.x,puntito4.x), (puntito3.y,puntito4.y), '.b--')\n",
        "# muestra el punto, solo si existe la intersección\n",
        "if puntoInter is not None:\n",
        "   plt.plot(puntoInter.x,puntoInter.y, 'og', markersize=10)\n",
        "# muestra la figura\n",
        "plt.show()"
      ],
      "metadata": {
        "colab": {
          "base_uri": "https://localhost:8080/",
          "height": 320
        },
        "id": "T1VHtIpK3JKb",
        "outputId": "39accf9a-687c-4ce6-ca84-be60c8c1821b"
      },
      "execution_count": 8,
      "outputs": [
        {
          "output_type": "display_data",
          "data": {
            "text/plain": [
              "<Figure size 360x360 with 1 Axes>"
            ],
            "image/png": "[encoded data removed]"
          },
          "metadata": {
            "needs_background": "light"
          }
        }
      ]
    },
    {
      "cell_type": "markdown",
      "metadata": {
        "id": "pGLzim4z_fW3"
      },
      "source": [
        "## Ejercicios"
      ]
    },
    {
      "cell_type": "markdown",
      "metadata": {
        "id": "9ach5gDX_jUw"
      },
      "source": [
        "**Grafíca la intersección de 2 rectas**\n",
        "\n",
        "I. Nivel de dificultad: Baja\n",
        "* Repetir el ejercicio haciendo mejoras en la visualización\n",
        "  * Cambiar nombres de variables\n",
        "  * Usar otro tipo de líneas, por ejemplo: solida (-), mixta (.-)\n",
        "  * Usar otros colores diferentes para cada línea\n",
        "  * Usar otro color diferente para los puntos\n",
        "  * Cambiar el tamaño del punto\n",
        "  * Cambiar el marcador del punto\n",
        "  * Agregar leyendas para las líneas\n",
        "  * Agregar etiquetas para los ejes\n",
        "  * Agregar titulo\n",
        "\n",
        "II. Nivel de dificultad: Media\n",
        "* Repetir el ejercicio haciendo los siguientes cambios:\n",
        "  * Graficar dos líneas con N=4 puntos generados aleatoriamente, por ejemplo: random.uniform(a, b).\n",
        "  * Actualmente los valores de los puntos esta en $[0,1]$\n",
        "  * Generar valores para que los puntos esten entre $[100,100]$\n",
        "  * Generar valores para que los puntos esten entre $[-100,-50]$\n",
        "  * Agregar etiqueta del punto de intersección, por ejemplo: P(x,y)\n",
        "  * Agregar etiqueta del punto de intersección con los valores obtenidos, por ejemplo: P(50.45,21.79)\n",
        "  * Agregar una etiqueta dentro de la figura, en el caso de que no haya intersección, por ejemplo: \"No hay intersección en las rectas\"\n",
        "  * Mostrar 4 figuras al mismo tiempo de 4 casos de posibles intersecciones utilizando la versión más completa que tengan del código.\n",
        "\n"
      ]
    }
  ]
}
