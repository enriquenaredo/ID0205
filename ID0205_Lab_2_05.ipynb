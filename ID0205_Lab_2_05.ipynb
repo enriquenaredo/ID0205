{
  "nbformat": 4,
  "nbformat_minor": 0,
  "metadata": {
    "colab": {
      "provenance": []
    },
    "kernelspec": {
      "name": "python3",
      "display_name": "Python 3"
    },
    "language_info": {
      "name": "python"
    }
  },
  "cells": [
    {
      "cell_type": "markdown",
      "source": [
        "#ID0205 - Geometría Computacional\n",
        "\n",
        "### Primavera 2023\n",
        "\n",
        "### ID0205_Lab-2.05\n",
        "\n",
        "**Profesor Enrique Naredo García**\n",
        "\n",
        "<font size = 2> \n",
        "©️ Todos los derechos reservados. All rights reserved.\n",
        "\n",
        "*Nota: El presente documento es una herramienta diseñada única y exclusivamente para los estudiantes de la asignatura arriba mencionada. Queda prohibido compartir este documento entre otros estudiantes, aún siendo de la misma clase, grupo o de la Universidad sin consentimiento del autor. Queda prohibida la reproducción total o parcial de este documento por cualquier medio o procedimiento, ya sea electrónico o mecánico, el tratamiento informático, el alquiler o cualquier otra forma de cesión sin la autorización previa y por escrito del titular del copyright.*\n",
        "</font>"
      ],
      "metadata": {
        "id": "7U13oxEg_2cX"
      }
    },
    {
      "cell_type": "markdown",
      "source": [
        "## Usando matplotlib"
      ],
      "metadata": {
        "id": "kesgtDcjVCGI"
      }
    },
    {
      "cell_type": "code",
      "source": [
        "# Librerias \n",
        "import matplotlib.pyplot as plt"
      ],
      "metadata": {
        "id": "Suds714LPPnn"
      },
      "execution_count": 1,
      "outputs": []
    },
    {
      "cell_type": "code",
      "source": [
        "# Definine 3 puntos\n",
        "point1 = [1,1]\n",
        "point2 = [2,2.5]\n",
        "point3 = [3, 1]"
      ],
      "metadata": {
        "id": "CChcGNR4PwNu"
      },
      "execution_count": 2,
      "outputs": []
    },
    {
      "cell_type": "code",
      "source": [
        "# Abcisas del triángulo\n",
        "triangleX = [point1[0],point2[0],point3[0]]\n",
        "\n",
        "# Ordenadas del triángulo\n",
        "triangleY = [point1[1],point2[1],point3[1]]"
      ],
      "metadata": {
        "id": "EYhTN84PQKub"
      },
      "execution_count": 3,
      "outputs": []
    },
    {
      "cell_type": "code",
      "source": [
        "# Grafica puntos\n",
        "plt.figure()\n",
        "plt.scatter(triangleX, triangleY, s = 100, color = 'red')"
      ],
      "metadata": {
        "colab": {
          "base_uri": "https://localhost:8080/",
          "height": 283
        },
        "id": "niwGzYWOQBxi",
        "outputId": "9b82cdfa-3116-47d4-bfb8-75029f86f6b5"
      },
      "execution_count": 4,
      "outputs": [
        {
          "output_type": "execute_result",
          "data": {
            "text/plain": [
              "<matplotlib.collections.PathCollection at 0x7ffb387d4640>"
            ]
          },
          "metadata": {},
          "execution_count": 4
        },
        {
          "output_type": "display_data",
          "data": {
            "text/plain": [
              "<Figure size 432x288 with 1 Axes>"
            ],
            "image/png": "[encoded data removed]"
          },
          "metadata": {
            "needs_background": "light"
          }
        }
      ]
    },
    {
      "cell_type": "code",
      "source": [
        "# Crea una figura\n",
        "plt.figure()\n",
        "\n",
        "# se requiere repetir el primer punto (abicisa)\n",
        "triangleX2 = triangleX\n",
        "triangleX2.append(point1[0])\n",
        "\n",
        "# se requiere repetir el primer punto (ordenada)\n",
        "triangleY2 = triangleY\n",
        "triangleY2.append(point1[1])\n",
        "\n",
        "# Grafica triángulo\n",
        "plt.plot(triangleX2, triangleY2, marker = 'o')\n",
        "plt.show()"
      ],
      "metadata": {
        "colab": {
          "base_uri": "https://localhost:8080/",
          "height": 265
        },
        "id": "-r0aR01_QbQZ",
        "outputId": "c302f6a7-0d49-48fd-db44-2f13217dea60"
      },
      "execution_count": 5,
      "outputs": [
        {
          "output_type": "display_data",
          "data": {
            "text/plain": [
              "<Figure size 432x288 with 1 Axes>"
            ],
            "image/png": "[encoded data removed]"
          },
          "metadata": {
            "needs_background": "light"
          }
        }
      ]
    },
    {
      "cell_type": "markdown",
      "source": [
        "**Ejercicio**\n",
        "\n",
        "Siguiendo el ejemplo anterior, dibuja un triángulo usando los siguientes datos: \n",
        "\n",
        "* $[8, 7.5], [7, 9], [9, 9]$.\n",
        "\n",
        "* Dibuja las líneas en color rojo.\n",
        "\n",
        "* Los puntos en color verde."
      ],
      "metadata": {
        "id": "Iq-UkTy3T5Pl"
      }
    },
    {
      "cell_type": "code",
      "source": [
        "# Aquí tu código\n",
        "\n",
        "\n",
        "\n",
        "\n",
        "\n"
      ],
      "metadata": {
        "id": "WAVsYqtfXIrX"
      },
      "execution_count": null,
      "outputs": []
    },
    {
      "cell_type": "markdown",
      "source": [
        "## Usando Numpy"
      ],
      "metadata": {
        "id": "i0ht4uayU6OO"
      }
    },
    {
      "cell_type": "code",
      "source": [
        "# Librerias\n",
        "import numpy as np \n",
        "import scipy as sp\n",
        "import pandas as pd"
      ],
      "metadata": {
        "id": "CMYKxnQ1VPlr"
      },
      "execution_count": 8,
      "outputs": []
    },
    {
      "cell_type": "code",
      "source": [
        "# Triángulo rectángulo\n",
        "x=np.array([0,4,4,0])\n",
        "y=np.array([0,0,3,0])"
      ],
      "metadata": {
        "id": "9L2y8numO7JK"
      },
      "execution_count": 12,
      "outputs": []
    },
    {
      "cell_type": "code",
      "source": [
        "# Figura\n",
        "fig1=plt.figure(1)\n",
        "\n",
        "# Gráfica Triángulo \n",
        "color1 = [0/255,176/255,80/255]\n",
        "plt.plot(x,y,color=color1,linewidth=4)\n",
        "\n",
        "# Limites de ejes\n",
        "plt.xlim([-1,7])\n",
        "plt.ylim([-1,7])\n",
        "\n",
        "# Cuadricula\n",
        "color2 = [166/255,166/255,166/255]\n",
        "plt.grid(axis='both',which='major',color=color2, linestyle='-', linewidth=2)\n",
        "plt.minorticks_on()\n",
        "plt.grid(axis='both',which='minor',color=color2, linestyle=':', linewidth=1)"
      ],
      "metadata": {
        "colab": {
          "base_uri": "https://localhost:8080/",
          "height": 269
        },
        "id": "OJDdUsc9O7GU",
        "outputId": "1e97a682-a45c-4389-f222-85568e5a8a8a"
      },
      "execution_count": 18,
      "outputs": [
        {
          "output_type": "display_data",
          "data": {
            "text/plain": [
              "<Figure size 432x288 with 1 Axes>"
            ],
            "image/png": "[encoded data removed]"
          },
          "metadata": {
            "needs_background": "light"
          }
        }
      ]
    },
    {
      "cell_type": "markdown",
      "source": [
        "**Ejercicio**\n",
        "\n",
        "Utiliza el ejemplo anterior y los siguientes puntos para dibujar un triángulo rojo:\n",
        "\n",
        "* punto1 = [1,1]\n",
        "* punto2 = [2,2.5]\n",
        "* punto3 = [3, 1]\n",
        "\n"
      ],
      "metadata": {
        "id": "f4gD0akGW2qf"
      }
    },
    {
      "cell_type": "code",
      "source": [
        "# Aquí tu código\n",
        "\n",
        "\n",
        "\n",
        "\n",
        "\n"
      ],
      "metadata": {
        "id": "nKfC9-Z2O7D_"
      },
      "execution_count": null,
      "outputs": []
    },
    {
      "cell_type": "code",
      "source": [
        "# Figura\n",
        "fig1=plt.figure(1)\n",
        "\n",
        "# Grafica Triángulo \n",
        "color1 = [0/255,176/255,80/255]\n",
        "plt.plot(x,y,color=color1,linewidth=4)\n",
        "\n",
        "# Limites de ejes\n",
        "plt.xlim([-1,7])\n",
        "plt.ylim([-1,7])\n",
        "\n",
        "# Cuadricula\n",
        "color2 = [166/255,166/255,166/255]\n",
        "plt.grid(axis='both',which='major',color=color2, linestyle='-', linewidth=2)\n",
        "plt.minorticks_on()\n",
        "plt.grid(axis='both',which='minor',color=color2, linestyle=':', linewidth=1)\n",
        "\n",
        "# Agrega texto\n",
        "plt.text(0.5,0.25,'θ')\n",
        "plt.text(3.5,0.25,'$90^o$')\n",
        "plt.text(3.5,2.25,'γ')\n",
        "plt.text(1.5,-0.5,'Adyacente (A)')\n",
        "plt.text(4.5,1.5,'Opuesto (O)')\n",
        "plt.text(0,2,'Hipotenusa (H)')"
      ],
      "metadata": {
        "colab": {
          "base_uri": "https://localhost:8080/",
          "height": 287
        },
        "id": "RJY1qpFaO7Bn",
        "outputId": "307d608e-6003-4e14-8228-a8de7a542f13"
      },
      "execution_count": 22,
      "outputs": [
        {
          "output_type": "execute_result",
          "data": {
            "text/plain": [
              "Text(0, 2, 'Hipotenusa (H)')"
            ]
          },
          "metadata": {},
          "execution_count": 22
        },
        {
          "output_type": "display_data",
          "data": {
            "text/plain": [
              "<Figure size 432x288 with 1 Axes>"
            ],
            "image/png": "[encoded data removed]"
          },
          "metadata": {
            "needs_background": "light"
          }
        }
      ]
    },
    {
      "cell_type": "markdown",
      "source": [
        "**Ejercicio**\n",
        "\n",
        "Utiliza el siguiente arreglo y los siguientes textos para construir un triángulo rectángulo:\n",
        "\n",
        "* triangX = $[0,4/5,4/5,0]$\n",
        "\n",
        "* triangY = $[0,0,3/5,0]$\n",
        "\n",
        "* Alfa (\\alpha)\n",
        "* Beta (\\beta)\n",
        "* Recto\n",
        "* Cateto Adyacente\n",
        "* Cateto Opuesto\n",
        "* Hipotenusa\n",
        "\n",
        "\n"
      ],
      "metadata": {
        "id": "4coeKPZtYzAu"
      }
    },
    {
      "cell_type": "code",
      "source": [
        "# Aquí tu código\n",
        "\n",
        "\n",
        "\n",
        "\n",
        "\n"
      ],
      "metadata": {
        "id": "0AEFjiDjYzAv"
      },
      "execution_count": null,
      "outputs": []
    },
    {
      "cell_type": "markdown",
      "source": [
        "**Ejercicio**\n",
        "\n",
        "Utiliza el anterior ejercicio con los siguientes puntos para construir un triángulo rectángulo azul:\n",
        "\n",
        "|Abcisa |Ordenada|\n",
        "| -| -|\n",
        "| 0 | 0 |\n",
        "|  $3^{1/2}$ | 0 |\n",
        "| $3^{1/2}$ | 1 |\n",
        "| 0 | 0 |\n"
      ],
      "metadata": {
        "id": "uweWBPtRawDu"
      }
    }
  ]
}