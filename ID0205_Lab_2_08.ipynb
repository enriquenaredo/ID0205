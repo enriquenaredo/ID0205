{
  "cells": [
    {
      "cell_type": "markdown",
      "metadata": {
        "id": "aid5iLb2a_HN"
      },
      "source": [
        "#ID0205 - Geometría Computacional\n",
        "\n",
        "### Primavera 2023\n",
        "\n",
        "### ID0205_Lab-2.08\n",
        "\n",
        "**Profesor Enrique Naredo García**\n",
        "\n",
        "<font size = 2> \n",
        "©️ Todos los derechos reservados. All rights reserved.\n",
        "\n",
        "*Nota: El presente documento es una herramienta diseñada única y exclusivamente para los estudiantes de la asignatura arriba mencionada. Queda prohibido compartir este documento entre otros estudiantes, aún siendo de la misma clase, grupo o de la Universidad sin consentimiento del autor. Queda prohibida la reproducción total o parcial de este documento por cualquier medio o procedimiento, ya sea electrónico o mecánico, el tratamiento informático, el alquiler o cualquier otra forma de cesión sin la autorización previa y por escrito del titular del copyright.*\n",
        "</font>"
      ]
    },
    {
      "cell_type": "markdown",
      "source": [
        "##Triangulación\n",
        "\n",
        "En esta página se puede encontrar ejemplos de [triangulación](https://personal.us.es/almar/docencia/practicas/triangulaciones/tema4.html) de una nube de puntos."
      ],
      "metadata": {
        "id": "TPxxaN1jPEPX"
      }
    },
    {
      "cell_type": "markdown",
      "source": [
        "Utilizamos la librería [Triangle](https://rufat.be/triangle/index.html) para realizar triangulaciones en varios objetos.\n"
      ],
      "metadata": {
        "id": "CajyRbCpHYyV"
      }
    },
    {
      "cell_type": "code",
      "execution_count": 1,
      "metadata": {
        "colab": {
          "base_uri": "https://localhost:8080/"
        },
        "id": "QAM6LOSOEvCG",
        "outputId": "7a1b1733-91fc-469c-8a3f-61b8febca689"
      },
      "outputs": [
        {
          "output_type": "stream",
          "name": "stdout",
          "text": [
            "Looking in indexes: https://pypi.org/simple, https://us-python.pkg.dev/colab-wheels/public/simple/\n",
            "Collecting triangle\n",
            "  Downloading triangle-20220202-cp38-cp38-manylinux_2_17_x86_64.manylinux2014_x86_64.whl (2.0 MB)\n",
            "\u001b[2K     \u001b[90m━━━━━━━━━━━━━━━━━━━━━━━━━━━━━━━━━━━━━━━━\u001b[0m \u001b[32m2.0/2.0 MB\u001b[0m \u001b[31m22.5 MB/s\u001b[0m eta \u001b[36m0:00:00\u001b[0m\n",
            "\u001b[?25hRequirement already satisfied: numpy in /usr/local/lib/python3.8/dist-packages (from triangle) (1.21.6)\n",
            "Installing collected packages: triangle\n",
            "Successfully installed triangle-20220202\n"
          ]
        }
      ],
      "source": [
        "# instala triangle\n",
        "!pip install triangle"
      ]
    },
    {
      "cell_type": "code",
      "execution_count": 2,
      "metadata": {
        "id": "OUMK3I5na9k7"
      },
      "outputs": [],
      "source": [
        "# librerias\n",
        "import numpy as np\n",
        "import matplotlib.pyplot as plt\n",
        "import matplotlib.tri as mtri\n",
        "import triangle as tr"
      ]
    },
    {
      "cell_type": "markdown",
      "source": [
        "**Ejemplo**\n",
        "\n",
        "Utilizamos un cuadro para realizar diferentes tipo de triangulaciones."
      ],
      "metadata": {
        "id": "qVY5WcM6N61x"
      }
    },
    {
      "cell_type": "code",
      "source": [
        "# obten datos para construir una caja (cuadro)\n",
        "caja1 = tr.get_data('box.1')"
      ],
      "metadata": {
        "id": "Ch2fG5gRJguL"
      },
      "execution_count": 52,
      "outputs": []
    },
    {
      "cell_type": "code",
      "source": [
        "# muestra los datos de 'box.1'\n",
        "print(caja1)"
      ],
      "metadata": {
        "colab": {
          "base_uri": "https://localhost:8080/"
        },
        "id": "NPpydavMNCMW",
        "outputId": "ba8e0fdd-4f8a-44a9-80fe-5c5fd4915cf7"
      },
      "execution_count": 54,
      "outputs": [
        {
          "output_type": "stream",
          "name": "stdout",
          "text": [
            "{'vertices': array([[0., 0.],\n",
            "       [0., 3.],\n",
            "       [3., 0.],\n",
            "       [3., 3.],\n",
            "       [1., 1.],\n",
            "       [1., 2.],\n",
            "       [2., 1.],\n",
            "       [2., 2.]]), 'vertex_markers': array([[ 5],\n",
            "       [ 5],\n",
            "       [ 1],\n",
            "       [33],\n",
            "       [ 1],\n",
            "       [10],\n",
            "       [ 1],\n",
            "       [10]], dtype=int32), 'triangles': array([[0, 4, 5],\n",
            "       [4, 0, 2],\n",
            "       [1, 5, 7],\n",
            "       [5, 1, 0],\n",
            "       [6, 2, 3],\n",
            "       [2, 6, 4],\n",
            "       [7, 3, 1],\n",
            "       [3, 7, 6]], dtype=int32), 'segments': array([[0, 1],\n",
            "       [4, 6],\n",
            "       [7, 6],\n",
            "       [5, 7],\n",
            "       [4, 5],\n",
            "       [2, 0],\n",
            "       [3, 2],\n",
            "       [1, 3]], dtype=int32), 'segment_markers': array([[ 5],\n",
            "       [ 1],\n",
            "       [ 1],\n",
            "       [10],\n",
            "       [ 1],\n",
            "       [ 1],\n",
            "       [ 1],\n",
            "       [ 1]], dtype=int32), 'holes': array([[1.5, 1.5]])}\n"
          ]
        }
      ]
    },
    {
      "cell_type": "code",
      "source": [
        "# define tipo de triangulación: 'rpa0.2'\n",
        "tr_caja1 = tr.triangulate(caja1, opts='rpa0.2')"
      ],
      "metadata": {
        "id": "ergFDdohNUhw"
      },
      "execution_count": 57,
      "outputs": []
    },
    {
      "cell_type": "code",
      "source": [
        "# grafica tanto cuadro como sus triángulos\n",
        "tr.compare(plt, caja1, tr_caja1)"
      ],
      "metadata": {
        "colab": {
          "base_uri": "https://localhost:8080/",
          "height": 229
        },
        "id": "tFavbWl0Ni2q",
        "outputId": "13e03245-0990-4867-b840-10846c94077b"
      },
      "execution_count": 58,
      "outputs": [
        {
          "output_type": "display_data",
          "data": {
            "text/plain": [
              "<Figure size 432x216 with 2 Axes>"
            ],
            "image/png": "[encoded data removed]"
          },
          "metadata": {
            "needs_background": "light"
          }
        }
      ]
    },
    {
      "cell_type": "markdown",
      "source": [
        "**Ejercicio**\n",
        "\n",
        "Utiliza el ejemplo anterior e integra todo el código en la celda siguiente para aplicar triangulación al cuadro utilizando el siguiente tipo de triangulación: 'rpa0.05', agrega tus propiso comentarios y renombra variables."
      ],
      "metadata": {
        "id": "x9iaxCfkN0tl"
      }
    },
    {
      "cell_type": "code",
      "source": [
        "# Aquí tu código\n",
        "\n",
        "\n",
        "\n",
        "\n",
        "\n",
        "\n",
        "\n"
      ],
      "metadata": {
        "id": "XD9yoIqDQHsi"
      },
      "execution_count": null,
      "outputs": []
    },
    {
      "cell_type": "markdown",
      "source": [
        "**Ejercicio**\n",
        "\n",
        "Utiliza el ejemplo anterior e integra todo el código en la celda siguiente para aplicar triangulación al cuadro utilizando el siguiente tipo de triangulación: 'rpa0.0125', agrega tus propiso comentarios y renombra variables."
      ],
      "metadata": {
        "id": "TJaK4_JJQzKQ"
      }
    },
    {
      "cell_type": "code",
      "source": [
        "# Aquí tu código\n",
        "\n",
        "\n",
        "\n",
        "\n",
        "\n",
        "\n",
        "\n"
      ],
      "metadata": {
        "id": "VEW49CRsQzKQ"
      },
      "execution_count": null,
      "outputs": []
    },
    {
      "cell_type": "markdown",
      "source": [
        "**Ejemplo**\n",
        "\n",
        "Utilizamos ahora los datos para mostrar una 'cara' que vienen de ejemplo en la librería.\n"
      ],
      "metadata": {
        "id": "xF_Dq3ZiGAM7"
      }
    },
    {
      "cell_type": "code",
      "execution_count": 64,
      "metadata": {
        "colab": {
          "base_uri": "https://localhost:8080/",
          "height": 229
        },
        "id": "fIrXKza2v3WS",
        "outputId": "645263ff-3ec9-4b40-c33f-a8f6873c9e70"
      },
      "outputs": [
        {
          "output_type": "display_data",
          "data": {
            "text/plain": [
              "<Figure size 432x216 with 2 Axes>"
            ],
            "image/png": "[encoded data removed]"
          },
          "metadata": {
            "needs_background": "light"
          }
        }
      ],
      "source": [
        "# obten datos para construir una cara triangular\n",
        "carita = tr.get_data('face')\n",
        "\n",
        "# define tipo de triangulación 'pq'\n",
        "tr_carita = tr.triangulate(carita, 'p')\n",
        "\n",
        "# grafica tanto la cara como sus triángulos\n",
        "tr.compare(plt, carita, tr_carita)\n",
        "\n",
        "# muestra todas las figuras\n",
        "plt.show()"
      ]
    },
    {
      "cell_type": "markdown",
      "source": [
        "**Ejercicio**\n",
        "\n",
        "Utiliza el ejemplo anterior y utiliza el siguiente tipo de triangulación: 'pq10', agrega tus propiso comentarios y renombra variables."
      ],
      "metadata": {
        "id": "sGiLV4FlRenP"
      }
    },
    {
      "cell_type": "code",
      "source": [
        "# Aquí tu código\n",
        "\n",
        "\n",
        "\n",
        "\n",
        "\n",
        "\n",
        "\n"
      ],
      "metadata": {
        "id": "5Kk9h6JLR-7p"
      },
      "execution_count": null,
      "outputs": []
    },
    {
      "cell_type": "markdown",
      "source": [
        "**Ejercicio**\n",
        "\n",
        "Utiliza el ejemplo anterior y utiliza el siguiente tipo de triangulación: 'pq0D', agrega tus propiso comentarios y renombra variables."
      ],
      "metadata": {
        "id": "5BZ-MQzOSTn5"
      }
    },
    {
      "cell_type": "code",
      "source": [
        "# Aquí tu código\n",
        "\n",
        "\n",
        "\n",
        "\n",
        "\n",
        "\n",
        "\n"
      ],
      "metadata": {
        "id": "-XxAM1t4STn6"
      },
      "execution_count": null,
      "outputs": []
    },
    {
      "cell_type": "markdown",
      "source": [
        "**Ejemplo**\n",
        "\n",
        "Ahora usamos el ejemplo llamado 'double_hex'."
      ],
      "metadata": {
        "id": "XrSGN_cJTZgD"
      }
    },
    {
      "cell_type": "code",
      "source": [
        "# obten datos\n",
        "DH = tr.get_data('double_hex')"
      ],
      "metadata": {
        "id": "vVE2e_CJS3eT"
      },
      "execution_count": 74,
      "outputs": []
    },
    {
      "cell_type": "code",
      "source": [
        "# muestra los datos\n",
        "print(DH)"
      ],
      "metadata": {
        "colab": {
          "base_uri": "https://localhost:8080/"
        },
        "id": "FlgXTERUTLbo",
        "outputId": "af60689a-b6ab-4ae7-9ce5-cfaa20a894ab"
      },
      "execution_count": 75,
      "outputs": [
        {
          "output_type": "stream",
          "name": "stdout",
          "text": [
            "{'vertices': array([[0.    , 0.    ],\n",
            "       [0.0556, 0.    ],\n",
            "       [0.1111, 0.    ],\n",
            "       [0.1667, 0.    ],\n",
            "       [0.2222, 0.    ],\n",
            "       [0.2778, 0.    ],\n",
            "       [0.3333, 0.    ],\n",
            "       [0.3889, 0.    ],\n",
            "       [0.4444, 0.    ],\n",
            "       [0.5   , 0.    ],\n",
            "       [0.5556, 0.    ],\n",
            "       [0.6111, 0.    ],\n",
            "       [0.6667, 0.    ],\n",
            "       [0.7222, 0.    ],\n",
            "       [0.7778, 0.    ],\n",
            "       [0.8333, 0.    ],\n",
            "       [0.8889, 0.    ],\n",
            "       [0.9444, 0.    ],\n",
            "       [1.    , 0.    ],\n",
            "       [1.    , 0.0556],\n",
            "       [1.    , 0.1111],\n",
            "       [1.    , 0.1667],\n",
            "       [1.    , 0.2222],\n",
            "       [1.    , 0.2778],\n",
            "       [1.    , 0.3333],\n",
            "       [1.    , 0.3889],\n",
            "       [1.    , 0.4444],\n",
            "       [1.    , 0.5   ],\n",
            "       [1.    , 0.5556],\n",
            "       [1.    , 0.6111],\n",
            "       [1.    , 0.6667],\n",
            "       [1.    , 0.7222],\n",
            "       [1.    , 0.7778],\n",
            "       [1.    , 0.8333],\n",
            "       [1.    , 0.8889],\n",
            "       [1.    , 0.9444],\n",
            "       [1.    , 1.    ],\n",
            "       [0.9444, 1.    ],\n",
            "       [0.8889, 1.    ],\n",
            "       [0.8333, 1.    ],\n",
            "       [0.7778, 1.    ],\n",
            "       [0.7222, 1.    ],\n",
            "       [0.6667, 1.    ],\n",
            "       [0.6111, 1.    ],\n",
            "       [0.5556, 1.    ],\n",
            "       [0.5   , 1.    ],\n",
            "       [0.4444, 1.    ],\n",
            "       [0.3889, 1.    ],\n",
            "       [0.3333, 1.    ],\n",
            "       [0.2778, 1.    ],\n",
            "       [0.2222, 1.    ],\n",
            "       [0.1667, 1.    ],\n",
            "       [0.1111, 1.    ],\n",
            "       [0.0556, 1.    ],\n",
            "       [0.    , 1.    ],\n",
            "       [0.    , 0.9444],\n",
            "       [0.    , 0.8889],\n",
            "       [0.    , 0.8333],\n",
            "       [0.    , 0.7778],\n",
            "       [0.    , 0.7222],\n",
            "       [0.    , 0.6667],\n",
            "       [0.    , 0.6111],\n",
            "       [0.    , 0.5556],\n",
            "       [0.    , 0.5   ],\n",
            "       [0.    , 0.4444],\n",
            "       [0.    , 0.3889],\n",
            "       [0.    , 0.3333],\n",
            "       [0.    , 0.2778],\n",
            "       [0.    , 0.2222],\n",
            "       [0.    , 0.1667],\n",
            "       [0.    , 0.1111],\n",
            "       [0.    , 0.0556],\n",
            "       [0.15  , 0.75  ],\n",
            "       [0.1752, 0.7067],\n",
            "       [0.2003, 0.6634],\n",
            "       [0.2503, 0.6637],\n",
            "       [0.3002, 0.664 ],\n",
            "       [0.3251, 0.707 ],\n",
            "       [0.35  , 0.75  ],\n",
            "       [0.3251, 0.793 ],\n",
            "       [0.3002, 0.836 ],\n",
            "       [0.2503, 0.8363],\n",
            "       [0.2003, 0.8366],\n",
            "       [0.1752, 0.7933],\n",
            "       [0.5   , 0.4   ],\n",
            "       [0.5252, 0.3567],\n",
            "       [0.5503, 0.3134],\n",
            "       [0.6003, 0.3137],\n",
            "       [0.6502, 0.314 ],\n",
            "       [0.6751, 0.357 ],\n",
            "       [0.7   , 0.4   ],\n",
            "       [0.6751, 0.443 ],\n",
            "       [0.6502, 0.486 ],\n",
            "       [0.6003, 0.4863],\n",
            "       [0.5503, 0.4866],\n",
            "       [0.5252, 0.4433]]), 'vertex_markers': array([[1],\n",
            "       [1],\n",
            "       [1],\n",
            "       [1],\n",
            "       [1],\n",
            "       [1],\n",
            "       [1],\n",
            "       [1],\n",
            "       [1],\n",
            "       [1],\n",
            "       [1],\n",
            "       [1],\n",
            "       [1],\n",
            "       [1],\n",
            "       [1],\n",
            "       [1],\n",
            "       [1],\n",
            "       [1],\n",
            "       [1],\n",
            "       [1],\n",
            "       [1],\n",
            "       [1],\n",
            "       [1],\n",
            "       [1],\n",
            "       [1],\n",
            "       [1],\n",
            "       [1],\n",
            "       [1],\n",
            "       [1],\n",
            "       [1],\n",
            "       [1],\n",
            "       [1],\n",
            "       [1],\n",
            "       [1],\n",
            "       [1],\n",
            "       [1],\n",
            "       [1],\n",
            "       [1],\n",
            "       [1],\n",
            "       [1],\n",
            "       [1],\n",
            "       [1],\n",
            "       [1],\n",
            "       [1],\n",
            "       [1],\n",
            "       [1],\n",
            "       [1],\n",
            "       [1],\n",
            "       [1],\n",
            "       [1],\n",
            "       [1],\n",
            "       [1],\n",
            "       [1],\n",
            "       [1],\n",
            "       [1],\n",
            "       [1],\n",
            "       [1],\n",
            "       [1],\n",
            "       [1],\n",
            "       [1],\n",
            "       [1],\n",
            "       [1],\n",
            "       [1],\n",
            "       [1],\n",
            "       [1],\n",
            "       [1],\n",
            "       [1],\n",
            "       [1],\n",
            "       [1],\n",
            "       [1],\n",
            "       [1],\n",
            "       [1],\n",
            "       [2],\n",
            "       [2],\n",
            "       [2],\n",
            "       [2],\n",
            "       [2],\n",
            "       [2],\n",
            "       [2],\n",
            "       [2],\n",
            "       [2],\n",
            "       [2],\n",
            "       [2],\n",
            "       [2],\n",
            "       [3],\n",
            "       [3],\n",
            "       [3],\n",
            "       [3],\n",
            "       [3],\n",
            "       [3],\n",
            "       [3],\n",
            "       [3],\n",
            "       [3],\n",
            "       [3],\n",
            "       [3],\n",
            "       [3]], dtype=int32), 'segments': array([[ 0,  1],\n",
            "       [ 1,  2],\n",
            "       [ 2,  3],\n",
            "       [ 3,  4],\n",
            "       [ 4,  5],\n",
            "       [ 5,  6],\n",
            "       [ 6,  7],\n",
            "       [ 7,  8],\n",
            "       [ 8,  9],\n",
            "       [ 9, 10],\n",
            "       [10, 11],\n",
            "       [11, 12],\n",
            "       [12, 13],\n",
            "       [13, 14],\n",
            "       [14, 15],\n",
            "       [15, 16],\n",
            "       [16, 17],\n",
            "       [17, 18],\n",
            "       [18, 19],\n",
            "       [19, 20],\n",
            "       [20, 21],\n",
            "       [21, 22],\n",
            "       [22, 23],\n",
            "       [23, 24],\n",
            "       [24, 25],\n",
            "       [25, 26],\n",
            "       [26, 27],\n",
            "       [27, 28],\n",
            "       [28, 29],\n",
            "       [29, 30],\n",
            "       [30, 31],\n",
            "       [31, 32],\n",
            "       [32, 33],\n",
            "       [33, 34],\n",
            "       [34, 35],\n",
            "       [35, 36],\n",
            "       [36, 37],\n",
            "       [37, 38],\n",
            "       [38, 39],\n",
            "       [39, 40],\n",
            "       [40, 41],\n",
            "       [41, 42],\n",
            "       [42, 43],\n",
            "       [43, 44],\n",
            "       [44, 45],\n",
            "       [45, 46],\n",
            "       [46, 47],\n",
            "       [47, 48],\n",
            "       [48, 49],\n",
            "       [49, 50],\n",
            "       [50, 51],\n",
            "       [51, 52],\n",
            "       [52, 53],\n",
            "       [53, 54],\n",
            "       [54, 55],\n",
            "       [55, 56],\n",
            "       [56, 57],\n",
            "       [57, 58],\n",
            "       [58, 59],\n",
            "       [59, 60],\n",
            "       [60, 61],\n",
            "       [61, 62],\n",
            "       [62, 63],\n",
            "       [63, 64],\n",
            "       [64, 65],\n",
            "       [65, 66],\n",
            "       [66, 67],\n",
            "       [67, 68],\n",
            "       [68, 69],\n",
            "       [69, 70],\n",
            "       [70, 71],\n",
            "       [71,  0],\n",
            "       [72, 83],\n",
            "       [83, 82],\n",
            "       [82, 81],\n",
            "       [81, 80],\n",
            "       [80, 79],\n",
            "       [79, 78],\n",
            "       [78, 77],\n",
            "       [77, 76],\n",
            "       [76, 75],\n",
            "       [75, 74],\n",
            "       [74, 73],\n",
            "       [73, 72],\n",
            "       [84, 95],\n",
            "       [95, 94],\n",
            "       [94, 93],\n",
            "       [93, 92],\n",
            "       [92, 91],\n",
            "       [91, 90],\n",
            "       [90, 89],\n",
            "       [89, 88],\n",
            "       [88, 87],\n",
            "       [87, 86],\n",
            "       [86, 85],\n",
            "       [85, 84]], dtype=int32), 'segment_markers': array([[1],\n",
            "       [1],\n",
            "       [1],\n",
            "       [1],\n",
            "       [1],\n",
            "       [1],\n",
            "       [1],\n",
            "       [1],\n",
            "       [1],\n",
            "       [1],\n",
            "       [1],\n",
            "       [1],\n",
            "       [1],\n",
            "       [1],\n",
            "       [1],\n",
            "       [1],\n",
            "       [1],\n",
            "       [1],\n",
            "       [1],\n",
            "       [1],\n",
            "       [1],\n",
            "       [1],\n",
            "       [1],\n",
            "       [1],\n",
            "       [1],\n",
            "       [1],\n",
            "       [1],\n",
            "       [1],\n",
            "       [1],\n",
            "       [1],\n",
            "       [1],\n",
            "       [1],\n",
            "       [1],\n",
            "       [1],\n",
            "       [1],\n",
            "       [1],\n",
            "       [1],\n",
            "       [1],\n",
            "       [1],\n",
            "       [1],\n",
            "       [1],\n",
            "       [1],\n",
            "       [1],\n",
            "       [1],\n",
            "       [1],\n",
            "       [1],\n",
            "       [1],\n",
            "       [1],\n",
            "       [1],\n",
            "       [1],\n",
            "       [1],\n",
            "       [1],\n",
            "       [1],\n",
            "       [1],\n",
            "       [1],\n",
            "       [1],\n",
            "       [1],\n",
            "       [1],\n",
            "       [1],\n",
            "       [1],\n",
            "       [1],\n",
            "       [1],\n",
            "       [1],\n",
            "       [1],\n",
            "       [1],\n",
            "       [1],\n",
            "       [1],\n",
            "       [1],\n",
            "       [1],\n",
            "       [1],\n",
            "       [1],\n",
            "       [1],\n",
            "       [2],\n",
            "       [2],\n",
            "       [2],\n",
            "       [2],\n",
            "       [2],\n",
            "       [2],\n",
            "       [2],\n",
            "       [2],\n",
            "       [2],\n",
            "       [2],\n",
            "       [2],\n",
            "       [2],\n",
            "       [3],\n",
            "       [3],\n",
            "       [3],\n",
            "       [3],\n",
            "       [3],\n",
            "       [3],\n",
            "       [3],\n",
            "       [3],\n",
            "       [3],\n",
            "       [3],\n",
            "       [3],\n",
            "       [3]], dtype=int32), 'holes': array([[0.25, 0.75],\n",
            "       [0.6 , 0.4 ]])}\n"
          ]
        }
      ]
    },
    {
      "cell_type": "code",
      "source": [
        "# define tipo de triangulación 'pq'\n",
        "tr_DH = tr.triangulate(DH, 'p')"
      ],
      "metadata": {
        "id": "8Bvv4qqRS84_"
      },
      "execution_count": 82,
      "outputs": []
    },
    {
      "cell_type": "code",
      "source": [
        "# grafica tanto la cara como sus triángulos\n",
        "tr.compare(plt, DH, tr_DH)\n",
        "\n",
        "# muestra todas las figuras\n",
        "plt.show()"
      ],
      "metadata": {
        "colab": {
          "base_uri": "https://localhost:8080/",
          "height": 229
        },
        "id": "sfCBUUJuUBJQ",
        "outputId": "4679cb35-e2d9-4314-a7eb-7b5c3741d163"
      },
      "execution_count": 83,
      "outputs": [
        {
          "output_type": "display_data",
          "data": {
            "text/plain": [
              "<Figure size 432x216 with 2 Axes>"
            ],
            "image/png": "[encoded data removed]"
          },
          "metadata": {
            "needs_background": "light"
          }
        }
      ]
    },
    {
      "cell_type": "markdown",
      "source": [
        "**Ejercicio**\n",
        "\n",
        "Utiliza el ejemplo anterior y usando diferentes celdas aplica las siguientes triangulaciones:\n",
        "\n",
        "* 'pq10'\n",
        "* 'a0.0060;\n",
        "* 'a0.0015 '"
      ],
      "metadata": {
        "id": "5yqE1cfXUbgG"
      }
    },
    {
      "cell_type": "code",
      "source": [
        "# Aquí tu código\n",
        "\n",
        "\n",
        "\n",
        "\n",
        "\n",
        "\n",
        "\n"
      ],
      "metadata": {
        "id": "7DcS7hJxVAYt"
      },
      "execution_count": null,
      "outputs": []
    },
    {
      "cell_type": "code",
      "source": [
        "# Aquí tu código\n",
        "\n",
        "\n",
        "\n",
        "\n",
        "\n",
        "\n",
        "\n"
      ],
      "metadata": {
        "id": "wBc6Jsy2UbgH"
      },
      "execution_count": null,
      "outputs": []
    },
    {
      "cell_type": "code",
      "source": [
        "# Aquí tu código\n",
        "\n",
        "\n",
        "\n",
        "\n",
        "\n",
        "\n",
        "\n"
      ],
      "metadata": {
        "id": "Tn8q8Z__U2-R"
      },
      "execution_count": null,
      "outputs": []
    }
  ],
  "metadata": {
    "colab": {
      "provenance": []
    },
    "kernelspec": {
      "display_name": "Python 3",
      "name": "python3"
    },
    "language_info": {
      "name": "python"
    }
  },
  "nbformat": 4,
  "nbformat_minor": 0
}