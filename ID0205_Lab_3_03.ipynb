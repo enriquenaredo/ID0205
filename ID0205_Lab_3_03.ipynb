{
  "nbformat": 4,
  "nbformat_minor": 0,
  "metadata": {
    "colab": {
      "provenance": []
    },
    "kernelspec": {
      "name": "python3",
      "display_name": "Python 3"
    },
    "language_info": {
      "name": "python"
    }
  },
  "cells": [
    {
      "cell_type": "markdown",
      "source": [
        "#ID0205 - Geometría Computacional\n",
        "\n",
        "### Primavera 2023\n",
        "\n",
        "### ID0205_Lab-3.03\n",
        "\n",
        "**Profesor Enrique Naredo García**\n",
        "\n",
        "<font size = 2> \n",
        "©️ Todos los derechos reservados. All rights reserved.\n",
        "\n",
        "*Nota: El presente documento es una herramienta diseñada única y exclusivamente para los estudiantes de la asignatura arriba mencionada. Queda prohibido compartir este documento entre otros estudiantes, aún siendo de la misma clase, grupo o de la Universidad sin consentimiento del autor. Queda prohibida la reproducción total o parcial de este documento por cualquier medio o procedimiento, ya sea electrónico o mecánico, el tratamiento informático, el alquiler o cualquier otra forma de cesión sin la autorización previa y por escrito del titular del copyright.*\n",
        "</font>"
      ],
      "metadata": {
        "id": "KR2Hh5ZyxwmH"
      }
    },
    {
      "cell_type": "markdown",
      "source": [
        "##[Búsqueda Binaria](https://es.wikipedia.org/wiki/B%C3%BAsqueda_binaria)\n",
        "\n",
        "En ciencias de la computación y matemáticas, la búsqueda binaria, también conocida como \n",
        "\n",
        "* búsqueda de intervalo medio​ \n",
        "* búsqueda logarítmica, \n",
        "\n",
        "es un algoritmo de búsqueda que encuentra la posición de un valor en un array ordenado.\n",
        "\n",
        "Compara el valor con el elemento en el medio del arreglo, si no son iguales, la mitad en la cual el valor no puede estar es eliminada y la búsqueda continúa en la mitad restante hasta que el valor se encuentre. "
      ],
      "metadata": {
        "id": "V_SmHaCzy67_"
      }
    },
    {
      "cell_type": "markdown",
      "source": [
        "**Ejercicio**\n",
        "\n",
        "Utiliza las celdas siguientes y sus códigos para crear una clase que implemente la búsqueda binaria.\n",
        "\n",
        "* Toma en cuenta que el código puede requerir indentación,\n",
        "* apropiate del código mediante renombrar en español las funciones y variables,\n",
        "* mantén sin cambio las palabras reservadas, usualmente en azul,\n",
        "* identifica los métodos y funciones que deben formar parte de la clase,\n",
        "* identifica el código que se utiliza para probar tu clase,\n",
        "* en la entrega de este ejercicio agrega tu propia introducción,\n",
        "* agrega comentarios pertinentes en tu código,\n",
        "* se creativo y propón otros ejemplos,\n",
        "* agrega las conclusiones de todo lo que aprendiste usando tus propias palabras,\n",
        "* finalmente agrega las referencias utilizadas."
      ],
      "metadata": {
        "id": "yU0B0IMAut1K"
      }
    },
    {
      "cell_type": "code",
      "source": [
        "# class\n",
        "def __init__(self, val=None):\n",
        "self.L = None\n",
        "self.R = None\n",
        "self.V = val\n"
      ],
      "metadata": {
        "id": "izm5XUVLizrO"
      },
      "execution_count": null,
      "outputs": []
    },
    {
      "cell_type": "code",
      "source": [
        "# insertar\n",
        "def insert(self, V):\n",
        "if not self.V:\n",
        "self.V = V\n",
        "return\n",
        "\n",
        "if self.V == V:\n",
        "return\n",
        "\n",
        "if V < self.V:\n",
        "if self.L:\n",
        "self.L.insert(V)\n",
        "return\n",
        "self.L = MiNodo(V)\n",
        "return\n",
        "\n",
        "if self.R:\n",
        "self.R.insert(V)\n",
        "return\n",
        "self.R = MiNodo(V)"
      ],
      "metadata": {
        "id": "AU_bHqlHjPEO"
      },
      "execution_count": null,
      "outputs": []
    },
    {
      "cell_type": "code",
      "source": [
        "# mínimo\n",
        "def get_min(self):\n",
        "current = self\n",
        "while current.left is not None:\n",
        "    current = current.left\n",
        "return current.val"
      ],
      "metadata": {
        "id": "PIk5P2aYizo2"
      },
      "execution_count": null,
      "outputs": []
    },
    {
      "cell_type": "code",
      "source": [
        "# máximo\n",
        "def get_max(self):\n",
        "current = self\n",
        "while current.right is not None:\n",
        "current = current.right\n",
        "return current.val"
      ],
      "metadata": {
        "id": "2wbQThjNizmf"
      },
      "execution_count": null,
      "outputs": []
    },
    {
      "cell_type": "code",
      "source": [
        "# borrar\n",
        "def delete(self, val):\n",
        "if self == None:\n",
        "return self\n",
        "if val < self.val:\n",
        "self.left = self.left.delete(val)\n",
        "return self\n",
        "if val > self.val:\n",
        "self.right = self.right.delete(val)\n",
        "return self\n",
        "if self.right == None:\n",
        "return self.left\n",
        "if self.left == None:\n",
        "return self.right\n",
        "min_larger_node = self.right\n",
        "while min_larger_node.left:\n",
        "min_larger_node = min_larger_node.left\n",
        "self.val = min_larger_node.val\n",
        "self.right = self.right.delete(min_larger_node.val)\n",
        "return self\n"
      ],
      "metadata": {
        "id": "tKusLAjDj0rS"
      },
      "execution_count": null,
      "outputs": []
    },
    {
      "cell_type": "code",
      "source": [
        "# verifica si existe un valor\n",
        "def exists(self, val):\n",
        "if val == self.val:\n",
        "return True\n",
        "\n",
        "if val < self.val:\n",
        "if self.left == None:\n",
        "return False\n",
        "return self.left.exists(val)\n",
        "\n",
        "if self.right == None:\n",
        "return False\n",
        "return self.right.exists(val)\n"
      ],
      "metadata": {
        "id": "L5iSZOh5j0o9"
      },
      "execution_count": null,
      "outputs": []
    },
    {
      "cell_type": "code",
      "source": [
        "# imprime los valores en orden de sus claves\n",
        "def inorder(self, vals):\n",
        "if self.left is not None:\n",
        "self.left.inorder(vals)\n",
        "if self.val is not None:\n",
        "vals.append(self.val)\n",
        "if self.right is not None:\n",
        "self.right.inorder(vals)\n",
        "return vals\n"
      ],
      "metadata": {
        "id": "SxibQlanj0mp"
      },
      "execution_count": null,
      "outputs": []
    },
    {
      "cell_type": "code",
      "source": [
        "# \n",
        "def preorder(self, vals):\n",
        "if self.val is not None:\n",
        "vals.append(self.val)\n",
        "if self.left is not None:\n",
        "self.left.preorder(vals)\n",
        "if self.right is not None:\n",
        "self.right.preorder(vals)\n",
        "return vals\n"
      ],
      "metadata": {
        "id": "bX-8Bj0Fizke"
      },
      "execution_count": null,
      "outputs": []
    },
    {
      "cell_type": "code",
      "source": [
        "def postorder(self, vals):\n",
        "if self.left is not None:\n",
        "self.left.postorder(vals)\n",
        "if self.right is not None:\n",
        "self.right.postorder(vals)\n",
        "if self.val is not None:\n",
        "vals.append(self.val)\n",
        "return vals\n"
      ],
      "metadata": {
        "id": "Nb7NaEOHiziO"
      },
      "execution_count": null,
      "outputs": []
    },
    {
      "cell_type": "code",
      "source": [
        "# lista de números\n",
        "numeros = [2, 16, 8, 9, 21, 11, 13, 5, 14, 24, 18]\n"
      ],
      "metadata": {
        "id": "KGDE1Z8Pk-DF"
      },
      "execution_count": null,
      "outputs": []
    },
    {
      "cell_type": "code",
      "source": [
        "# crea una isntancia de la clase\n",
        "bst = Node()"
      ],
      "metadata": {
        "id": "8skDe31jlPbY"
      },
      "execution_count": null,
      "outputs": []
    },
    {
      "cell_type": "code",
      "source": [
        "# inserta los números\n",
        "for num in nums: #numeros\n",
        "bst.insert(num)"
      ],
      "metadata": {
        "id": "0JUfTeHTlZaL"
      },
      "execution_count": null,
      "outputs": []
    },
    {
      "cell_type": "code",
      "source": [
        "# imprime en preorden\n",
        "print(\"preorder:\")\n",
        "print(bst.preorder([]))\n",
        "print(\"#\")\n"
      ],
      "metadata": {
        "id": "ckUmcArVli97"
      },
      "execution_count": null,
      "outputs": []
    },
    {
      "cell_type": "code",
      "source": [
        "# imprime en postorden\n",
        "print(\"postorder:\")\n",
        "print(bst.postorder([]))\n",
        "print(\"#\")"
      ],
      "metadata": {
        "id": "0xkGecjMlyl6"
      },
      "execution_count": null,
      "outputs": []
    },
    {
      "cell_type": "code",
      "source": [
        "# imprime en inorden\n",
        "print(\"inorder:\")\n",
        "print(bst.inorder([]))\n",
        "print(\"#\")"
      ],
      "metadata": {
        "id": "O3JRBz9ql4Zh"
      },
      "execution_count": null,
      "outputs": []
    },
    {
      "cell_type": "code",
      "source": [
        "# usa otra muestra\n",
        "numeros = [12, 6, 10]"
      ],
      "metadata": {
        "id": "t-wcYAXoml52"
      },
      "execution_count": null,
      "outputs": []
    },
    {
      "cell_type": "code",
      "source": [
        "# borra algunos números\n",
        "print(\"deleting \" + str(nums))\n",
        "for num in nums: #numeros\n",
        "bst.delete(num)\n",
        "print(\"#\")"
      ],
      "metadata": {
        "id": "sUB5BPwymyGE"
      },
      "execution_count": null,
      "outputs": []
    },
    {
      "cell_type": "code",
      "source": [
        "# imprime \n",
        "print(\"4 exists:\")\n",
        "print(bst.exists(4))\n",
        "print(\"2 exists:\")\n",
        "print(bst.exists(2))\n",
        "print(\"12 exists:\")\n",
        "print(bst.exists(12))\n",
        "print(\"18 exists:\")\n",
        "print(bst.exists(18))"
      ],
      "metadata": {
        "id": "02f2D5zgk9_J"
      },
      "execution_count": null,
      "outputs": []
    }
  ]
}