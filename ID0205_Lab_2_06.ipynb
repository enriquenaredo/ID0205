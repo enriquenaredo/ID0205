{
  "nbformat": 4,
  "nbformat_minor": 0,
  "metadata": {
    "colab": {
      "provenance": []
    },
    "kernelspec": {
      "name": "python3",
      "display_name": "Python 3"
    },
    "language_info": {
      "name": "python"
    },
    "widgets": {
      "application/vnd.jupyter.widget-state+json": {
        "6253a1058dd8406e9e9f2963684d7ce9": {
          "model_module": "@jupyter-widgets/controls",
          "model_name": "VBoxModel",
          "model_module_version": "1.5.0",
          "state": {
            "_dom_classes": [
              "widget-interact"
            ],
            "_model_module": "@jupyter-widgets/controls",
            "_model_module_version": "1.5.0",
            "_model_name": "VBoxModel",
            "_view_count": null,
            "_view_module": "@jupyter-widgets/controls",
            "_view_module_version": "1.5.0",
            "_view_name": "VBoxView",
            "box_style": "",
            "children": [
              "IPY_MODEL_202c5454d235455987c8120dc2456b1f",
              "IPY_MODEL_932db3cb6b3d4a959fe30974c8db6ccb"
            ],
            "layout": "IPY_MODEL_0c83881524194fd4b5ac8757f8edbec7"
          }
        },
        "202c5454d235455987c8120dc2456b1f": {
          "model_module": "@jupyter-widgets/controls",
          "model_name": "IntSliderModel",
          "model_module_version": "1.5.0",
          "state": {
            "_dom_classes": [],
            "_model_module": "@jupyter-widgets/controls",
            "_model_module_version": "1.5.0",
            "_model_name": "IntSliderModel",
            "_view_count": null,
            "_view_module": "@jupyter-widgets/controls",
            "_view_module_version": "1.5.0",
            "_view_name": "IntSliderView",
            "continuous_update": true,
            "description": "n",
            "description_tooltip": null,
            "disabled": false,
            "layout": "IPY_MODEL_e8c7a135b08b42a4a425b00021d7b540",
            "max": 5,
            "min": 3,
            "orientation": "horizontal",
            "readout": true,
            "readout_format": "d",
            "step": 1,
            "style": "IPY_MODEL_8eb4d81516bb4def90a787546e7cd45b",
            "value": 5
          }
        },
        "932db3cb6b3d4a959fe30974c8db6ccb": {
          "model_module": "@jupyter-widgets/output",
          "model_name": "OutputModel",
          "model_module_version": "1.0.0",
          "state": {
            "_dom_classes": [],
            "_model_module": "@jupyter-widgets/output",
            "_model_module_version": "1.0.0",
            "_model_name": "OutputModel",
            "_view_count": null,
            "_view_module": "@jupyter-widgets/output",
            "_view_module_version": "1.0.0",
            "_view_name": "OutputView",
            "layout": "IPY_MODEL_97b6a78839df4aa487357aaf8ca51c81",
            "msg_id": "",
            "outputs": [
              {
                "output_type": "display_data",
                "data": {
                  "text/plain": "<Figure size 432x288 with 1 Axes>",
                  "image/png": "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\n"
                },
                "metadata": {
                  "needs_background": "light"
                }
              }
            ]
          }
        },
        "0c83881524194fd4b5ac8757f8edbec7": {
          "model_module": "@jupyter-widgets/base",
          "model_name": "LayoutModel",
          "model_module_version": "1.2.0",
          "state": {
            "_model_module": "@jupyter-widgets/base",
            "_model_module_version": "1.2.0",
            "_model_name": "LayoutModel",
            "_view_count": null,
            "_view_module": "@jupyter-widgets/base",
            "_view_module_version": "1.2.0",
            "_view_name": "LayoutView",
            "align_content": null,
            "align_items": null,
            "align_self": null,
            "border": null,
            "bottom": null,
            "display": null,
            "flex": null,
            "flex_flow": null,
            "grid_area": null,
            "grid_auto_columns": null,
            "grid_auto_flow": null,
            "grid_auto_rows": null,
            "grid_column": null,
            "grid_gap": null,
            "grid_row": null,
            "grid_template_areas": null,
            "grid_template_columns": null,
            "grid_template_rows": null,
            "height": null,
            "justify_content": null,
            "justify_items": null,
            "left": null,
            "margin": null,
            "max_height": null,
            "max_width": null,
            "min_height": null,
            "min_width": null,
            "object_fit": null,
            "object_position": null,
            "order": null,
            "overflow": null,
            "overflow_x": null,
            "overflow_y": null,
            "padding": null,
            "right": null,
            "top": null,
            "visibility": null,
            "width": null
          }
        },
        "e8c7a135b08b42a4a425b00021d7b540": {
          "model_module": "@jupyter-widgets/base",
          "model_name": "LayoutModel",
          "model_module_version": "1.2.0",
          "state": {
            "_model_module": "@jupyter-widgets/base",
            "_model_module_version": "1.2.0",
            "_model_name": "LayoutModel",
            "_view_count": null,
            "_view_module": "@jupyter-widgets/base",
            "_view_module_version": "1.2.0",
            "_view_name": "LayoutView",
            "align_content": null,
            "align_items": null,
            "align_self": null,
            "border": null,
            "bottom": null,
            "display": null,
            "flex": null,
            "flex_flow": null,
            "grid_area": null,
            "grid_auto_columns": null,
            "grid_auto_flow": null,
            "grid_auto_rows": null,
            "grid_column": null,
            "grid_gap": null,
            "grid_row": null,
            "grid_template_areas": null,
            "grid_template_columns": null,
            "grid_template_rows": null,
            "height": null,
            "justify_content": null,
            "justify_items": null,
            "left": null,
            "margin": null,
            "max_height": null,
            "max_width": null,
            "min_height": null,
            "min_width": null,
            "object_fit": null,
            "object_position": null,
            "order": null,
            "overflow": null,
            "overflow_x": null,
            "overflow_y": null,
            "padding": null,
            "right": null,
            "top": null,
            "visibility": null,
            "width": null
          }
        },
        "8eb4d81516bb4def90a787546e7cd45b": {
          "model_module": "@jupyter-widgets/controls",
          "model_name": "SliderStyleModel",
          "model_module_version": "1.5.0",
          "state": {
            "_model_module": "@jupyter-widgets/controls",
            "_model_module_version": "1.5.0",
            "_model_name": "SliderStyleModel",
            "_view_count": null,
            "_view_module": "@jupyter-widgets/base",
            "_view_module_version": "1.2.0",
            "_view_name": "StyleView",
            "description_width": "",
            "handle_color": null
          }
        },
        "97b6a78839df4aa487357aaf8ca51c81": {
          "model_module": "@jupyter-widgets/base",
          "model_name": "LayoutModel",
          "model_module_version": "1.2.0",
          "state": {
            "_model_module": "@jupyter-widgets/base",
            "_model_module_version": "1.2.0",
            "_model_name": "LayoutModel",
            "_view_count": null,
            "_view_module": "@jupyter-widgets/base",
            "_view_module_version": "1.2.0",
            "_view_name": "LayoutView",
            "align_content": null,
            "align_items": null,
            "align_self": null,
            "border": null,
            "bottom": null,
            "display": null,
            "flex": null,
            "flex_flow": null,
            "grid_area": null,
            "grid_auto_columns": null,
            "grid_auto_flow": null,
            "grid_auto_rows": null,
            "grid_column": null,
            "grid_gap": null,
            "grid_row": null,
            "grid_template_areas": null,
            "grid_template_columns": null,
            "grid_template_rows": null,
            "height": null,
            "justify_content": null,
            "justify_items": null,
            "left": null,
            "margin": null,
            "max_height": null,
            "max_width": null,
            "min_height": null,
            "min_width": null,
            "object_fit": null,
            "object_position": null,
            "order": null,
            "overflow": null,
            "overflow_x": null,
            "overflow_y": null,
            "padding": null,
            "right": null,
            "top": null,
            "visibility": null,
            "width": null
          }
        }
      }
    }
  },
  "cells": [
    {
      "cell_type": "markdown",
      "source": [
        "#ID0205 - Geometría Computacional\n",
        "\n",
        "### Primavera 2023\n",
        "\n",
        "### ID0205_Lab-2.06\n",
        "\n",
        "**Profesor Enrique Naredo García**\n",
        "\n",
        "<font size = 2> \n",
        "©️ Todos los derechos reservados. All rights reserved.\n",
        "\n",
        "*Nota: El presente documento es una herramienta diseñada única y exclusivamente para los estudiantes de la asignatura arriba mencionada. Queda prohibido compartir este documento entre otros estudiantes, aún siendo de la misma clase, grupo o de la Universidad sin consentimiento del autor. Queda prohibida la reproducción total o parcial de este documento por cualquier medio o procedimiento, ya sea electrónico o mecánico, el tratamiento informático, el alquiler o cualquier otra forma de cesión sin la autorización previa y por escrito del titular del copyright.*\n",
        "</font>"
      ],
      "metadata": {
        "id": "flADNon2eL4R"
      }
    },
    {
      "cell_type": "code",
      "source": [
        "from matplotlib.pyplot import *\n",
        "from numpy import *"
      ],
      "metadata": {
        "id": "rM2g8hQgiFCL"
      },
      "execution_count": null,
      "outputs": []
    },
    {
      "cell_type": "markdown",
      "source": [
        "**Ejemplo**\n",
        "\n",
        "En el siguiente código encontrararas un ejemplo de uso de entradas de teclado."
      ],
      "metadata": {
        "id": "CHGqHOU7_50m"
      }
    },
    {
      "cell_type": "code",
      "execution_count": 25,
      "metadata": {
        "colab": {
          "base_uri": "https://localhost:8080/",
          "height": 283
        },
        "id": "6pZaI5PueJ20",
        "outputId": "25a508b0-554e-4df9-f384-e28ca5421ec6"
      },
      "outputs": [
        {
          "name": "stdout",
          "output_type": "stream",
          "text": [
            "Quieres imprimir un triángulo (si/no): si\n"
          ]
        },
        {
          "output_type": "display_data",
          "data": {
            "text/plain": [
              "<Figure size 432x288 with 1 Axes>"
            ],
            "image/png": "[encoded data removed]"
          },
          "metadata": {
            "needs_background": "light"
          }
        }
      ],
      "source": [
        "# Ejemplo para recibir entradas de teclado\n",
        "respuesta = input('Quieres imprimir un triángulo (si/no): ')\n",
        "if respuesta == \"si\":\n",
        "  # número de datos requeridos\n",
        "  n = 3\n",
        "  # devuelve valores espaciados uniformemente dentro de un intervalo dado\n",
        "  # [start, ] stop, [step, ]\n",
        "  t = arange(0,360+(360/(n)),360/(n))\n",
        "  # coordenadas usando radianes\n",
        "  x = 10*sin(radians(t))\n",
        "  y = 10*cos(radians(t))\n",
        "  # grafica triángulo\n",
        "  plot(x,y)\n",
        "  # con los ejes iguales\n",
        "  axis('equal')\n",
        "else:\n",
        "  # en caso de que la respuesta no sea 'si'\n",
        "  print(\"Gracias por tu participación\")"
      ]
    },
    {
      "cell_type": "markdown",
      "source": [
        "**Ejercicio**\n",
        "\n",
        "Utiliza el código anterior y varia el factor usado para multiplicar ls funciones trigonométricas (seno, coseno), utiliza para este fin una entrada tipo 'input', con tal de que el usuario ingrese estos valores.\n",
        "\n"
      ],
      "metadata": {
        "id": "vcVEMZ-XAUtB"
      }
    },
    {
      "cell_type": "code",
      "source": [
        "# Aquí tu código\n",
        "\n",
        "\n",
        "\n",
        "\n",
        "\n",
        "\n",
        "\n",
        "\n",
        "\n",
        "\n"
      ],
      "metadata": {
        "id": "8rwBT2yEA1HR"
      },
      "execution_count": null,
      "outputs": []
    },
    {
      "cell_type": "markdown",
      "source": [
        "**Ejemplo**\n",
        "\n",
        "En el siguiente ejemplo se muestra el uso de una barra deslizadora para "
      ],
      "metadata": {
        "id": "Zex7SIchBE9V"
      }
    },
    {
      "cell_type": "code",
      "source": [
        "## Programación interactiva\n",
        "\n",
        "# importa 'widgets' que son controles interactivos\n",
        "from ipywidgets import interactive\n",
        "\n",
        "# define una función\n",
        "def lados(n):\n",
        "    t = np.arange(0,360+(360/(n)),360/(n))\n",
        "    x = 10*np.sin(np.radians(t))\n",
        "    y = 10*np.cos(np.radians(t))\n",
        "    plt.plot(x,y)\n",
        "    plt.axis('equal')\n",
        "\n",
        "# muestra el control interactivo\n",
        "interactive_plot = interactive(lados , n= (3,5))\n",
        "interactive_plot \n"
      ],
      "metadata": {
        "colab": {
          "base_uri": "https://localhost:8080/",
          "height": 297,
          "referenced_widgets": [
            "6253a1058dd8406e9e9f2963684d7ce9",
            "202c5454d235455987c8120dc2456b1f",
            "932db3cb6b3d4a959fe30974c8db6ccb",
            "0c83881524194fd4b5ac8757f8edbec7",
            "e8c7a135b08b42a4a425b00021d7b540",
            "8eb4d81516bb4def90a787546e7cd45b",
            "97b6a78839df4aa487357aaf8ca51c81"
          ]
        },
        "id": "JpDGLUYElik9",
        "outputId": "8b228f01-56ad-4639-e6f2-a04c6f7c5f59"
      },
      "execution_count": 31,
      "outputs": [
        {
          "output_type": "display_data",
          "data": {
            "text/plain": [
              "interactive(children=(IntSlider(value=4, description='n', max=5, min=3), Output()), _dom_classes=('widget-inte…"
            ],
            "application/vnd.jupyter.widget-view+json": {
              "version_major": 2,
              "version_minor": 0,
              "model_id": "6253a1058dd8406e9e9f2963684d7ce9"
            }
          },
          "metadata": {}
        }
      ]
    },
    {
      "cell_type": "markdown",
      "source": [
        "**Ejercicio**\n",
        "\n",
        "Utiliza el ejemplo anterior para definir:\n",
        "\n",
        "* Entrada por medio del usuario hasta 20 lados para la figura,\n",
        "\n",
        "* factor multiplicador para las funciones trigonométricas de 10 a 20."
      ],
      "metadata": {
        "id": "je8tW9sJClbK"
      }
    },
    {
      "cell_type": "code",
      "source": [
        "# Aquí tu código\n",
        "\n",
        "\n",
        "\n",
        "\n",
        "\n",
        "\n",
        "\n",
        "\n",
        "\n",
        "\n"
      ],
      "metadata": {
        "id": "a3-umJ4eJSYw"
      },
      "execution_count": null,
      "outputs": []
    },
    {
      "cell_type": "markdown",
      "source": [
        "**Ejemplo**\n",
        "\n",
        "En el siguiente ejemplo se muestra el uso de la librería 'Polygon'."
      ],
      "metadata": {
        "id": "ZU6Ib6TpH5TC"
      }
    },
    {
      "cell_type": "code",
      "source": [
        "from matplotlib.patches import Polygon\n",
        "\n",
        "pts = np.array([[2,2], [6,5], [3,7]])\n",
        "p = Polygon(pts, closed=False)\n",
        "ax = plt.gca()\n",
        "ax.add_patch(p)\n",
        "ax.set_xlim(1,7)\n",
        "ax.set_ylim(1,8)\n",
        "plt.show()"
      ],
      "metadata": {
        "colab": {
          "base_uri": "https://localhost:8080/",
          "height": 269
        },
        "id": "T-0DFy2wGD6Z",
        "outputId": "a5d84e85-3f94-47c4-a985-a088fe1fc30d"
      },
      "execution_count": 51,
      "outputs": [
        {
          "output_type": "display_data",
          "data": {
            "text/plain": [
              "<Figure size 432x288 with 1 Axes>"
            ],
            "image/png": "[encoded data removed]"
          },
          "metadata": {
            "needs_background": "light"
          }
        }
      ]
    },
    {
      "cell_type": "markdown",
      "source": [
        "**Ejercicio**\n",
        "\n",
        "Agrega entradas (input) y controles interactivos para generar  poligonos de varios lados usando la librería 'Polygon', de manera similar al ejercicio anterior."
      ],
      "metadata": {
        "id": "vEKvx9mvIEd3"
      }
    }
  ]
}