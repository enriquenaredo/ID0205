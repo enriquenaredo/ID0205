{
  "nbformat": 4,
  "nbformat_minor": 0,
  "metadata": {
    "colab": {
      "provenance": []
    },
    "kernelspec": {
      "name": "python3",
      "display_name": "Python 3"
    },
    "language_info": {
      "name": "python"
    },
    "widgets": {
      "application/vnd.jupyter.widget-state+json": {
        "8792a95de2f54fa594853a45bf35797e": {
          "model_module": "@jupyter-widgets/controls",
          "model_name": "VBoxModel",
          "model_module_version": "1.5.0",
          "state": {
            "_dom_classes": [
              "widget-interact"
            ],
            "_model_module": "@jupyter-widgets/controls",
            "_model_module_version": "1.5.0",
            "_model_name": "VBoxModel",
            "_view_count": null,
            "_view_module": "@jupyter-widgets/controls",
            "_view_module_version": "1.5.0",
            "_view_name": "VBoxView",
            "box_style": "",
            "children": [
              "IPY_MODEL_71865307f2cf4d948bf2171a4e0fc999",
              "IPY_MODEL_52e7d92449f44e49a3f7fcb029fda62d"
            ],
            "layout": "IPY_MODEL_3e9d6e1966e44f29a006d83c38e4dd46"
          }
        },
        "71865307f2cf4d948bf2171a4e0fc999": {
          "model_module": "@jupyter-widgets/controls",
          "model_name": "IntSliderModel",
          "model_module_version": "1.5.0",
          "state": {
            "_dom_classes": [],
            "_model_module": "@jupyter-widgets/controls",
            "_model_module_version": "1.5.0",
            "_model_name": "IntSliderModel",
            "_view_count": null,
            "_view_module": "@jupyter-widgets/controls",
            "_view_module_version": "1.5.0",
            "_view_name": "IntSliderView",
            "continuous_update": true,
            "description": "n",
            "description_tooltip": null,
            "disabled": false,
            "layout": "IPY_MODEL_f24e26e455524f02b05975504b206fed",
            "max": 5,
            "min": 3,
            "orientation": "horizontal",
            "readout": true,
            "readout_format": "d",
            "step": 1,
            "style": "IPY_MODEL_36924cd8cb8a4ab69d4518d134f91225",
            "value": 4
          }
        },
        "52e7d92449f44e49a3f7fcb029fda62d": {
          "model_module": "@jupyter-widgets/output",
          "model_name": "OutputModel",
          "model_module_version": "1.0.0",
          "state": {
            "_dom_classes": [],
            "_model_module": "@jupyter-widgets/output",
            "_model_module_version": "1.0.0",
            "_model_name": "OutputModel",
            "_view_count": null,
            "_view_module": "@jupyter-widgets/output",
            "_view_module_version": "1.0.0",
            "_view_name": "OutputView",
            "layout": "IPY_MODEL_00aa3ff7addf469f82209a2752b7d75b",
            "msg_id": "",
            "outputs": [
              {
                "output_type": "display_data",
                "data": {
                  "text/plain": "<Figure size 432x288 with 1 Axes>",
                  "image/png": "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\n"
                },
                "metadata": {
                  "needs_background": "light"
                }
              }
            ]
          }
        },
        "3e9d6e1966e44f29a006d83c38e4dd46": {
          "model_module": "@jupyter-widgets/base",
          "model_name": "LayoutModel",
          "model_module_version": "1.2.0",
          "state": {
            "_model_module": "@jupyter-widgets/base",
            "_model_module_version": "1.2.0",
            "_model_name": "LayoutModel",
            "_view_count": null,
            "_view_module": "@jupyter-widgets/base",
            "_view_module_version": "1.2.0",
            "_view_name": "LayoutView",
            "align_content": null,
            "align_items": null,
            "align_self": null,
            "border": null,
            "bottom": null,
            "display": null,
            "flex": null,
            "flex_flow": null,
            "grid_area": null,
            "grid_auto_columns": null,
            "grid_auto_flow": null,
            "grid_auto_rows": null,
            "grid_column": null,
            "grid_gap": null,
            "grid_row": null,
            "grid_template_areas": null,
            "grid_template_columns": null,
            "grid_template_rows": null,
            "height": null,
            "justify_content": null,
            "justify_items": null,
            "left": null,
            "margin": null,
            "max_height": null,
            "max_width": null,
            "min_height": null,
            "min_width": null,
            "object_fit": null,
            "object_position": null,
            "order": null,
            "overflow": null,
            "overflow_x": null,
            "overflow_y": null,
            "padding": null,
            "right": null,
            "top": null,
            "visibility": null,
            "width": null
          }
        },
        "f24e26e455524f02b05975504b206fed": {
          "model_module": "@jupyter-widgets/base",
          "model_name": "LayoutModel",
          "model_module_version": "1.2.0",
          "state": {
            "_model_module": "@jupyter-widgets/base",
            "_model_module_version": "1.2.0",
            "_model_name": "LayoutModel",
            "_view_count": null,
            "_view_module": "@jupyter-widgets/base",
            "_view_module_version": "1.2.0",
            "_view_name": "LayoutView",
            "align_content": null,
            "align_items": null,
            "align_self": null,
            "border": null,
            "bottom": null,
            "display": null,
            "flex": null,
            "flex_flow": null,
            "grid_area": null,
            "grid_auto_columns": null,
            "grid_auto_flow": null,
            "grid_auto_rows": null,
            "grid_column": null,
            "grid_gap": null,
            "grid_row": null,
            "grid_template_areas": null,
            "grid_template_columns": null,
            "grid_template_rows": null,
            "height": null,
            "justify_content": null,
            "justify_items": null,
            "left": null,
            "margin": null,
            "max_height": null,
            "max_width": null,
            "min_height": null,
            "min_width": null,
            "object_fit": null,
            "object_position": null,
            "order": null,
            "overflow": null,
            "overflow_x": null,
            "overflow_y": null,
            "padding": null,
            "right": null,
            "top": null,
            "visibility": null,
            "width": null
          }
        },
        "36924cd8cb8a4ab69d4518d134f91225": {
          "model_module": "@jupyter-widgets/controls",
          "model_name": "SliderStyleModel",
          "model_module_version": "1.5.0",
          "state": {
            "_model_module": "@jupyter-widgets/controls",
            "_model_module_version": "1.5.0",
            "_model_name": "SliderStyleModel",
            "_view_count": null,
            "_view_module": "@jupyter-widgets/base",
            "_view_module_version": "1.2.0",
            "_view_name": "StyleView",
            "description_width": "",
            "handle_color": null
          }
        },
        "00aa3ff7addf469f82209a2752b7d75b": {
          "model_module": "@jupyter-widgets/base",
          "model_name": "LayoutModel",
          "model_module_version": "1.2.0",
          "state": {
            "_model_module": "@jupyter-widgets/base",
            "_model_module_version": "1.2.0",
            "_model_name": "LayoutModel",
            "_view_count": null,
            "_view_module": "@jupyter-widgets/base",
            "_view_module_version": "1.2.0",
            "_view_name": "LayoutView",
            "align_content": null,
            "align_items": null,
            "align_self": null,
            "border": null,
            "bottom": null,
            "display": null,
            "flex": null,
            "flex_flow": null,
            "grid_area": null,
            "grid_auto_columns": null,
            "grid_auto_flow": null,
            "grid_auto_rows": null,
            "grid_column": null,
            "grid_gap": null,
            "grid_row": null,
            "grid_template_areas": null,
            "grid_template_columns": null,
            "grid_template_rows": null,
            "height": null,
            "justify_content": null,
            "justify_items": null,
            "left": null,
            "margin": null,
            "max_height": null,
            "max_width": null,
            "min_height": null,
            "min_width": null,
            "object_fit": null,
            "object_position": null,
            "order": null,
            "overflow": null,
            "overflow_x": null,
            "overflow_y": null,
            "padding": null,
            "right": null,
            "top": null,
            "visibility": null,
            "width": null
          }
        }
      }
    }
  },
  "cells": [
    {
      "cell_type": "markdown",
      "source": [
        "#ID0205 - Geometría Computacional\n",
        "\n",
        "### Primavera 2023\n",
        "\n",
        "### ID0205_Lab-2.06\n",
        "\n",
        "**Profesor Enrique Naredo García**\n",
        "\n",
        "<font size = 2> \n",
        "©️ Todos los derechos reservados. All rights reserved.\n",
        "\n",
        "*Nota: El presente documento es una herramienta diseñada única y exclusivamente para los estudiantes de la asignatura arriba mencionada. Queda prohibido compartir este documento entre otros estudiantes, aún siendo de la misma clase, grupo o de la Universidad sin consentimiento del autor. Queda prohibida la reproducción total o parcial de este documento por cualquier medio o procedimiento, ya sea electrónico o mecánico, el tratamiento informático, el alquiler o cualquier otra forma de cesión sin la autorización previa y por escrito del titular del copyright.*\n",
        "</font>"
      ],
      "metadata": {
        "id": "flADNon2eL4R"
      }
    },
    {
      "cell_type": "code",
      "source": [
        "import matplotlib.pyplot as plt\n",
        "from matplotlib.pyplot import *\n",
        "from numpy import *"
      ],
      "metadata": {
        "id": "rM2g8hQgiFCL"
      },
      "execution_count": 7,
      "outputs": []
    },
    {
      "cell_type": "markdown",
      "source": [
        "**Ejemplo**\n",
        "\n",
        "En el siguiente código encontrararas un ejemplo de uso de entradas de teclado."
      ],
      "metadata": {
        "id": "CHGqHOU7_50m"
      }
    },
    {
      "cell_type": "code",
      "execution_count": 2,
      "metadata": {
        "colab": {
          "base_uri": "https://localhost:8080/",
          "height": 283
        },
        "id": "6pZaI5PueJ20",
        "outputId": "83047ac1-d4c6-4876-e3bc-1379b6a05530"
      },
      "outputs": [
        {
          "name": "stdout",
          "output_type": "stream",
          "text": [
            "Quieres imprimir un triángulo (si/no): si\n"
          ]
        },
        {
          "output_type": "display_data",
          "data": {
            "text/plain": [
              "<Figure size 432x288 with 1 Axes>"
            ],
            "image/png": "[encoded data removed]"
          },
          "metadata": {
            "needs_background": "light"
          }
        }
      ],
      "source": [
        "# Ejemplo para recibir entradas de teclado\n",
        "respuesta = input('Quieres imprimir un triángulo (si/no): ')\n",
        "if respuesta == \"si\":\n",
        "  # número de datos requeridos\n",
        "  n = 3\n",
        "  # devuelve valores espaciados uniformemente dentro de un intervalo dado\n",
        "  # [start, ] stop, [step, ]\n",
        "  t = arange(0,360+(360/(n)),360/(n))\n",
        "  # coordenadas usando radianes\n",
        "  x = 10*sin(radians(t))\n",
        "  y = 10*cos(radians(t))\n",
        "  # grafica triángulo\n",
        "  plot(x,y)\n",
        "  # con los ejes iguales\n",
        "  axis('equal')\n",
        "else:\n",
        "  # en caso de que la respuesta no sea 'si'\n",
        "  print(\"Gracias por tu participación\")"
      ]
    },
    {
      "cell_type": "markdown",
      "source": [
        "**Ejercicio**\n",
        "\n",
        "Utiliza el código anterior y varia el factor usado para multiplicar ls funciones trigonométricas (seno, coseno), utiliza para este fin una entrada tipo 'input', con tal de que el usuario ingrese estos valores.\n",
        "\n"
      ],
      "metadata": {
        "id": "vcVEMZ-XAUtB"
      }
    },
    {
      "cell_type": "code",
      "source": [
        "# Aquí tu código\n",
        "\n",
        "\n",
        "\n",
        "\n",
        "\n",
        "\n",
        "\n",
        "\n",
        "\n",
        "\n"
      ],
      "metadata": {
        "id": "8rwBT2yEA1HR"
      },
      "execution_count": 3,
      "outputs": []
    },
    {
      "cell_type": "markdown",
      "source": [
        "**Ejemplo**\n",
        "\n",
        "En el siguiente ejemplo se muestra el uso de una barra deslizadora para "
      ],
      "metadata": {
        "id": "Zex7SIchBE9V"
      }
    },
    {
      "cell_type": "code",
      "source": [
        "## Programación interactiva\n",
        "\n",
        "# importa 'widgets' que son controles interactivos\n",
        "from ipywidgets import interactive\n",
        "\n",
        "# define una función\n",
        "def lados(n):\n",
        "    t = np.arange(0,360+(360/(n)),360/(n))\n",
        "    x = 10*np.sin(np.radians(t))\n",
        "    y = 10*np.cos(np.radians(t))\n",
        "    plt.plot(x,y)\n",
        "    plt.axis('equal')\n",
        "\n",
        "# muestra el control interactivo\n",
        "interactive_plot = interactive(lados , n= (3,5))\n",
        "interactive_plot \n"
      ],
      "metadata": {
        "colab": {
          "base_uri": "https://localhost:8080/",
          "height": 297,
          "referenced_widgets": [
            "8792a95de2f54fa594853a45bf35797e",
            "71865307f2cf4d948bf2171a4e0fc999",
            "52e7d92449f44e49a3f7fcb029fda62d",
            "3e9d6e1966e44f29a006d83c38e4dd46",
            "f24e26e455524f02b05975504b206fed",
            "36924cd8cb8a4ab69d4518d134f91225",
            "00aa3ff7addf469f82209a2752b7d75b"
          ]
        },
        "id": "JpDGLUYElik9",
        "outputId": "2183a4bd-7191-442a-8abd-f03794e17555"
      },
      "execution_count": 8,
      "outputs": [
        {
          "output_type": "display_data",
          "data": {
            "text/plain": [
              "interactive(children=(IntSlider(value=4, description='n', max=5, min=3), Output()), _dom_classes=('widget-inte…"
            ],
            "application/vnd.jupyter.widget-view+json": {
              "version_major": 2,
              "version_minor": 0,
              "model_id": "8792a95de2f54fa594853a45bf35797e"
            }
          },
          "metadata": {}
        }
      ]
    },
    {
      "cell_type": "markdown",
      "source": [
        "**Ejercicio**\n",
        "\n",
        "Utiliza el ejemplo anterior para definir:\n",
        "\n",
        "* Entrada por medio del usuario hasta 20 lados para la figura,\n",
        "\n",
        "* factor multiplicador para las funciones trigonométricas de 10 a 20."
      ],
      "metadata": {
        "id": "je8tW9sJClbK"
      }
    },
    {
      "cell_type": "code",
      "source": [
        "# Aquí tu código\n",
        "\n",
        "\n",
        "\n",
        "\n",
        "\n",
        "\n",
        "\n",
        "\n",
        "\n",
        "\n"
      ],
      "metadata": {
        "id": "a3-umJ4eJSYw"
      },
      "execution_count": 5,
      "outputs": []
    },
    {
      "cell_type": "markdown",
      "source": [
        "**Ejemplo**\n",
        "\n",
        "En el siguiente ejemplo se muestra el uso de la librería 'Polygon'."
      ],
      "metadata": {
        "id": "ZU6Ib6TpH5TC"
      }
    },
    {
      "cell_type": "code",
      "source": [
        "from matplotlib.patches import Polygon\n",
        "\n",
        "pts = np.array([[2,2], [6,5], [3,7]])\n",
        "p = Polygon(pts, closed=False)\n",
        "ax = plt.gca()\n",
        "ax.add_patch(p)\n",
        "ax.set_xlim(1,7)\n",
        "ax.set_ylim(1,8)\n",
        "plt.show()"
      ],
      "metadata": {
        "colab": {
          "base_uri": "https://localhost:8080/",
          "height": 269
        },
        "id": "T-0DFy2wGD6Z",
        "outputId": "231688cb-b8ae-48fd-8216-372dda9c1e60"
      },
      "execution_count": 9,
      "outputs": [
        {
          "output_type": "display_data",
          "data": {
            "text/plain": [
              "<Figure size 432x288 with 1 Axes>"
            ],
            "image/png": "[encoded data removed]"
          },
          "metadata": {
            "needs_background": "light"
          }
        }
      ]
    },
    {
      "cell_type": "markdown",
      "source": [
        "**Ejercicio**\n",
        "\n",
        "Agrega entradas (input) y controles interactivos para generar  poligonos de varios lados usando la librería 'Polygon', de manera similar al ejercicio anterior."
      ],
      "metadata": {
        "id": "vEKvx9mvIEd3"
      }
    }
  ]
}