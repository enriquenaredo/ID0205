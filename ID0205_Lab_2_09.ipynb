{
  "nbformat": 4,
  "nbformat_minor": 0,
  "metadata": {
    "colab": {
      "provenance": []
    },
    "kernelspec": {
      "name": "python3",
      "display_name": "Python 3"
    },
    "language_info": {
      "name": "python"
    }
  },
  "cells": [
    {
      "cell_type": "markdown",
      "source": [
        "#ID0205 - Geometría Computacional\n",
        "\n",
        "### Primavera 2023\n",
        "\n",
        "### ID0205_Lab-2.09\n",
        "\n",
        "**Profesor Enrique Naredo García**\n",
        "\n",
        "<font size = 2> \n",
        "©️ Todos los derechos reservados. All rights reserved.\n",
        "\n",
        "*Nota: El presente documento es una herramienta diseñada única y exclusivamente para los estudiantes de la asignatura arriba mencionada. Queda prohibido compartir este documento entre otros estudiantes, aún siendo de la misma clase, grupo o de la Universidad sin consentimiento del autor. Queda prohibida la reproducción total o parcial de este documento por cualquier medio o procedimiento, ya sea electrónico o mecánico, el tratamiento informático, el alquiler o cualquier otra forma de cesión sin la autorización previa y por escrito del titular del copyright.*\n",
        "</font>"
      ],
      "metadata": {
        "id": "JvyprfISK8Pc"
      }
    },
    {
      "cell_type": "markdown",
      "source": [
        "Una [triangulación de Delaunay](https://es.wikipedia.org/wiki/Triangulaci%C3%B3n_de_Delaunay) (pronunciado «Deloné»), es una red de triángulos conexa y convexa que cumple la condición de Delaunay. \n",
        "\n",
        "* Esta condición dice que la circunferencia circunscrita de cada triángulo de la red no debe contener ningún vértice de otro triángulo. \n",
        "\n",
        "* Las triangulaciones de Delaunay tienen importante relevancia en el campo de la geometría computacional, especialmente en gráficos 3D por computadora. "
      ],
      "metadata": {
        "id": "oVGRsKSYWBUW"
      }
    },
    {
      "cell_type": "markdown",
      "source": [
        "En este notebook se requiere que primero uses los siguientes nombres de los datos que vienen con la librería [Triangle](https://rufat.be/triangle/index.html) para realizar triangulaciones:\n",
        "\n",
        "* 'spiral'\n",
        "* 'ell'\n",
        "* 'spiral'\n",
        "* 'greenland'\n",
        "* 'square_circle_hole'\n",
        "\n",
        "**Nota:** Aplica un tipo de triangulación diferente en cada caso."
      ],
      "metadata": {
        "id": "o9fkxY9SVXhb"
      }
    },
    {
      "cell_type": "code",
      "execution_count": null,
      "metadata": {
        "id": "UHKk-_GvK2mc"
      },
      "outputs": [],
      "source": [
        "# Aquí tu código\n",
        "\n",
        "\n",
        "\n",
        "\n",
        "\n",
        "\n",
        "\n"
      ]
    },
    {
      "cell_type": "code",
      "execution_count": null,
      "metadata": {
        "id": "D02tqKbKv8OL"
      },
      "outputs": [],
      "source": [
        "# Aquí tu código\n",
        "\n",
        "\n",
        "\n",
        "\n",
        "\n",
        "\n",
        "\n"
      ]
    },
    {
      "cell_type": "code",
      "execution_count": null,
      "metadata": {
        "id": "hdh2899hw2sT"
      },
      "outputs": [],
      "source": [
        "# Aquí tu código\n",
        "\n",
        "\n",
        "\n",
        "\n",
        "\n",
        "\n",
        "\n"
      ]
    },
    {
      "cell_type": "code",
      "source": [
        "# Aquí tu código\n",
        "\n",
        "\n",
        "\n",
        "\n",
        "\n",
        "\n",
        "\n"
      ],
      "metadata": {
        "id": "ud-iQkOiXVXh"
      },
      "execution_count": null,
      "outputs": []
    },
    {
      "cell_type": "code",
      "source": [
        "# Aquí tu código\n",
        "\n",
        "\n",
        "\n",
        "\n",
        "\n",
        "\n",
        "\n"
      ],
      "metadata": {
        "id": "-KCPA47cXU8Z"
      },
      "execution_count": null,
      "outputs": []
    },
    {
      "cell_type": "code",
      "execution_count": null,
      "metadata": {
        "colab": {
          "base_uri": "https://localhost:8080/",
          "height": 169
        },
        "id": "BR17IreryquM",
        "outputId": "e8f90dc6-2771-418a-97aa-2ef8bb490fd8"
      },
      "outputs": [
        {
          "output_type": "error",
          "ename": "NameError",
          "evalue": "ignored",
          "traceback": [
            "\u001b[0;31m---------------------------------------------------------------------------\u001b[0m",
            "\u001b[0;31mNameError\u001b[0m                                 Traceback (most recent call last)",
            "\u001b[0;32m<ipython-input-8-31836aeaab22>\u001b[0m in \u001b[0;36m<module>\u001b[0;34m\u001b[0m\n\u001b[0;32m----> 1\u001b[0;31m \u001b[0mB\u001b[0m\u001b[0;34m\u001b[0m\u001b[0;34m\u001b[0m\u001b[0m\n\u001b[0m",
            "\u001b[0;31mNameError\u001b[0m: name 'B' is not defined"
          ]
        }
      ],
      "source": [
        "B"
      ]
    },
    {
      "cell_type": "code",
      "execution_count": null,
      "metadata": {
        "colab": {
          "base_uri": "https://localhost:8080/"
        },
        "id": "XG-gNA4syssv",
        "outputId": "3ea30bce-1270-4f54-d2d9-29f23e79554c"
      },
      "outputs": [
        {
          "data": {
            "text/plain": [
              "{'vertices': [[0, 0], [0, 1], [1, 1], [1, 0]]}"
            ]
          },
          "execution_count": 53,
          "metadata": {},
          "output_type": "execute_result"
        }
      ],
      "source": [
        "A"
      ]
    },
    {
      "cell_type": "code",
      "execution_count": null,
      "metadata": {
        "colab": {
          "background_save": true,
          "base_uri": "https://localhost:8080/",
          "height": 229
        },
        "id": "EwTZnz4zbVF7",
        "outputId": "483cff3b-d8da-48d1-fa88-be27580492f5"
      },
      "outputs": [
        {
          "data": {
            "image/png": "[encoded data removed]",
            "text/plain": [
              "<Figure size 432x216 with 2 Axes>"
            ]
          },
          "metadata": {},
          "output_type": "display_data"
        }
      ],
      "source": [
        "pts = [[0, 0], [0, 1], [1, 1], [1, 0]]\n",
        "\n",
        "segments = tr.convex_hull(pts)\n",
        "A = dict(vertices=pts)\n",
        "\n",
        "B = dict(vertices=tr.convex_hull(pts))\n",
        "\n",
        "#B = tr.convex_hull(A)\n",
        "\n",
        "tr.compare(plt, A, B) \n",
        "\n",
        "\n",
        "#tr.plot(plt.axes(), **A)\n",
        "plt.show()"
      ]
    },
    {
      "cell_type": "code",
      "execution_count": null,
      "metadata": {
        "id": "UwxTypnKw2nk"
      },
      "outputs": [],
      "source": []
    },
    {
      "cell_type": "code",
      "execution_count": null,
      "metadata": {
        "id": "IwN6IgcGv8Jb"
      },
      "outputs": [],
      "source": []
    },
    {
      "cell_type": "code",
      "execution_count": null,
      "metadata": {
        "colab": {
          "base_uri": "https://localhost:8080/"
        },
        "id": "kJtKZoJUsj72",
        "outputId": "1f44df92-b7e8-41be-f134-8688b1cd4445"
      },
      "outputs": [
        {
          "data": {
            "text/plain": [
              "array([[3, 0],\n",
              "       [2, 3],\n",
              "       [1, 2],\n",
              "       [0, 1]], dtype=int32)"
            ]
          },
          "execution_count": 22,
          "metadata": {},
          "output_type": "execute_result"
        }
      ],
      "source": [
        "segments"
      ]
    },
    {
      "cell_type": "code",
      "execution_count": null,
      "metadata": {
        "colab": {
          "base_uri": "https://localhost:8080/"
        },
        "id": "I_eKEkRAtLxt",
        "outputId": "1877fbd9-c2aa-43d3-ec7a-f0b059206c12"
      },
      "outputs": [
        {
          "data": {
            "text/plain": [
              "{'vertices': array([[0, 0],\n",
              "        [0, 1],\n",
              "        [1, 1],\n",
              "        [1, 0]])}"
            ]
          },
          "execution_count": 25,
          "metadata": {},
          "output_type": "execute_result"
        }
      ],
      "source": [
        "A"
      ]
    },
    {
      "cell_type": "code",
      "execution_count": null,
      "metadata": {
        "id": "WGyaoPK1bVD0"
      },
      "outputs": [],
      "source": []
    },
    {
      "cell_type": "code",
      "execution_count": null,
      "metadata": {
        "id": "QmKH-7fjbVfS"
      },
      "outputs": [],
      "source": []
    },
    {
      "cell_type": "code",
      "execution_count": null,
      "metadata": {
        "colab": {
          "base_uri": "https://localhost:8080/",
          "height": 229
        },
        "id": "C_lnR0libVfT",
        "outputId": "63e6c8c2-ec3c-4972-ba76-e06682139fcc"
      },
      "outputs": [
        {
          "data": {
            "image/png": "[encoded data removed]",
            "text/plain": [
              "<Figure size 432x216 with 2 Axes>"
            ]
          },
          "metadata": {},
          "output_type": "display_data"
        }
      ],
      "source": [
        "\n",
        "# arrays to fill in with input\n",
        "vertices = []\n",
        "segments = []\n",
        "regions = []\n",
        "\n",
        "# make a box with given dims and place given attribute at its center\n",
        "def make_box(x, y, w, h, attribute):\n",
        "\n",
        "    i = len(vertices)\n",
        "    \n",
        "    vertices.extend([[x,   y],\n",
        "                     [x+w, y],\n",
        "                     [x+w, y+h],\n",
        "                     [x,   y+h]])\n",
        "\n",
        "    segments.extend([(i+0, i+1),\n",
        "                     (i+1, i+2),\n",
        "                     (i+2, i+3),\n",
        "                     (i+3, i+0)])\n",
        "    \n",
        "    regions.append([x+0.5*w, y+0.5*h, attribute, 0])\n",
        "\n",
        "# generate some input    \n",
        "make_box(0, 0, 5, 5, 1)\n",
        "make_box(1, 1, 3, 1, 2)\n",
        "make_box(1, 3, 1, 1, 3)\n",
        "make_box(3, 3, 1, 1, 4)\n",
        "\n",
        "A = dict(vertices=vertices, segments=segments, regions=regions)\n",
        "B = tr.triangulate(A, 'pA')\n",
        "    \n",
        "tr.compare(plt, A, B)\n",
        "plt.show()"
      ]
    },
    {
      "cell_type": "code",
      "execution_count": null,
      "metadata": {
        "id": "kMnTZ8y1bVfU"
      },
      "outputs": [],
      "source": []
    },
    {
      "cell_type": "code",
      "execution_count": null,
      "metadata": {
        "id": "JYAaDXG5bVfU"
      },
      "outputs": [],
      "source": [
        "def test_tripcolor():\n",
        "    x = np.asarray([0, 0.5, 1, 0,   0.5, 1,   0, 0.5, 1, 0.75])\n",
        "    y = np.asarray([0, 0,   0, 0.5, 0.5, 0.5, 1, 1,   1, 0.75])\n",
        "    triangles = np.asarray([\n",
        "        [0, 1, 3], [1, 4, 3],\n",
        "        [1, 2, 4], [2, 5, 4],\n",
        "        [3, 4, 6], [4, 7, 6],\n",
        "        [4, 5, 9], [7, 4, 9], [8, 7, 9], [5, 8, 9]])\n",
        "\n",
        "    # Triangulation with same number of points and triangles.\n",
        "    triang = mtri.Triangulation(x, y, triangles)\n",
        "\n",
        "    Cpoints = x + 0.5*y\n",
        "\n",
        "    xmid = x[triang.triangles].mean(axis=1)\n",
        "    ymid = y[triang.triangles].mean(axis=1)\n",
        "    Cfaces = 0.5*xmid + ymid\n",
        "\n",
        "    plt.subplot(121)\n",
        "    plt.tripcolor(triang, Cpoints, edgecolors='k')\n",
        "    plt.title('point colors')\n",
        "\n",
        "    plt.subplot(122)\n",
        "    plt.tripcolor(triang, facecolors=Cfaces, edgecolors='k')\n",
        "    plt.title('facecolors') "
      ]
    },
    {
      "cell_type": "code",
      "execution_count": null,
      "metadata": {
        "colab": {
          "base_uri": "https://localhost:8080/",
          "height": 281
        },
        "id": "vIfWUEOjbVfU",
        "outputId": "685ff15f-a4e8-4d94-ec6e-4539f660cfa6"
      },
      "outputs": [
        {
          "data": {
            "image/png": "[encoded data removed]",
            "text/plain": [
              "<Figure size 432x288 with 2 Axes>"
            ]
          },
          "metadata": {},
          "output_type": "display_data"
        }
      ],
      "source": [
        "test_tripcolor()"
      ]
    },
    {
      "cell_type": "code",
      "execution_count": null,
      "metadata": {
        "id": "FNorO1T6bVfU"
      },
      "outputs": [],
      "source": []
    },
    {
      "cell_type": "code",
      "execution_count": null,
      "metadata": {
        "id": "QUW4c7cqbVfV"
      },
      "outputs": [],
      "source": []
    },
    {
      "cell_type": "code",
      "execution_count": null,
      "metadata": {
        "id": "uapPYKPBbVfV"
      },
      "outputs": [],
      "source": []
    },
    {
      "cell_type": "code",
      "execution_count": null,
      "metadata": {
        "id": "qRy7EMp-bVfV"
      },
      "outputs": [],
      "source": [
        "def test_tripcolor():\n",
        "    x = np.asarray([0, 0.5, 1, 0, 0.5, 1, 0, 0.5, 1, 0.75])\n",
        "\n",
        "    y = np.asarray([0, 0, 0, 0.5, 0.5, 0.5, 1, 1, 1, 0.75])\n",
        "\n",
        "    triangles = np.asarray([\n",
        "        [0, 1, 3], [1, 4, 3],\n",
        "        [1, 2, 4], [2, 5, 4],\n",
        "        [3, 4, 6], [4, 7, 6],\n",
        "        [4, 5, 9], [7, 4, 9], \n",
        "        [8, 7, 9], [5, 8, 9]])\n",
        "\n",
        "    # Triangulation with same number of points and triangles.\n",
        "    triang = mtri.Triangulation(x, y, triangles)\n",
        "\n",
        "    Cpoints = x + 0.5*y\n",
        "\n",
        "    xmid = x[triang.triangles].mean(axis=1)\n",
        "    ymid = y[triang.triangles].mean(axis=1)\n",
        "    Cfaces = 0.5*xmid + ymid\n",
        "\n",
        "    plt.subplot(121)\n",
        "    plt.tripcolor(triang, Cpoints, edgecolors='k')\n",
        "    plt.title('point colors')\n",
        "\n",
        "    plt.subplot(122)\n",
        "    plt.tripcolor(triang, facecolors=Cfaces, edgecolors='k')\n",
        "    plt.title('facecolors') "
      ]
    },
    {
      "cell_type": "code",
      "execution_count": null,
      "metadata": {
        "colab": {
          "base_uri": "https://localhost:8080/",
          "height": 281
        },
        "id": "aijsySZKbVfV",
        "outputId": "ae4a2ccb-0178-447e-81b8-126cc2651462"
      },
      "outputs": [
        {
          "data": {
            "image/png": "[encoded data removed]",
            "text/plain": [
              "<Figure size 432x288 with 2 Axes>"
            ]
          },
          "metadata": {},
          "output_type": "display_data"
        }
      ],
      "source": [
        "test_tripcolor()"
      ]
    },
    {
      "cell_type": "code",
      "execution_count": null,
      "metadata": {
        "id": "timZ91rEbVfV"
      },
      "outputs": [],
      "source": []
    },
    {
      "cell_type": "code",
      "execution_count": null,
      "metadata": {
        "colab": {
          "base_uri": "https://localhost:8080/"
        },
        "id": "2yHnOCPJbVfW",
        "outputId": "56ec3424-d396-46fb-8549-ebed8ae71d8d"
      },
      "outputs": [
        {
          "name": "stdout",
          "output_type": "stream",
          "text": [
            "15.3006\n"
          ]
        }
      ],
      "source": [
        "# Recursive implementation for minimum\n",
        "# cost convex polygon triangulation\n",
        "from math import sqrt\n",
        "MAX = 1000000.0\n",
        "\n",
        "# A utility function to find distance\n",
        "# between two points in a plane\n",
        "def dist(p1, p2):\n",
        "\treturn sqrt((p1[0] - p2[0])*(p1[0] - p2[0]) + \\\n",
        "\t\t\t\t(p1[1] - p2[1])*(p1[1] - p2[1]))\n",
        "\n",
        "# A utility function to find cost of\n",
        "# a triangle. The cost is considered\n",
        "# as perimeter (sum of lengths of all edges)\n",
        "# of the triangle\n",
        "def cost(points, i, j, k):\n",
        "\tp1 = points[i]\n",
        "\tp2 = points[j]\n",
        "\tp3 = points[k]\n",
        "\treturn dist(p1, p2) + dist(p2, p3) + dist(p3, p1)\n",
        "\n",
        "\n",
        "# A recursive function to find minimum\n",
        "# cost of polygon triangulation\n",
        "# The polygon is represented by points[i..j].\n",
        "def mTC(points, i, j):\n",
        "\t\n",
        "\t# There must be at least three points between i and j\n",
        "\t# (including i and j)\n",
        "\tif (j < i + 2):\n",
        "\t\treturn 0\n",
        "\t\t\n",
        "\t# Initialize result as infinite\n",
        "\tres = MAX\n",
        "\t\n",
        "\t# Find minimum triangulation by considering all\n",
        "\tfor k in range(i + 1, j):\n",
        "\t\tres = min(res, (mTC(points, i, k) + \\\n",
        "\t\t\t\t\t\tmTC(points, k, j) + \\\n",
        "\t\t\t\t\t\tcost(points, i, k, j)))\n",
        "\t\n",
        "\treturn round(res, 4)\n",
        "\n",
        "\n",
        "# Driver code\n",
        "points = [[0, 0], [1, 0], [2, 1], [1, 2], [0, 2]]\n",
        "n = len(points)\n",
        "print(mTC(points, 0, n-1))\n",
        "\n",
        "# This code is contributed by SHUBHAMSINGH10\n"
      ]
    },
    {
      "cell_type": "code",
      "execution_count": null,
      "metadata": {
        "id": "_PMppvNybVfW"
      },
      "outputs": [],
      "source": []
    },
    {
      "cell_type": "code",
      "execution_count": null,
      "metadata": {
        "id": "ysbmD9wObVfW"
      },
      "outputs": [],
      "source": []
    },
    {
      "cell_type": "code",
      "execution_count": null,
      "metadata": {
        "id": "NTzY7yy2bVfX"
      },
      "outputs": [],
      "source": []
    },
    {
      "cell_type": "code",
      "execution_count": null,
      "metadata": {
        "id": "bP41axybbVfX"
      },
      "outputs": [],
      "source": []
    },
    {
      "cell_type": "code",
      "execution_count": null,
      "metadata": {
        "id": "ZvhI6ovMbVfX"
      },
      "outputs": [],
      "source": []
    },
    {
      "cell_type": "code",
      "execution_count": null,
      "metadata": {
        "id": "kfmjnHribVfX"
      },
      "outputs": [],
      "source": [
        "x = np.asarray([0, 0.5, 1, 0, 0.5, 1, 0, 0.5, 1, 0.75])\n",
        "\n",
        "y = np.asarray([0, 0, 0, 0.5, 0.5, 0.5, 1, 1, 1, 0.75])"
      ]
    },
    {
      "cell_type": "code",
      "execution_count": null,
      "metadata": {
        "colab": {
          "base_uri": "https://localhost:8080/"
        },
        "id": "3e52T81zbVfX",
        "outputId": "45fd6bbd-3b8a-49be-8c30-173ce95e6f13"
      },
      "outputs": [
        {
          "name": "stdout",
          "output_type": "stream",
          "text": [
            "Looking in indexes: https://pypi.org/simple, https://us-python.pkg.dev/colab-wheels/public/simple/\n",
            "Collecting polygon\n",
            "  Downloading polygon-1.1.0-py2.py3-none-any.whl (98 kB)\n",
            "\u001b[2K     \u001b[90m━━━━━━━━━━━━━━━━━━━━━━━━━━━━━━━━━━━━━━━━\u001b[0m \u001b[32m98.9/98.9 KB\u001b[0m \u001b[31m3.1 MB/s\u001b[0m eta \u001b[36m0:00:00\u001b[0m\n",
            "\u001b[?25hCollecting websocket-client\n",
            "  Downloading websocket_client-1.5.1-py3-none-any.whl (55 kB)\n",
            "\u001b[2K     \u001b[90m━━━━━━━━━━━━━━━━━━━━━━━━━━━━━━━━━━━━━━━━\u001b[0m \u001b[32m55.9/55.9 KB\u001b[0m \u001b[31m6.8 MB/s\u001b[0m eta \u001b[36m0:00:00\u001b[0m\n",
            "\u001b[?25hCollecting httpx\n",
            "  Downloading httpx-0.23.3-py3-none-any.whl (71 kB)\n",
            "\u001b[2K     \u001b[90m━━━━━━━━━━━━━━━━━━━━━━━━━━━━━━━━━━━━━━━━\u001b[0m \u001b[32m71.5/71.5 KB\u001b[0m \u001b[31m7.0 MB/s\u001b[0m eta \u001b[36m0:00:00\u001b[0m\n",
            "\u001b[?25hCollecting websockets\n",
            "  Downloading websockets-10.4-cp38-cp38-manylinux_2_5_x86_64.manylinux1_x86_64.manylinux_2_17_x86_64.manylinux2014_x86_64.whl (106 kB)\n",
            "\u001b[2K     \u001b[90m━━━━━━━━━━━━━━━━━━━━━━━━━━━━━━━━━━━━━━\u001b[0m \u001b[32m107.0/107.0 KB\u001b[0m \u001b[31m14.5 MB/s\u001b[0m eta \u001b[36m0:00:00\u001b[0m\n",
            "\u001b[?25hRequirement already satisfied: requests in /usr/local/lib/python3.8/dist-packages (from polygon) (2.25.1)\n",
            "Collecting httpcore<0.17.0,>=0.15.0\n",
            "  Downloading httpcore-0.16.3-py3-none-any.whl (69 kB)\n",
            "\u001b[2K     \u001b[90m━━━━━━━━━━━━━━━━━━━━━━━━━━━━━━━━━━━━━━━━\u001b[0m \u001b[32m69.6/69.6 KB\u001b[0m \u001b[31m9.1 MB/s\u001b[0m eta \u001b[36m0:00:00\u001b[0m\n",
            "\u001b[?25hRequirement already satisfied: certifi in /usr/local/lib/python3.8/dist-packages (from httpx->polygon) (2022.12.7)\n",
            "Collecting rfc3986[idna2008]<2,>=1.3\n",
            "  Downloading rfc3986-1.5.0-py2.py3-none-any.whl (31 kB)\n",
            "Collecting sniffio\n",
            "  Downloading sniffio-1.3.0-py3-none-any.whl (10 kB)\n",
            "Requirement already satisfied: chardet<5,>=3.0.2 in /usr/local/lib/python3.8/dist-packages (from requests->polygon) (4.0.0)\n",
            "Requirement already satisfied: urllib3<1.27,>=1.21.1 in /usr/local/lib/python3.8/dist-packages (from requests->polygon) (1.24.3)\n",
            "Requirement already satisfied: idna<3,>=2.5 in /usr/local/lib/python3.8/dist-packages (from requests->polygon) (2.10)\n",
            "Collecting h11<0.15,>=0.13\n",
            "  Downloading h11-0.14.0-py3-none-any.whl (58 kB)\n",
            "\u001b[2K     \u001b[90m━━━━━━━━━━━━━━━━━━━━━━━━━━━━━━━━━━━━━━━━\u001b[0m \u001b[32m58.3/58.3 KB\u001b[0m \u001b[31m7.3 MB/s\u001b[0m eta \u001b[36m0:00:00\u001b[0m\n",
            "\u001b[?25hCollecting anyio<5.0,>=3.0\n",
            "  Downloading anyio-3.6.2-py3-none-any.whl (80 kB)\n",
            "\u001b[2K     \u001b[90m━━━━━━━━━━━━━━━━━━━━━━━━━━━━━━━━━━━━━━━━\u001b[0m \u001b[32m80.6/80.6 KB\u001b[0m \u001b[31m10.3 MB/s\u001b[0m eta \u001b[36m0:00:00\u001b[0m\n",
            "\u001b[?25hInstalling collected packages: rfc3986, websockets, websocket-client, sniffio, h11, anyio, httpcore, httpx, polygon\n",
            "Successfully installed anyio-3.6.2 h11-0.14.0 httpcore-0.16.3 httpx-0.23.3 polygon-1.1.0 rfc3986-1.5.0 sniffio-1.3.0 websocket-client-1.5.1 websockets-10.4\n"
          ]
        }
      ],
      "source": [
        "!pip install polygon"
      ]
    },
    {
      "cell_type": "code",
      "execution_count": null,
      "metadata": {
        "id": "UwSNJ4_NbVfX"
      },
      "outputs": [],
      "source": [
        "import polygon as Polygon\n",
        "from polygon import (StocksClient, ForexClient, StreamClient, build_option_symbol)"
      ]
    },
    {
      "cell_type": "code",
      "execution_count": null,
      "metadata": {
        "colab": {
          "base_uri": "https://localhost:8080/",
          "height": 205
        },
        "id": "x_Ps-PQgbVfY",
        "outputId": "9fc76884-3c05-4c44-c020-688e22f91a5e"
      },
      "outputs": [
        {
          "ename": "TypeError",
          "evalue": "ignored",
          "output_type": "error",
          "traceback": [
            "\u001b[0;31m---------------------------------------------------------------------------\u001b[0m",
            "\u001b[0;31mTypeError\u001b[0m                                 Traceback (most recent call last)",
            "\u001b[0;32m<ipython-input-11-ca34ab7bcf1d>\u001b[0m in \u001b[0;36m<module>\u001b[0;34m\u001b[0m\n\u001b[0;32m----> 1\u001b[0;31m \u001b[0mP\u001b[0m \u001b[0;34m=\u001b[0m \u001b[0mPolygon\u001b[0m \u001b[0;34m[\u001b[0m\u001b[0;34m(\u001b[0m\u001b[0;36m2.00\u001b[0m\u001b[0;34m,\u001b[0m \u001b[0;36m3.00\u001b[0m\u001b[0;34m)\u001b[0m\u001b[0;34m,\u001b[0m \u001b[0;34m(\u001b[0m\u001b[0;36m3.00\u001b[0m\u001b[0;34m,\u001b[0m \u001b[0;36m3.00\u001b[0m\u001b[0;34m)\u001b[0m\u001b[0;34m,\u001b[0m \u001b[0;34m(\u001b[0m\u001b[0;36m3.00\u001b[0m\u001b[0;34m,\u001b[0m \u001b[0;36m2.00\u001b[0m\u001b[0;34m)\u001b[0m\u001b[0;34m,\u001b[0m \u001b[0;34m(\u001b[0m\u001b[0;36m4.00\u001b[0m\u001b[0;34m,\u001b[0m \u001b[0;36m2.00\u001b[0m\u001b[0;34m)\u001b[0m\u001b[0;34m,\u001b[0m \u001b[0;34m(\u001b[0m\u001b[0;36m4.00\u001b[0m\u001b[0;34m,\u001b[0m \u001b[0;36m4.00\u001b[0m\u001b[0;34m)\u001b[0m\u001b[0;34m,\u001b[0m \u001b[0;34m(\u001b[0m\u001b[0;36m2.00\u001b[0m\u001b[0;34m,\u001b[0m \u001b[0;36m4.00\u001b[0m\u001b[0;34m)\u001b[0m\u001b[0;34m]\u001b[0m\u001b[0;34m\u001b[0m\u001b[0;34m\u001b[0m\u001b[0m\n\u001b[0m\u001b[1;32m      2\u001b[0m \u001b[0;34m\u001b[0m\u001b[0m\n\u001b[1;32m      3\u001b[0m \u001b[0mP\u001b[0m \u001b[0;34m=\u001b[0m \u001b[0mPolygon\u001b[0m\u001b[0;34m.\u001b[0m\u001b[0mconvex_decompose\u001b[0m\u001b[0;34m(\u001b[0m\u001b[0mP\u001b[0m\u001b[0;34m)\u001b[0m\u001b[0;34m\u001b[0m\u001b[0;34m\u001b[0m\u001b[0m\n",
            "\u001b[0;31mTypeError\u001b[0m: 'module' object is not subscriptable"
          ]
        }
      ],
      "source": [
        "\n",
        "\n",
        "P = Polygon [(2.00, 3.00), (3.00, 3.00), (3.00, 2.00), (4.00, 2.00), (4.00, 4.00), (2.00, 4.00)] \n",
        "\n",
        "P = Polygon.convex_decompose(P)"
      ]
    },
    {
      "cell_type": "code",
      "execution_count": null,
      "metadata": {
        "id": "qobIYha3bVfY"
      },
      "outputs": [],
      "source": []
    },
    {
      "cell_type": "code",
      "execution_count": null,
      "metadata": {
        "id": "MgX0NVKIbVfY"
      },
      "outputs": [],
      "source": []
    },
    {
      "cell_type": "code",
      "execution_count": null,
      "metadata": {
        "id": "7fipPCgpbVfY"
      },
      "outputs": [],
      "source": []
    },
    {
      "cell_type": "code",
      "execution_count": null,
      "metadata": {
        "id": "GzruPWAybVfY"
      },
      "outputs": [],
      "source": []
    },
    {
      "cell_type": "code",
      "execution_count": null,
      "metadata": {
        "id": "2ZUNq9S3bVfY"
      },
      "outputs": [],
      "source": []
    },
    {
      "cell_type": "code",
      "execution_count": null,
      "metadata": {
        "id": "SZpbG01cbVfY"
      },
      "outputs": [],
      "source": []
    },
    {
      "cell_type": "code",
      "execution_count": null,
      "metadata": {
        "id": "j__Fkk70bVfY"
      },
      "outputs": [],
      "source": []
    },
    {
      "cell_type": "code",
      "execution_count": null,
      "metadata": {
        "id": "gyKdzoFZbVfY"
      },
      "outputs": [],
      "source": [
        "# Aquí tu código\n",
        "\n",
        "\n",
        "\n",
        "\n",
        "\n",
        "\n",
        "\n",
        "\n",
        "\n",
        "\n"
      ]
    },
    {
      "cell_type": "code",
      "execution_count": null,
      "metadata": {
        "id": "nYe38FyObVfZ"
      },
      "outputs": [],
      "source": []
    },
    {
      "cell_type": "code",
      "execution_count": null,
      "metadata": {
        "id": "OzpVlzxXbVfZ"
      },
      "outputs": [],
      "source": []
    },
    {
      "cell_type": "code",
      "execution_count": null,
      "metadata": {
        "id": "arxksSUgbVfZ"
      },
      "outputs": [],
      "source": []
    },
    {
      "cell_type": "code",
      "execution_count": null,
      "metadata": {
        "id": "1W7c7Hl1bVfZ"
      },
      "outputs": [],
      "source": []
    },
    {
      "cell_type": "code",
      "execution_count": null,
      "metadata": {
        "id": "8tD_p1kYbVfZ"
      },
      "outputs": [],
      "source": []
    },
    {
      "cell_type": "code",
      "execution_count": null,
      "metadata": {
        "id": "KJ786ImgbVfZ"
      },
      "outputs": [],
      "source": []
    },
    {
      "cell_type": "code",
      "execution_count": null,
      "metadata": {
        "id": "TOLRubLAbVfZ"
      },
      "outputs": [],
      "source": [
        "def test_triinterpcubic_geom_weights():\n",
        "    # Tests to check computation of weights for _DOF_estimator_geom:\n",
        "    # The weight sum per triangle can be 1. (in case all angles < 90 degrees)\n",
        "    # or (2*w_i) where w_i = 1-alpha_i/np.pi is the weight of apex i ; alpha_i\n",
        "    # is the apex angle > 90 degrees.\n",
        "    (ax, ay) = (0., 1.687)\n",
        "    x = np.array([ax, 0.5*ax, 0., 1.])\n",
        "    y = np.array([ay, -ay, 0., 0.])\n",
        "    z = np.zeros(4, dtype=np.float64)\n",
        "    triangles = [[0, 2, 3], [1, 3, 2]]\n",
        "    sum_w = np.zeros([4, 2])  # 4 possibilities ; 2 triangles\n",
        "    for theta in np.linspace(0., 2*np.pi, 14):  # rotating the figure...\n",
        "        x_rot = np.cos(theta)*x + np.sin(theta)*y\n",
        "        y_rot = -np.sin(theta)*x + np.cos(theta)*y\n",
        "        triang = mtri.Triangulation(x_rot, y_rot, triangles)\n",
        "        cubic_geom = mtri.CubicTriInterpolator(triang, z, kind='geom')\n",
        "        dof_estimator = mtri.triinterpolate._DOF_estimator_geom(cubic_geom)\n",
        "        weights = dof_estimator.compute_geom_weights()\n",
        "        # Testing for the 4 possibilities...\n",
        "        sum_w[0, :] = np.sum(weights, 1) - 1\n",
        "        for itri in range(3):\n",
        "            sum_w[itri+1, :] = np.sum(weights, 1) - 2*weights[:, itri]\n",
        "        assert_array_almost_equal(np.min(np.abs(sum_w), axis=0),"
      ]
    },
    {
      "cell_type": "code",
      "execution_count": null,
      "metadata": {
        "id": "cP0xJGaibVfZ"
      },
      "outputs": [],
      "source": []
    },
    {
      "cell_type": "code",
      "execution_count": null,
      "metadata": {
        "id": "by6pAtchbVfa"
      },
      "outputs": [],
      "source": [
        "def test_triplot_return():\n",
        "    # Check that triplot returns the artists it adds\n",
        "    from matplotlib.figure import Figure\n",
        "    ax = Figure().add_axes([0.1, 0.1, 0.7, 0.7])\n",
        "    triang = mtri.Triangulation(\n",
        "        [0.0, 1.0, 0.0, 1.0], [0.0, 0.0, 1.0, 1.0],\n",
        "        triangles=[[0, 1, 3], [3, 2, 0]])\n",
        "    if ax.triplot(triang, \"b-\") is None:\n",
        "        raise AssertionError(\"triplot should return the artist it adds\") "
      ]
    },
    {
      "cell_type": "code",
      "execution_count": null,
      "metadata": {
        "id": "QoWmvd3xbVfa"
      },
      "outputs": [],
      "source": [
        "test_triplot_return()"
      ]
    },
    {
      "cell_type": "code",
      "execution_count": null,
      "metadata": {
        "id": "zp5fd-94bVBe"
      },
      "outputs": [],
      "source": []
    },
    {
      "cell_type": "code",
      "execution_count": null,
      "metadata": {
        "id": "btJFJwErbU_S"
      },
      "outputs": [],
      "source": []
    },
    {
      "cell_type": "code",
      "execution_count": null,
      "metadata": {
        "id": "GLdITBvYbU8y"
      },
      "outputs": [],
      "source": []
    },
    {
      "cell_type": "code",
      "execution_count": null,
      "metadata": {
        "id": "QavriMk8bU6u"
      },
      "outputs": [],
      "source": []
    },
    {
      "cell_type": "code",
      "execution_count": null,
      "metadata": {
        "id": "ArzWbFpzbU4Q"
      },
      "outputs": [],
      "source": []
    },
    {
      "cell_type": "code",
      "execution_count": null,
      "metadata": {
        "id": "f2SPOrMIbU2S"
      },
      "outputs": [],
      "source": []
    },
    {
      "cell_type": "code",
      "execution_count": null,
      "metadata": {
        "id": "CIOzJD59bUzs"
      },
      "outputs": [],
      "source": []
    },
    {
      "cell_type": "markdown",
      "metadata": {
        "id": "go3EXyX5dADL"
      },
      "source": [
        "**Ejemplo**\n",
        "\n",
        "Triangulación en varios objetos."
      ]
    },
    {
      "cell_type": "code",
      "execution_count": null,
      "metadata": {
        "id": "QQ6Bmm87dXhB"
      },
      "outputs": [],
      "source": [
        "# Crear cajas (cuadros) y definir sus centros\n",
        "def crea_cuadro(x, y, w, h, atributo):\n",
        "    # declarar arreglos\n",
        "    vertices = []\n",
        "    segmentos = []\n",
        "    regiones = []\n",
        "    \n",
        "    # cantidad de vertices\n",
        "    i = len(vertices)\n",
        "    # agrega vertices en el arreglo\n",
        "    vertices.extend([[x,   y],\n",
        "                     [x+w, y],\n",
        "                     [x+w, y+h],\n",
        "                     [x,   y+h]])\n",
        "    # agrega segmentos en el arreglo\n",
        "    segmentos.extend([(i+0, i+1),\n",
        "                     (i+1, i+2),\n",
        "                     (i+2, i+3),\n",
        "                     (i+3, i+0)])\n",
        "    \n",
        "    regiones.append([x+0.5*w, y+0.5*h, atributo, 0])"
      ]
    },
    {
      "cell_type": "code",
      "execution_count": null,
      "metadata": {
        "id": "-dbbjVOWf762"
      },
      "outputs": [],
      "source": [
        "# generate some input    \n",
        "crea_cuadro(0, 0, 5, 5, 1)\n",
        "crea_cuadro(1, 1, 3, 1, 2)\n",
        "crea_cuadro(1, 3, 1, 1, 3)\n",
        "crea_cuadro(3, 3, 1, 1, 4)"
      ]
    },
    {
      "cell_type": "code",
      "execution_count": null,
      "metadata": {
        "colab": {
          "base_uri": "https://localhost:8080/",
          "height": 240
        },
        "id": "vgNFvLmiEu_4",
        "outputId": "7a6985d6-256d-4f50-cfd7-0d9b91cf4c55"
      },
      "outputs": [
        {
          "ename": "NameError",
          "evalue": "ignored",
          "output_type": "error",
          "traceback": [
            "\u001b[0;31m---------------------------------------------------------------------------\u001b[0m",
            "\u001b[0;31mNameError\u001b[0m                                 Traceback (most recent call last)",
            "\u001b[0;32m<ipython-input-6-5fb8fdd930d1>\u001b[0m in \u001b[0;36m<module>\u001b[0;34m\u001b[0m\n\u001b[0;32m----> 1\u001b[0;31m \u001b[0mA\u001b[0m \u001b[0;34m=\u001b[0m \u001b[0mdict\u001b[0m\u001b[0;34m(\u001b[0m\u001b[0mvertices\u001b[0m\u001b[0;34m=\u001b[0m\u001b[0mvertices\u001b[0m\u001b[0;34m,\u001b[0m \u001b[0msegments\u001b[0m\u001b[0;34m=\u001b[0m\u001b[0msegmentos\u001b[0m\u001b[0;34m,\u001b[0m \u001b[0mregions\u001b[0m\u001b[0;34m=\u001b[0m\u001b[0mregiones\u001b[0m\u001b[0;34m)\u001b[0m\u001b[0;34m\u001b[0m\u001b[0;34m\u001b[0m\u001b[0m\n\u001b[0m\u001b[1;32m      2\u001b[0m \u001b[0mB\u001b[0m \u001b[0;34m=\u001b[0m \u001b[0mtr\u001b[0m\u001b[0;34m.\u001b[0m\u001b[0mtriangulate\u001b[0m\u001b[0;34m(\u001b[0m\u001b[0mA\u001b[0m\u001b[0;34m,\u001b[0m \u001b[0;34m'pA'\u001b[0m\u001b[0;34m)\u001b[0m\u001b[0;34m\u001b[0m\u001b[0;34m\u001b[0m\u001b[0m\n\u001b[1;32m      3\u001b[0m \u001b[0;34m\u001b[0m\u001b[0m\n\u001b[1;32m      4\u001b[0m \u001b[0mtr\u001b[0m\u001b[0;34m.\u001b[0m\u001b[0mcompare\u001b[0m\u001b[0;34m(\u001b[0m\u001b[0mplt\u001b[0m\u001b[0;34m,\u001b[0m \u001b[0mA\u001b[0m\u001b[0;34m,\u001b[0m \u001b[0mB\u001b[0m\u001b[0;34m)\u001b[0m\u001b[0;34m\u001b[0m\u001b[0;34m\u001b[0m\u001b[0m\n\u001b[1;32m      5\u001b[0m \u001b[0mplt\u001b[0m\u001b[0;34m.\u001b[0m\u001b[0mshow\u001b[0m\u001b[0;34m(\u001b[0m\u001b[0;34m)\u001b[0m\u001b[0;34m\u001b[0m\u001b[0;34m\u001b[0m\u001b[0m\n",
            "\u001b[0;31mNameError\u001b[0m: name 'vertices' is not defined"
          ]
        }
      ],
      "source": [
        "\n",
        "\n",
        "\n",
        "\n",
        "\n",
        "A = dict(vertices=vertices, segments=segmentos, regions=regiones)\n",
        "B = tr.triangulate(A, 'pA')\n",
        "    \n",
        "tr.compare(plt, A, B)\n",
        "plt.show()"
      ]
    },
    {
      "cell_type": "markdown",
      "metadata": {
        "id": "kJY3F8ALb2L9"
      },
      "source": []
    },
    {
      "cell_type": "code",
      "execution_count": null,
      "metadata": {
        "id": "1ZKuyKtGb3zz"
      },
      "outputs": [],
      "source": []
    },
    {
      "cell_type": "markdown",
      "metadata": {
        "id": "7MlZY6JDcsvx"
      },
      "source": [
        "**Ejemplo**\n",
        "\n",
        "Triangulación en una espiral."
      ]
    },
    {
      "cell_type": "code",
      "execution_count": null,
      "metadata": {
        "colab": {
          "base_uri": "https://localhost:8080/",
          "height": 225
        },
        "id": "UJpS0FsJb3wU",
        "outputId": "b84a0149-8bb8-4cae-913a-9d91548b278d"
      },
      "outputs": [
        {
          "data": {
            "image/png": "[encoded data removed]",
            "text/plain": [
              "<Figure size 432x216 with 2 Axes>"
            ]
          },
          "metadata": {},
          "output_type": "display_data"
        }
      ],
      "source": [
        "# puntos de espiral que viene con la librería\n",
        "spiral = tr.get_data('spiral') # A, ell, spiral, dots, face, \n",
        "\n",
        "# triangula usando puntos de espiral\n",
        "t = tr.triangulate(spiral)\n",
        "\n",
        "# compara puntos y trinagulación\n",
        "tr.compare(plt, spiral, t)\n",
        "\n",
        "# muestra ambas graficas\n",
        "plt.show()"
      ]
    },
    {
      "cell_type": "code",
      "execution_count": null,
      "metadata": {
        "id": "VCHYrVSrb3t4"
      },
      "outputs": [],
      "source": []
    },
    {
      "cell_type": "code",
      "execution_count": null,
      "metadata": {
        "colab": {
          "base_uri": "https://localhost:8080/"
        },
        "id": "VvOyNjS3b3rd",
        "outputId": "1bc94efe-53d7-48b4-f946-c5e6610428aa"
      },
      "outputs": [
        {
          "data": {
            "text/plain": [
              "[[7, 2, 4],\n",
              " [5, 0, 4],\n",
              " [4, 8, 1],\n",
              " [4, 1, 5],\n",
              " [4, 0, 6],\n",
              " [6, 3, 4],\n",
              " [4, 3, 7],\n",
              " [4, 2, 8]]"
            ]
          },
          "execution_count": 9,
          "metadata": {},
          "output_type": "execute_result"
        }
      ],
      "source": [
        "v = [[0, 0], [0, 1], [1, 1], [1, 0]]\n",
        "\n",
        "t = tr.triangulate({'vertices': v}, 'a0.2')\n",
        "\n",
        "t['vertices'].tolist()\n",
        "[[0.0, 0.0], [0.0, 1.0], [1.0, 1.0], [1.0, 0.0], [0.5, 0.5], [0.0, 0.5], [0.5, 0.0], [1.0, 0.5], [0.5, 1.0]]\n",
        "\n",
        "t['vertex_markers'].tolist()\n",
        "[[1], [1], [1], [1], [0], [1], [1], [1], [1]]\n",
        "\n",
        "t['triangles'].tolist()\n",
        "[[7, 2, 4], [5, 0, 4], [4, 8, 1], [4, 1, 5], [4, 0, 6], [6, 3, 4], [4, 3, 7], [4, 2, 8]]"
      ]
    },
    {
      "cell_type": "code",
      "execution_count": null,
      "metadata": {
        "id": "0dEUvZgPb2q4"
      },
      "outputs": [],
      "source": []
    },
    {
      "cell_type": "code",
      "execution_count": null,
      "metadata": {
        "id": "1NaSMgmMEu8w"
      },
      "outputs": [],
      "source": []
    },
    {
      "cell_type": "code",
      "execution_count": null,
      "metadata": {
        "id": "sG3m_wkkGAmC"
      },
      "outputs": [],
      "source": [
        "def test_tripcolor():\n",
        "    x = np.asarray([0, 0.5, 1, 0,   0.5, 1,   0, 0.5, 1, 0.75])\n",
        "    y = np.asarray([0, 0,   0, 0.5, 0.5, 0.5, 1, 1,   1, 0.75])\n",
        "    triangles = np.asarray([\n",
        "        [0, 1, 3], [1, 4, 3],\n",
        "        [1, 2, 4], [2, 5, 4],\n",
        "        [3, 4, 6], [4, 7, 6],\n",
        "        [4, 5, 9], [7, 4, 9], [8, 7, 9], [5, 8, 9]])\n",
        "\n",
        "    # Triangulation with same number of points and triangles.\n",
        "    triang = mtri.Triangulation(x, y, triangles)\n",
        "\n",
        "    Cpoints = x + 0.5*y\n",
        "\n",
        "    xmid = x[triang.triangles].mean(axis=1)\n",
        "    ymid = y[triang.triangles].mean(axis=1)\n",
        "    Cfaces = 0.5*xmid + ymid\n",
        "\n",
        "    plt.subplot(121)\n",
        "    plt.tripcolor(triang, Cpoints, edgecolors='k')\n",
        "    plt.title('point colors')\n",
        "\n",
        "    plt.subplot(122)\n",
        "    plt.tripcolor(triang, facecolors=Cfaces, edgecolors='k')\n",
        "    plt.title('facecolors') "
      ]
    },
    {
      "cell_type": "code",
      "execution_count": null,
      "metadata": {
        "colab": {
          "base_uri": "https://localhost:8080/",
          "height": 281
        },
        "id": "-XkeO3AvGEZY",
        "outputId": "685ff15f-a4e8-4d94-ec6e-4539f660cfa6"
      },
      "outputs": [
        {
          "data": {
            "image/png": "[encoded data removed]",
            "text/plain": [
              "<Figure size 432x288 with 2 Axes>"
            ]
          },
          "metadata": {},
          "output_type": "display_data"
        }
      ],
      "source": [
        "test_tripcolor()"
      ]
    },
    {
      "cell_type": "code",
      "execution_count": null,
      "metadata": {
        "id": "3msZ1pmXJ-kY"
      },
      "outputs": [],
      "source": []
    },
    {
      "cell_type": "code",
      "execution_count": null,
      "metadata": {
        "id": "9zwUEwRaJ-iT"
      },
      "outputs": [],
      "source": []
    },
    {
      "cell_type": "code",
      "execution_count": null,
      "metadata": {
        "id": "t4m6aC_gJ-fa"
      },
      "outputs": [],
      "source": []
    },
    {
      "cell_type": "code",
      "execution_count": null,
      "metadata": {
        "id": "edOfGx_O_3CG"
      },
      "outputs": [],
      "source": [
        "def test_tripcolor():\n",
        "    x = np.asarray([0, 0.5, 1, 0, 0.5, 1, 0, 0.5, 1, 0.75])\n",
        "\n",
        "    y = np.asarray([0, 0, 0, 0.5, 0.5, 0.5, 1, 1, 1, 0.75])\n",
        "\n",
        "    triangles = np.asarray([\n",
        "        [0, 1, 3], [1, 4, 3],\n",
        "        [1, 2, 4], [2, 5, 4],\n",
        "        [3, 4, 6], [4, 7, 6],\n",
        "        [4, 5, 9], [7, 4, 9], \n",
        "        [8, 7, 9], [5, 8, 9]])\n",
        "\n",
        "    # Triangulation with same number of points and triangles.\n",
        "    triang = mtri.Triangulation(x, y, triangles)\n",
        "\n",
        "    Cpoints = x + 0.5*y\n",
        "\n",
        "    xmid = x[triang.triangles].mean(axis=1)\n",
        "    ymid = y[triang.triangles].mean(axis=1)\n",
        "    Cfaces = 0.5*xmid + ymid\n",
        "\n",
        "    plt.subplot(121)\n",
        "    plt.tripcolor(triang, Cpoints, edgecolors='k')\n",
        "    plt.title('point colors')\n",
        "\n",
        "    plt.subplot(122)\n",
        "    plt.tripcolor(triang, facecolors=Cfaces, edgecolors='k')\n",
        "    plt.title('facecolors') "
      ]
    },
    {
      "cell_type": "code",
      "execution_count": null,
      "metadata": {
        "colab": {
          "base_uri": "https://localhost:8080/",
          "height": 281
        },
        "id": "pJfsQXq__762",
        "outputId": "ae4a2ccb-0178-447e-81b8-126cc2651462"
      },
      "outputs": [
        {
          "data": {
            "image/png": "[encoded data removed]",
            "text/plain": [
              "<Figure size 432x288 with 2 Axes>"
            ]
          },
          "metadata": {},
          "output_type": "display_data"
        }
      ],
      "source": [
        "test_tripcolor()"
      ]
    },
    {
      "cell_type": "code",
      "execution_count": null,
      "metadata": {
        "id": "IPQuGNAyIZj-"
      },
      "outputs": [],
      "source": []
    },
    {
      "cell_type": "code",
      "execution_count": null,
      "metadata": {
        "colab": {
          "base_uri": "https://localhost:8080/"
        },
        "id": "5IdmhDaBCSFW",
        "outputId": "f2df3246-a22e-46f3-aa39-30e3d844edfd"
      },
      "outputs": [
        {
          "name": "stdout",
          "output_type": "stream",
          "text": [
            "15.3006\n"
          ]
        }
      ],
      "source": [
        "# Recursive implementation for minimum\n",
        "# cost convex polygon triangulation\n",
        "from math import sqrt\n",
        "MAX = 1000000.0\n",
        "\n",
        "# A utility function to find distance\n",
        "# between two points in a plane\n",
        "def dist(p1, p2):\n",
        "\treturn sqrt((p1[0] - p2[0])*(p1[0] - p2[0]) + \\\n",
        "\t\t\t\t(p1[1] - p2[1])*(p1[1] - p2[1]))\n",
        "\n",
        "# A utility function to find cost of\n",
        "# a triangle. The cost is considered\n",
        "# as perimeter (sum of lengths of all edges)\n",
        "# of the triangle\n",
        "def cost(points, i, j, k):\n",
        "\tp1 = points[i]\n",
        "\tp2 = points[j]\n",
        "\tp3 = points[k]\n",
        "\treturn dist(p1, p2) + dist(p2, p3) + dist(p3, p1)\n",
        "\n",
        "\n",
        "# A recursive function to find minimum\n",
        "# cost of polygon triangulation\n",
        "# The polygon is represented by points[i..j].\n",
        "def mTC(points, i, j):\n",
        "\t\n",
        "\t# There must be at least three points between i and j\n",
        "\t# (including i and j)\n",
        "\tif (j < i + 2):\n",
        "\t\treturn 0\n",
        "\t\t\n",
        "\t# Initialize result as infinite\n",
        "\tres = MAX\n",
        "\t\n",
        "\t# Find minimum triangulation by considering all\n",
        "\tfor k in range(i + 1, j):\n",
        "\t\tres = min(res, (mTC(points, i, k) + \\\n",
        "\t\t\t\t\t\tmTC(points, k, j) + \\\n",
        "\t\t\t\t\t\tcost(points, i, k, j)))\n",
        "\t\n",
        "\treturn round(res, 4)\n",
        "\n",
        "\n",
        "# Driver code\n",
        "points = [[0, 0], [1, 0], [2, 1], [1, 2], [0, 2]]\n",
        "n = len(points)\n",
        "print(mTC(points, 0, n-1))\n",
        "\n",
        "# This code is contributed by SHUBHAMSINGH10\n"
      ]
    },
    {
      "cell_type": "code",
      "execution_count": null,
      "metadata": {
        "id": "Dbh4a3WhIZgn"
      },
      "outputs": [],
      "source": []
    },
    {
      "cell_type": "code",
      "execution_count": null,
      "metadata": {
        "id": "imc5S6K4IZd0"
      },
      "outputs": [],
      "source": []
    },
    {
      "cell_type": "code",
      "execution_count": null,
      "metadata": {
        "id": "_9w3tNV_IZa0"
      },
      "outputs": [],
      "source": []
    },
    {
      "cell_type": "code",
      "execution_count": null,
      "metadata": {
        "id": "bR3v0h24KN5U"
      },
      "outputs": [],
      "source": []
    },
    {
      "cell_type": "code",
      "execution_count": null,
      "metadata": {
        "id": "5LOohEKeKNu5"
      },
      "outputs": [],
      "source": []
    },
    {
      "cell_type": "code",
      "execution_count": null,
      "metadata": {
        "id": "YMz896zpJ0qa"
      },
      "outputs": [],
      "source": [
        "x = np.asarray([0, 0.5, 1, 0, 0.5, 1, 0, 0.5, 1, 0.75])\n",
        "\n",
        "y = np.asarray([0, 0, 0, 0.5, 0.5, 0.5, 1, 1, 1, 0.75])"
      ]
    },
    {
      "cell_type": "code",
      "execution_count": null,
      "metadata": {
        "colab": {
          "base_uri": "https://localhost:8080/"
        },
        "id": "b9osPAjMJ0kw",
        "outputId": "45fd6bbd-3b8a-49be-8c30-173ce95e6f13"
      },
      "outputs": [
        {
          "name": "stdout",
          "output_type": "stream",
          "text": [
            "Looking in indexes: https://pypi.org/simple, https://us-python.pkg.dev/colab-wheels/public/simple/\n",
            "Collecting polygon\n",
            "  Downloading polygon-1.1.0-py2.py3-none-any.whl (98 kB)\n",
            "\u001b[2K     \u001b[90m━━━━━━━━━━━━━━━━━━━━━━━━━━━━━━━━━━━━━━━━\u001b[0m \u001b[32m98.9/98.9 KB\u001b[0m \u001b[31m3.1 MB/s\u001b[0m eta \u001b[36m0:00:00\u001b[0m\n",
            "\u001b[?25hCollecting websocket-client\n",
            "  Downloading websocket_client-1.5.1-py3-none-any.whl (55 kB)\n",
            "\u001b[2K     \u001b[90m━━━━━━━━━━━━━━━━━━━━━━━━━━━━━━━━━━━━━━━━\u001b[0m \u001b[32m55.9/55.9 KB\u001b[0m \u001b[31m6.8 MB/s\u001b[0m eta \u001b[36m0:00:00\u001b[0m\n",
            "\u001b[?25hCollecting httpx\n",
            "  Downloading httpx-0.23.3-py3-none-any.whl (71 kB)\n",
            "\u001b[2K     \u001b[90m━━━━━━━━━━━━━━━━━━━━━━━━━━━━━━━━━━━━━━━━\u001b[0m \u001b[32m71.5/71.5 KB\u001b[0m \u001b[31m7.0 MB/s\u001b[0m eta \u001b[36m0:00:00\u001b[0m\n",
            "\u001b[?25hCollecting websockets\n",
            "  Downloading websockets-10.4-cp38-cp38-manylinux_2_5_x86_64.manylinux1_x86_64.manylinux_2_17_x86_64.manylinux2014_x86_64.whl (106 kB)\n",
            "\u001b[2K     \u001b[90m━━━━━━━━━━━━━━━━━━━━━━━━━━━━━━━━━━━━━━\u001b[0m \u001b[32m107.0/107.0 KB\u001b[0m \u001b[31m14.5 MB/s\u001b[0m eta \u001b[36m0:00:00\u001b[0m\n",
            "\u001b[?25hRequirement already satisfied: requests in /usr/local/lib/python3.8/dist-packages (from polygon) (2.25.1)\n",
            "Collecting httpcore<0.17.0,>=0.15.0\n",
            "  Downloading httpcore-0.16.3-py3-none-any.whl (69 kB)\n",
            "\u001b[2K     \u001b[90m━━━━━━━━━━━━━━━━━━━━━━━━━━━━━━━━━━━━━━━━\u001b[0m \u001b[32m69.6/69.6 KB\u001b[0m \u001b[31m9.1 MB/s\u001b[0m eta \u001b[36m0:00:00\u001b[0m\n",
            "\u001b[?25hRequirement already satisfied: certifi in /usr/local/lib/python3.8/dist-packages (from httpx->polygon) (2022.12.7)\n",
            "Collecting rfc3986[idna2008]<2,>=1.3\n",
            "  Downloading rfc3986-1.5.0-py2.py3-none-any.whl (31 kB)\n",
            "Collecting sniffio\n",
            "  Downloading sniffio-1.3.0-py3-none-any.whl (10 kB)\n",
            "Requirement already satisfied: chardet<5,>=3.0.2 in /usr/local/lib/python3.8/dist-packages (from requests->polygon) (4.0.0)\n",
            "Requirement already satisfied: urllib3<1.27,>=1.21.1 in /usr/local/lib/python3.8/dist-packages (from requests->polygon) (1.24.3)\n",
            "Requirement already satisfied: idna<3,>=2.5 in /usr/local/lib/python3.8/dist-packages (from requests->polygon) (2.10)\n",
            "Collecting h11<0.15,>=0.13\n",
            "  Downloading h11-0.14.0-py3-none-any.whl (58 kB)\n",
            "\u001b[2K     \u001b[90m━━━━━━━━━━━━━━━━━━━━━━━━━━━━━━━━━━━━━━━━\u001b[0m \u001b[32m58.3/58.3 KB\u001b[0m \u001b[31m7.3 MB/s\u001b[0m eta \u001b[36m0:00:00\u001b[0m\n",
            "\u001b[?25hCollecting anyio<5.0,>=3.0\n",
            "  Downloading anyio-3.6.2-py3-none-any.whl (80 kB)\n",
            "\u001b[2K     \u001b[90m━━━━━━━━━━━━━━━━━━━━━━━━━━━━━━━━━━━━━━━━\u001b[0m \u001b[32m80.6/80.6 KB\u001b[0m \u001b[31m10.3 MB/s\u001b[0m eta \u001b[36m0:00:00\u001b[0m\n",
            "\u001b[?25hInstalling collected packages: rfc3986, websockets, websocket-client, sniffio, h11, anyio, httpcore, httpx, polygon\n",
            "Successfully installed anyio-3.6.2 h11-0.14.0 httpcore-0.16.3 httpx-0.23.3 polygon-1.1.0 rfc3986-1.5.0 sniffio-1.3.0 websocket-client-1.5.1 websockets-10.4\n"
          ]
        }
      ],
      "source": [
        "!pip install polygon"
      ]
    },
    {
      "cell_type": "code",
      "execution_count": null,
      "metadata": {
        "id": "5L9I3XrbHiPK"
      },
      "outputs": [],
      "source": [
        "import polygon as Polygon\n",
        "from polygon import (StocksClient, ForexClient, StreamClient, build_option_symbol)"
      ]
    },
    {
      "cell_type": "code",
      "execution_count": null,
      "metadata": {
        "colab": {
          "base_uri": "https://localhost:8080/",
          "height": 205
        },
        "id": "uEaMoCek6zvY",
        "outputId": "9fc76884-3c05-4c44-c020-688e22f91a5e"
      },
      "outputs": [
        {
          "ename": "TypeError",
          "evalue": "ignored",
          "output_type": "error",
          "traceback": [
            "\u001b[0;31m---------------------------------------------------------------------------\u001b[0m",
            "\u001b[0;31mTypeError\u001b[0m                                 Traceback (most recent call last)",
            "\u001b[0;32m<ipython-input-11-ca34ab7bcf1d>\u001b[0m in \u001b[0;36m<module>\u001b[0;34m\u001b[0m\n\u001b[0;32m----> 1\u001b[0;31m \u001b[0mP\u001b[0m \u001b[0;34m=\u001b[0m \u001b[0mPolygon\u001b[0m \u001b[0;34m[\u001b[0m\u001b[0;34m(\u001b[0m\u001b[0;36m2.00\u001b[0m\u001b[0;34m,\u001b[0m \u001b[0;36m3.00\u001b[0m\u001b[0;34m)\u001b[0m\u001b[0;34m,\u001b[0m \u001b[0;34m(\u001b[0m\u001b[0;36m3.00\u001b[0m\u001b[0;34m,\u001b[0m \u001b[0;36m3.00\u001b[0m\u001b[0;34m)\u001b[0m\u001b[0;34m,\u001b[0m \u001b[0;34m(\u001b[0m\u001b[0;36m3.00\u001b[0m\u001b[0;34m,\u001b[0m \u001b[0;36m2.00\u001b[0m\u001b[0;34m)\u001b[0m\u001b[0;34m,\u001b[0m \u001b[0;34m(\u001b[0m\u001b[0;36m4.00\u001b[0m\u001b[0;34m,\u001b[0m \u001b[0;36m2.00\u001b[0m\u001b[0;34m)\u001b[0m\u001b[0;34m,\u001b[0m \u001b[0;34m(\u001b[0m\u001b[0;36m4.00\u001b[0m\u001b[0;34m,\u001b[0m \u001b[0;36m4.00\u001b[0m\u001b[0;34m)\u001b[0m\u001b[0;34m,\u001b[0m \u001b[0;34m(\u001b[0m\u001b[0;36m2.00\u001b[0m\u001b[0;34m,\u001b[0m \u001b[0;36m4.00\u001b[0m\u001b[0;34m)\u001b[0m\u001b[0;34m]\u001b[0m\u001b[0;34m\u001b[0m\u001b[0;34m\u001b[0m\u001b[0m\n\u001b[0m\u001b[1;32m      2\u001b[0m \u001b[0;34m\u001b[0m\u001b[0m\n\u001b[1;32m      3\u001b[0m \u001b[0mP\u001b[0m \u001b[0;34m=\u001b[0m \u001b[0mPolygon\u001b[0m\u001b[0;34m.\u001b[0m\u001b[0mconvex_decompose\u001b[0m\u001b[0;34m(\u001b[0m\u001b[0mP\u001b[0m\u001b[0;34m)\u001b[0m\u001b[0;34m\u001b[0m\u001b[0;34m\u001b[0m\u001b[0m\n",
            "\u001b[0;31mTypeError\u001b[0m: 'module' object is not subscriptable"
          ]
        }
      ],
      "source": [
        "\n",
        "\n",
        "P = Polygon [(2.00, 3.00), (3.00, 3.00), (3.00, 2.00), (4.00, 2.00), (4.00, 4.00), (2.00, 4.00)] \n",
        "\n",
        "P = Polygon.convex_decompose(P)"
      ]
    },
    {
      "cell_type": "code",
      "execution_count": null,
      "metadata": {
        "id": "ss4xecgM6zsk"
      },
      "outputs": [],
      "source": []
    },
    {
      "cell_type": "code",
      "execution_count": null,
      "metadata": {
        "id": "8DxmY1WE6zqs"
      },
      "outputs": [],
      "source": []
    },
    {
      "cell_type": "code",
      "execution_count": null,
      "metadata": {
        "id": "lfKjz9LO6zo8"
      },
      "outputs": [],
      "source": []
    },
    {
      "cell_type": "code",
      "execution_count": null,
      "metadata": {
        "id": "N3skMKde6zl6"
      },
      "outputs": [],
      "source": []
    },
    {
      "cell_type": "code",
      "execution_count": null,
      "metadata": {
        "id": "OLpxk3d76zjs"
      },
      "outputs": [],
      "source": []
    },
    {
      "cell_type": "code",
      "execution_count": null,
      "metadata": {
        "id": "EGQrn4mFJ0hn"
      },
      "outputs": [],
      "source": []
    },
    {
      "cell_type": "code",
      "execution_count": null,
      "metadata": {
        "id": "LvzPG-9BCSNe"
      },
      "outputs": [],
      "source": []
    },
    {
      "cell_type": "code",
      "execution_count": null,
      "metadata": {
        "id": "GWn-emwZGD2H"
      },
      "outputs": [],
      "source": [
        "# Aquí tu código\n",
        "\n",
        "\n",
        "\n",
        "\n",
        "\n",
        "\n",
        "\n",
        "\n",
        "\n",
        "\n"
      ]
    },
    {
      "cell_type": "code",
      "execution_count": null,
      "metadata": {
        "id": "iP4FYILDCSKa"
      },
      "outputs": [],
      "source": []
    },
    {
      "cell_type": "code",
      "execution_count": null,
      "metadata": {
        "id": "2EQ1TjOhCSHy"
      },
      "outputs": [],
      "source": []
    },
    {
      "cell_type": "code",
      "execution_count": null,
      "metadata": {
        "id": "t3VZFJEaDdaL"
      },
      "outputs": [],
      "source": []
    },
    {
      "cell_type": "code",
      "execution_count": null,
      "metadata": {
        "id": "_bBiEJ8ADdYK"
      },
      "outputs": [],
      "source": []
    },
    {
      "cell_type": "code",
      "execution_count": null,
      "metadata": {
        "id": "Oz7S9EvsEeg9"
      },
      "outputs": [],
      "source": []
    },
    {
      "cell_type": "code",
      "execution_count": null,
      "metadata": {
        "id": "0k9UHrUcH7WM"
      },
      "outputs": [],
      "source": []
    },
    {
      "cell_type": "code",
      "execution_count": null,
      "metadata": {
        "id": "i6T9rGzbH7S0"
      },
      "outputs": [],
      "source": [
        "def test_triinterpcubic_geom_weights():\n",
        "    # Tests to check computation of weights for _DOF_estimator_geom:\n",
        "    # The weight sum per triangle can be 1. (in case all angles < 90 degrees)\n",
        "    # or (2*w_i) where w_i = 1-alpha_i/np.pi is the weight of apex i ; alpha_i\n",
        "    # is the apex angle > 90 degrees.\n",
        "    (ax, ay) = (0., 1.687)\n",
        "    x = np.array([ax, 0.5*ax, 0., 1.])\n",
        "    y = np.array([ay, -ay, 0., 0.])\n",
        "    z = np.zeros(4, dtype=np.float64)\n",
        "    triangles = [[0, 2, 3], [1, 3, 2]]\n",
        "    sum_w = np.zeros([4, 2])  # 4 possibilities ; 2 triangles\n",
        "    for theta in np.linspace(0., 2*np.pi, 14):  # rotating the figure...\n",
        "        x_rot = np.cos(theta)*x + np.sin(theta)*y\n",
        "        y_rot = -np.sin(theta)*x + np.cos(theta)*y\n",
        "        triang = mtri.Triangulation(x_rot, y_rot, triangles)\n",
        "        cubic_geom = mtri.CubicTriInterpolator(triang, z, kind='geom')\n",
        "        dof_estimator = mtri.triinterpolate._DOF_estimator_geom(cubic_geom)\n",
        "        weights = dof_estimator.compute_geom_weights()\n",
        "        # Testing for the 4 possibilities...\n",
        "        sum_w[0, :] = np.sum(weights, 1) - 1\n",
        "        for itri in range(3):\n",
        "            sum_w[itri+1, :] = np.sum(weights, 1) - 2*weights[:, itri]\n",
        "        assert_array_almost_equal(np.min(np.abs(sum_w), axis=0),"
      ]
    },
    {
      "cell_type": "code",
      "execution_count": null,
      "metadata": {
        "id": "wbqOt2u0IExv"
      },
      "outputs": [],
      "source": []
    },
    {
      "cell_type": "code",
      "execution_count": null,
      "metadata": {
        "id": "Vn9vwwnEIEvG"
      },
      "outputs": [],
      "source": [
        "def test_triplot_return():\n",
        "    # Check that triplot returns the artists it adds\n",
        "    from matplotlib.figure import Figure\n",
        "    ax = Figure().add_axes([0.1, 0.1, 0.7, 0.7])\n",
        "    triang = mtri.Triangulation(\n",
        "        [0.0, 1.0, 0.0, 1.0], [0.0, 0.0, 1.0, 1.0],\n",
        "        triangles=[[0, 1, 3], [3, 2, 0]])\n",
        "    if ax.triplot(triang, \"b-\") is None:\n",
        "        raise AssertionError(\"triplot should return the artist it adds\") "
      ]
    },
    {
      "cell_type": "code",
      "execution_count": null,
      "metadata": {
        "id": "3VR0GA--IHDi"
      },
      "outputs": [],
      "source": [
        "test_triplot_return()"
      ]
    },
    {
      "cell_type": "code",
      "source": [],
      "metadata": {
        "id": "tpsjPjMjDlhh"
      },
      "execution_count": null,
      "outputs": []
    },
    {
      "cell_type": "code",
      "source": [
        "!pip install delaunay"
      ],
      "metadata": {
        "colab": {
          "base_uri": "https://localhost:8080/"
        },
        "id": "cspJ3-KaDlek",
        "outputId": "eb1504de-a988-4447-b1ce-34ea3eded805"
      },
      "execution_count": null,
      "outputs": [
        {
          "output_type": "stream",
          "name": "stdout",
          "text": [
            "Looking in indexes: https://pypi.org/simple, https://us-python.pkg.dev/colab-wheels/public/simple/\n",
            "Collecting delaunay\n",
            "  Downloading delaunay-1.0.3-py3-none-any.whl (8.2 kB)\n",
            "Installing collected packages: delaunay\n",
            "Successfully installed delaunay-1.0.3\n"
          ]
        }
      ]
    },
    {
      "cell_type": "code",
      "source": [
        "from delaunay import delaunay"
      ],
      "metadata": {
        "id": "heSSYZNCCuKm"
      },
      "execution_count": null,
      "outputs": []
    },
    {
      "cell_type": "code",
      "source": [
        "xy = [[3.3735, 0.7889], [-0.1072, -3.4814], [-3.9732, 4.1955], [-5, 5], [5, 5], [5, -5], [-5, -5]];\n",
        "DT = delaunayTriangulation(xy);\n",
        "triplot(DT);\n",
        "%The coordinates for each triangle -- each row is a triangle.\n",
        "TRIX = reshape(DT.Points(DT.ConnectivityList, 1), size(DT.ConnectivityList));\n",
        "TRIY = reshape(DT.Points(DT.ConnectivityList, 2), size(DT.ConnectivityList));"
      ],
      "metadata": {
        "colab": {
          "base_uri": "https://localhost:8080/",
          "height": 240
        },
        "id": "CYG44Pe8CuHx",
        "outputId": "0ec631e3-d11b-4f08-97d5-5399e1b40b3b"
      },
      "execution_count": null,
      "outputs": [
        {
          "output_type": "error",
          "ename": "NameError",
          "evalue": "ignored",
          "traceback": [
            "\u001b[0;31m---------------------------------------------------------------------------\u001b[0m",
            "\u001b[0;31mNameError\u001b[0m                                 Traceback (most recent call last)",
            "\u001b[0;32m<ipython-input-18-c59ad1351f07>\u001b[0m in \u001b[0;36m<module>\u001b[0;34m\u001b[0m\n\u001b[1;32m      1\u001b[0m \u001b[0mxy\u001b[0m \u001b[0;34m=\u001b[0m \u001b[0;34m[\u001b[0m\u001b[0;34m[\u001b[0m\u001b[0;36m3.3735\u001b[0m\u001b[0;34m,\u001b[0m \u001b[0;36m0.7889\u001b[0m\u001b[0;34m]\u001b[0m\u001b[0;34m,\u001b[0m \u001b[0;34m[\u001b[0m\u001b[0;34m-\u001b[0m\u001b[0;36m0.1072\u001b[0m\u001b[0;34m,\u001b[0m \u001b[0;34m-\u001b[0m\u001b[0;36m3.4814\u001b[0m\u001b[0;34m]\u001b[0m\u001b[0;34m,\u001b[0m \u001b[0;34m[\u001b[0m\u001b[0;34m-\u001b[0m\u001b[0;36m3.9732\u001b[0m\u001b[0;34m,\u001b[0m \u001b[0;36m4.1955\u001b[0m\u001b[0;34m]\u001b[0m\u001b[0;34m,\u001b[0m \u001b[0;34m[\u001b[0m\u001b[0;34m-\u001b[0m\u001b[0;36m5\u001b[0m\u001b[0;34m,\u001b[0m \u001b[0;36m5\u001b[0m\u001b[0;34m]\u001b[0m\u001b[0;34m,\u001b[0m \u001b[0;34m[\u001b[0m\u001b[0;36m5\u001b[0m\u001b[0;34m,\u001b[0m \u001b[0;36m5\u001b[0m\u001b[0;34m]\u001b[0m\u001b[0;34m,\u001b[0m \u001b[0;34m[\u001b[0m\u001b[0;36m5\u001b[0m\u001b[0;34m,\u001b[0m \u001b[0;34m-\u001b[0m\u001b[0;36m5\u001b[0m\u001b[0;34m]\u001b[0m\u001b[0;34m,\u001b[0m \u001b[0;34m[\u001b[0m\u001b[0;34m-\u001b[0m\u001b[0;36m5\u001b[0m\u001b[0;34m,\u001b[0m \u001b[0;34m-\u001b[0m\u001b[0;36m5\u001b[0m\u001b[0;34m]\u001b[0m\u001b[0;34m]\u001b[0m\u001b[0;34m;\u001b[0m\u001b[0;34m\u001b[0m\u001b[0;34m\u001b[0m\u001b[0m\n\u001b[0;32m----> 2\u001b[0;31m \u001b[0mDT\u001b[0m \u001b[0;34m=\u001b[0m \u001b[0mdelaunayTriangulation\u001b[0m\u001b[0;34m(\u001b[0m\u001b[0mxy\u001b[0m\u001b[0;34m)\u001b[0m\u001b[0;34m;\u001b[0m\u001b[0;34m\u001b[0m\u001b[0;34m\u001b[0m\u001b[0m\n\u001b[0m\u001b[1;32m      3\u001b[0m \u001b[0mtriplot\u001b[0m\u001b[0;34m(\u001b[0m\u001b[0mDT\u001b[0m\u001b[0;34m)\u001b[0m\u001b[0;34m;\u001b[0m\u001b[0;34m\u001b[0m\u001b[0;34m\u001b[0m\u001b[0m\n\u001b[1;32m      4\u001b[0m \u001b[0mget_ipython\u001b[0m\u001b[0;34m(\u001b[0m\u001b[0;34m)\u001b[0m\u001b[0;34m.\u001b[0m\u001b[0mrun_line_magic\u001b[0m\u001b[0;34m(\u001b[0m\u001b[0;34m'The'\u001b[0m\u001b[0;34m,\u001b[0m \u001b[0;34m'coordinates for each triangle -- each row is a triangle.'\u001b[0m\u001b[0;34m)\u001b[0m\u001b[0;34m\u001b[0m\u001b[0;34m\u001b[0m\u001b[0m\n\u001b[1;32m      5\u001b[0m \u001b[0mTRIX\u001b[0m \u001b[0;34m=\u001b[0m \u001b[0mreshape\u001b[0m\u001b[0;34m(\u001b[0m\u001b[0mDT\u001b[0m\u001b[0;34m.\u001b[0m\u001b[0mPoints\u001b[0m\u001b[0;34m(\u001b[0m\u001b[0mDT\u001b[0m\u001b[0;34m.\u001b[0m\u001b[0mConnectivityList\u001b[0m\u001b[0;34m,\u001b[0m \u001b[0;36m1\u001b[0m\u001b[0;34m)\u001b[0m\u001b[0;34m,\u001b[0m \u001b[0msize\u001b[0m\u001b[0;34m(\u001b[0m\u001b[0mDT\u001b[0m\u001b[0;34m.\u001b[0m\u001b[0mConnectivityList\u001b[0m\u001b[0;34m)\u001b[0m\u001b[0;34m)\u001b[0m\u001b[0;34m;\u001b[0m\u001b[0;34m\u001b[0m\u001b[0;34m\u001b[0m\u001b[0m\n",
            "\u001b[0;31mNameError\u001b[0m: name 'delaunayTriangulation' is not defined"
          ]
        }
      ]
    },
    {
      "cell_type": "code",
      "source": [],
      "metadata": {
        "id": "PlzozhceCuFd"
      },
      "execution_count": null,
      "outputs": []
    }
  ]
}