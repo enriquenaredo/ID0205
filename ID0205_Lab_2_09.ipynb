{
  "nbformat": 4,
  "nbformat_minor": 0,
  "metadata": {
    "colab": {
      "provenance": []
    },
    "kernelspec": {
      "name": "python3",
      "display_name": "Python 3"
    },
    "language_info": {
      "name": "python"
    }
  },
  "cells": [
    {
      "cell_type": "markdown",
      "source": [
        "#ID0205 - Geometría Computacional\n",
        "\n",
        "### Primavera 2023\n",
        "\n",
        "### ID0205_Lab-2.09\n",
        "\n",
        "**Profesor Enrique Naredo García**\n",
        "\n",
        "<font size = 2> \n",
        "©️ Todos los derechos reservados. All rights reserved.\n",
        "\n",
        "*Nota: El presente documento es una herramienta diseñada única y exclusivamente para los estudiantes de la asignatura arriba mencionada. Queda prohibido compartir este documento entre otros estudiantes, aún siendo de la misma clase, grupo o de la Universidad sin consentimiento del autor. Queda prohibida la reproducción total o parcial de este documento por cualquier medio o procedimiento, ya sea electrónico o mecánico, el tratamiento informático, el alquiler o cualquier otra forma de cesión sin la autorización previa y por escrito del titular del copyright.*\n",
        "</font>"
      ],
      "metadata": {
        "id": "JvyprfISK8Pc"
      }
    },
    {
      "cell_type": "markdown",
      "source": [
        "Una [triangulación de Delaunay](https://es.wikipedia.org/wiki/Triangulaci%C3%B3n_de_Delaunay) (pronunciado «Deloné»), es una red de triángulos conexa y convexa que cumple la condición de Delaunay. \n",
        "\n",
        "* Esta condición dice que la circunferencia circunscrita de cada triángulo de la red no debe contener ningún vértice de otro triángulo. \n",
        "\n",
        "* Las triangulaciones de Delaunay tienen importante relevancia en el campo de la geometría computacional, especialmente en gráficos 3D por computadora. "
      ],
      "metadata": {
        "id": "oVGRsKSYWBUW"
      }
    },
    {
      "cell_type": "markdown",
      "source": [
        "En este notebook se requiere que primero uses los siguientes nombres de los datos que vienen con la librería [Triangle](https://rufat.be/triangle/index.html) para realizar triangulaciones:\n",
        "\n",
        "* 'spiral'\n",
        "* 'ell'\n",
        "* 'spiral'\n",
        "* 'greenland'\n",
        "* 'square_circle_hole'\n",
        "\n",
        "**Nota:** Aplica un tipo de triangulación diferente en cada caso."
      ],
      "metadata": {
        "id": "o9fkxY9SVXhb"
      }
    },
    {
      "cell_type": "code",
      "execution_count": null,
      "metadata": {
        "id": "UHKk-_GvK2mc"
      },
      "outputs": [],
      "source": [
        "# Aquí tu código\n",
        "\n",
        "\n",
        "\n",
        "\n",
        "\n",
        "\n",
        "\n"
      ]
    },
    {
      "cell_type": "code",
      "execution_count": null,
      "metadata": {
        "id": "D02tqKbKv8OL"
      },
      "outputs": [],
      "source": [
        "# Aquí tu código\n",
        "\n",
        "\n",
        "\n",
        "\n",
        "\n",
        "\n",
        "\n"
      ]
    },
    {
      "cell_type": "code",
      "execution_count": null,
      "metadata": {
        "id": "hdh2899hw2sT"
      },
      "outputs": [],
      "source": [
        "# Aquí tu código\n",
        "\n",
        "\n",
        "\n",
        "\n",
        "\n",
        "\n",
        "\n"
      ]
    },
    {
      "cell_type": "code",
      "source": [
        "# Aquí tu código\n",
        "\n",
        "\n",
        "\n",
        "\n",
        "\n",
        "\n",
        "\n"
      ],
      "metadata": {
        "id": "ud-iQkOiXVXh"
      },
      "execution_count": null,
      "outputs": []
    },
    {
      "cell_type": "code",
      "source": [
        "# Aquí tu código\n",
        "\n",
        "\n",
        "\n",
        "\n",
        "\n",
        "\n",
        "\n"
      ],
      "metadata": {
        "id": "-KCPA47cXU8Z"
      },
      "execution_count": null,
      "outputs": []
    }
  ]
}