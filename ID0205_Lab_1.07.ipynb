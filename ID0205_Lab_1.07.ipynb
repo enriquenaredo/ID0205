{
  "nbformat": 4,
  "nbformat_minor": 0,
  "metadata": {
    "colab": {
      "provenance": []
    },
    "kernelspec": {
      "name": "python3",
      "display_name": "Python 3"
    },
    "language_info": {
      "name": "python"
    }
  },
  "cells": [
    {
      "cell_type": "markdown",
      "source": [
        "#ID0205 - Geometría Computacional\n",
        "\n",
        "### Primavera 2023\n",
        "\n",
        "Ejercicio #: ID0205_Lab-XX\n",
        "\n",
        "Sección: \n",
        "\n",
        "ID: \n",
        "\n",
        "Nombre completo:\n",
        "\n",
        "ID: \n",
        "\n",
        "Nombre completo:\n",
        "\n",
        "\n",
        "Profesor: Enrique Naredo García"
      ],
      "metadata": {
        "id": "rUoybvBitDRF"
      }
    },
    {
      "cell_type": "markdown",
      "source": [
        "## Introducción\n",
        "\n"
      ],
      "metadata": {
        "id": "AHsaIVsLrrqx"
      }
    },
    {
      "cell_type": "markdown",
      "source": [
        "**[Punto medio](https://es.wikipedia.org/wiki/Punto_medio)**\n",
        "\n",
        "En matemática, es el punto que se encuentra a la misma distancia de otros dos puntos cualquiera o extremos de un segmento.\n",
        "\n",
        "Más generalmente punto equidistante en matemática, es el punto que se encuentra a la misma distancia de dos elementos geométricos, ya sean puntos, segmentos, rectas, etc. "
      ],
      "metadata": {
        "id": "q4SEuBZjw-Vb"
      }
    },
    {
      "cell_type": "markdown",
      "source": [
        "    Agreguen una buena introducción, usen referencias, agreguenlas al final y eliminen las celdas que no sean importantes para su explicación, como esta misma. \n",
        "    \n",
        "    Utilicen sus propias palabras y realicen su propia investigación, los trabajos deben ser originales, incluso de preferencia no utilicen los ejemplos utilizados en este formato."
      ],
      "metadata": {
        "id": "icxz2IOmvOLd"
      }
    },
    {
      "cell_type": "markdown",
      "source": [
        "    Escribir aquí la fórmula y eliminar este comentario después"
      ],
      "metadata": {
        "id": "smADDNZnv1uM"
      }
    },
    {
      "cell_type": "markdown",
      "source": [
        "      A continuación escriban el código para la implementación de la fórmul, usen un ejemplo y den buenos comentario explicativos de todo el código."
      ],
      "metadata": {
        "id": "VgGTQeHEwIsx"
      }
    },
    {
      "cell_type": "code",
      "execution_count": null,
      "metadata": {
        "id": "E7hyQt-3q1H_"
      },
      "outputs": [],
      "source": [
        "# Aquí su código\n",
        "\n",
        "\n",
        "\n",
        "\n",
        "\n"
      ]
    },
    {
      "cell_type": "code",
      "source": [
        "# Aquí su código\n",
        "\n",
        "\n",
        "\n"
      ],
      "metadata": {
        "id": "BXw1_NIFwktO"
      },
      "execution_count": null,
      "outputs": []
    },
    {
      "cell_type": "code",
      "source": [
        "# Aquí su código\n",
        "\n",
        "\n",
        "\n"
      ],
      "metadata": {
        "id": "S4rXwl2MsI32"
      },
      "execution_count": null,
      "outputs": []
    },
    {
      "cell_type": "markdown",
      "source": [
        "## Conclusiones"
      ],
      "metadata": {
        "id": "wj0AHiPgr1gx"
      }
    },
    {
      "cell_type": "markdown",
      "source": [
        "      Agreguen en este espacio sus propias conclusiones respecto a este ejercicio."
      ],
      "metadata": {
        "id": "cLXzf0zdsKMw"
      }
    },
    {
      "cell_type": "markdown",
      "source": [
        "## Bibliografía\n",
        "\n",
        "1. Referencia 1 en APA\n",
        "2. Referencia 1 en APA\n",
        "\n"
      ],
      "metadata": {
        "id": "4L3ZgUA9r4fo"
      }
    }
  ]
}
