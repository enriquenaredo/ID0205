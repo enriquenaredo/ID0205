{
  "cells": [
    {
      "cell_type": "markdown",
      "metadata": {
        "id": "EGGGbfmY-gdk"
      },
      "source": [
        "#ID0205 - Geometría Computacional\n",
        "\n",
        "### Primavera 2023\n",
        "\n",
        "### ID0205_Lab-02\n",
        "\n",
        "**Profesor Enrique Naredo García**\n",
        "\n",
        " <font size = 2> \n",
        "©️ Todos los derechos reservados. All rights reserved.\n",
        "\n",
        "*Nota: El presente documento es una herramienta diseñada única y exclusivamente para los estudiantes de la asignatura arriba mencionada. Queda prohibido compartir este documento entre otros estudiantes, aún siendo de la misma clase, grupo o de la Universidad sin consentimiento del autor. Queda prohibida la reproducción total o parcial de este documento por cualquier medio o procedimiento, ya sea electrónico o mecánico, el tratamiento informático, el alquiler o cualquier otra forma de cesión sin la autorización previa y por escrito del titular del copyright.*\n",
        "</font>"
      ]
    },
    {
      "cell_type": "markdown",
      "metadata": {
        "id": "p4plxBkC3D6r"
      },
      "source": [
        "## Gráfica de puntos y rectas\n",
        "\n",
        "El [punto](https://es.wikipedia.org/wiki/Punto_(geometr%C3%ADa)) en la geometría es uno de los entes fundamentales de la geometría, junto con la recta y el plano, pues son considerados conceptos primaria, es decir, que solo es posible describirlos en relación con otros elementos similares o parecidos. \n",
        "* El punto carece de largo, espesor o grosor.\n",
        "\n",
        "La [recta](https://es.wikipedia.org/wiki/Recta) es un elemento unidimensional en geometría que se define como un serie infinita de puntos que mantiene una sola dirección, es decir, no presenta curvas.\n"
      ]
    },
    {
      "cell_type": "code",
      "execution_count": null,
      "metadata": {
        "id": "n3yRXgglGDL3"
      },
      "outputs": [],
      "source": [
        "# Librerías\n",
        "%matplotlib inline\n",
        "\n",
        "import numpy as np\n",
        "import matplotlib.pyplot as plt"
      ]
    },
    {
      "cell_type": "code",
      "execution_count": null,
      "metadata": {
        "id": "P16hHMT69-7P"
      },
      "outputs": [],
      "source": [
        "## Puntos en el plano Cartesiano\n",
        "\n",
        "# Definimos dos puntos\n",
        "punto1 = [1, 2]\n",
        "punto2 = [3, 1]"
      ]
    },
    {
      "cell_type": "code",
      "source": [
        "# podemos verificar el contenido de cada punto\n",
        "# solo tecleando el nombre de la variable\n",
        "# se puede notar que es un arreglo de dos valores\n",
        "punto1"
      ],
      "metadata": {
        "id": "1CwetTKRFEBb",
        "outputId": "8a682acd-910a-48a1-8aa7-f227b12565e0",
        "colab": {
          "base_uri": "https://localhost:8080/"
        }
      },
      "execution_count": null,
      "outputs": [
        {
          "output_type": "execute_result",
          "data": {
            "text/plain": [
              "[1, 2]"
            ]
          },
          "metadata": {},
          "execution_count": 16
        }
      ]
    },
    {
      "cell_type": "code",
      "source": [
        "# también podemos verificar el tipo de variable\n",
        "type(punto1)"
      ],
      "metadata": {
        "id": "e6ky8Y_bPyag",
        "outputId": "14c6cc18-e062-4059-9de2-92ac40e2fb15",
        "colab": {
          "base_uri": "https://localhost:8080/"
        }
      },
      "execution_count": null,
      "outputs": [
        {
          "output_type": "execute_result",
          "data": {
            "text/plain": [
              "list"
            ]
          },
          "metadata": {},
          "execution_count": 18
        }
      ]
    },
    {
      "cell_type": "code",
      "source": [
        "# podemos verificar la abcisa del punto2\n",
        "# [0] -> primer valor del arreglo\n",
        "# Python inicia los indices con cero\n",
        "punto2[0]"
      ],
      "metadata": {
        "colab": {
          "base_uri": "https://localhost:8080/"
        },
        "id": "HteEmrjlRH8R",
        "outputId": "99ea09d0-cfe6-49be-c702-caaee7ba795a"
      },
      "execution_count": null,
      "outputs": [
        {
          "output_type": "execute_result",
          "data": {
            "text/plain": [
              "3"
            ]
          },
          "metadata": {},
          "execution_count": 23
        }
      ]
    },
    {
      "cell_type": "code",
      "source": [
        "# también su coordenada\n",
        "# [1] -> segundo valor del arreglo\n",
        "punto2[1]"
      ],
      "metadata": {
        "colab": {
          "base_uri": "https://localhost:8080/"
        },
        "id": "xZeXLIpsRXgC",
        "outputId": "8e0ac30c-7ca9-403c-87b4-cf4cb1205d52"
      },
      "execution_count": null,
      "outputs": [
        {
          "output_type": "execute_result",
          "data": {
            "text/plain": [
              "10"
            ]
          },
          "metadata": {},
          "execution_count": 24
        }
      ]
    },
    {
      "cell_type": "code",
      "source": [
        "# se agrupan las abcisas\n",
        "x_values = [punto1[0], punto2[0]]\n",
        "\n",
        "# también las ordenadas\n",
        "y_values = [punto1[1], punto2[1]]\n"
      ],
      "metadata": {
        "id": "hCsnK0DzQ8f-"
      },
      "execution_count": null,
      "outputs": []
    },
    {
      "cell_type": "code",
      "source": [
        "# tenemos un vector de abcisas\n",
        "x_values"
      ],
      "metadata": {
        "colab": {
          "base_uri": "https://localhost:8080/"
        },
        "id": "5f8c37r6Q8dH",
        "outputId": "f51caeb5-f634-4b5e-e9d0-42c087d088a7"
      },
      "execution_count": null,
      "outputs": [
        {
          "output_type": "execute_result",
          "data": {
            "text/plain": [
              "[1, 3]"
            ]
          },
          "metadata": {},
          "execution_count": 26
        }
      ]
    },
    {
      "cell_type": "code",
      "source": [
        "# también un vector de ordenadas\n",
        "y_values"
      ],
      "metadata": {
        "colab": {
          "base_uri": "https://localhost:8080/"
        },
        "id": "AuxnUCS9SSvV",
        "outputId": "ebe62a23-6156-4df1-e0a0-69fe985f1fc5"
      },
      "execution_count": null,
      "outputs": [
        {
          "output_type": "execute_result",
          "data": {
            "text/plain": [
              "[2, 1]"
            ]
          },
          "metadata": {},
          "execution_count": 27
        }
      ]
    },
    {
      "cell_type": "code",
      "source": [
        "# podemos graficar ambos puntos\n",
        "plt.scatter(x_values, y_values)"
      ],
      "metadata": {
        "colab": {
          "base_uri": "https://localhost:8080/",
          "height": 315
        },
        "id": "DpYdO22QS3yH",
        "outputId": "d1f119d1-1f1b-41c6-ded7-a78ee2c77252"
      },
      "execution_count": null,
      "outputs": [
        {
          "output_type": "execute_result",
          "data": {
            "text/plain": [
              "<matplotlib.collections.PathCollection at 0x7f8695925ca0>"
            ]
          },
          "metadata": {},
          "execution_count": 32
        },
        {
          "output_type": "display_data",
          "data": {
            "text/plain": [
              "<Figure size 432x288 with 1 Axes>"
            ],
            "image/png": "[encoded data removed]"
          },
          "metadata": {
            "needs_background": "light"
          }
        }
      ]
    },
    {
      "cell_type": "code",
      "source": [
        "# podemos usar otro color en los puntos\n",
        "plt.scatter(x_values,y_values,color='red')"
      ],
      "metadata": {
        "colab": {
          "base_uri": "https://localhost:8080/",
          "height": 315
        },
        "id": "4Ss90AShTYs1",
        "outputId": "ac0b1f02-2a89-47a2-c91d-4cd46c943b40"
      },
      "execution_count": null,
      "outputs": [
        {
          "output_type": "execute_result",
          "data": {
            "text/plain": [
              "<matplotlib.collections.PathCollection at 0x7f86954ebdc0>"
            ]
          },
          "metadata": {},
          "execution_count": 43
        },
        {
          "output_type": "display_data",
          "data": {
            "text/plain": [
              "<Figure size 432x288 with 1 Axes>"
            ],
            "image/png": "[encoded data removed]"
          },
          "metadata": {
            "needs_background": "light"
          }
        }
      ]
    },
    {
      "cell_type": "code",
      "source": [
        "# también podemos usar otro marcador para los puntos\n",
        "# https://matplotlib.org/stable/api/markers_api.html\n",
        "plt.scatter(x_values,y_values,color='red',marker=\"^\")"
      ],
      "metadata": {
        "colab": {
          "base_uri": "https://localhost:8080/",
          "height": 315
        },
        "id": "e4Ly_XcOUKjK",
        "outputId": "a4d4cebc-6eee-4fc9-9e3a-826ce9554789"
      },
      "execution_count": null,
      "outputs": [
        {
          "output_type": "execute_result",
          "data": {
            "text/plain": [
              "<matplotlib.collections.PathCollection at 0x7f869550ef10>"
            ]
          },
          "metadata": {},
          "execution_count": 42
        },
        {
          "output_type": "display_data",
          "data": {
            "text/plain": [
              "<Figure size 432x288 with 1 Axes>"
            ],
            "image/png": "[encoded data removed]"
          },
          "metadata": {
            "needs_background": "light"
          }
        }
      ]
    },
    {
      "cell_type": "code",
      "source": [
        "# para graficar la línea entre los puntos\n",
        "plt.plot(x_values, y_values)"
      ],
      "metadata": {
        "colab": {
          "base_uri": "https://localhost:8080/",
          "height": 315
        },
        "id": "yiwKAzyrSi6-",
        "outputId": "4b7d2f24-3d07-4a35-fce9-cbfc21d8abdf"
      },
      "execution_count": null,
      "outputs": [
        {
          "output_type": "execute_result",
          "data": {
            "text/plain": [
              "[<matplotlib.lines.Line2D at 0x7f8695997bb0>]"
            ]
          },
          "metadata": {},
          "execution_count": 33
        },
        {
          "output_type": "display_data",
          "data": {
            "text/plain": [
              "<Figure size 432x288 with 1 Axes>"
            ],
            "image/png": "[encoded data removed]"
          },
          "metadata": {
            "needs_background": "light"
          }
        }
      ]
    },
    {
      "cell_type": "code",
      "source": [
        "# podemos cambiar el estilo de la línea\n",
        "plt.plot(x_values, y_values,linestyle=\"--\")\n",
        "\n"
      ],
      "metadata": {
        "colab": {
          "base_uri": "https://localhost:8080/",
          "height": 315
        },
        "id": "cMdrq5rHUKgx",
        "outputId": "398c9cce-599b-45b3-9066-97db09bcc7b4"
      },
      "execution_count": null,
      "outputs": [
        {
          "output_type": "execute_result",
          "data": {
            "text/plain": [
              "[<matplotlib.lines.Line2D at 0x7f8695402940>]"
            ]
          },
          "metadata": {},
          "execution_count": 48
        },
        {
          "output_type": "display_data",
          "data": {
            "text/plain": [
              "<Figure size 432x288 with 1 Axes>"
            ],
            "image/png": "[encoded data removed]"
          },
          "metadata": {
            "needs_background": "light"
          }
        }
      ]
    },
    {
      "cell_type": "code",
      "source": [
        "# si queremos definir puntos, debemos hacerlo antes del estilo\n",
        "# 'bo' -> blue circle\n",
        "plt.plot(x_values, y_values,'bo',linestyle=\"--\")"
      ],
      "metadata": {
        "colab": {
          "base_uri": "https://localhost:8080/",
          "height": 315
        },
        "id": "05Urtm81UKer",
        "outputId": "c9832f36-6b72-49f0-f43f-3bd132aa95c3"
      },
      "execution_count": null,
      "outputs": [
        {
          "output_type": "execute_result",
          "data": {
            "text/plain": [
              "[<matplotlib.lines.Line2D at 0x7f86953478b0>]"
            ]
          },
          "metadata": {},
          "execution_count": 50
        },
        {
          "output_type": "display_data",
          "data": {
            "text/plain": [
              "<Figure size 432x288 with 1 Axes>"
            ],
            "image/png": "[encoded data removed]"
          },
          "metadata": {
            "needs_background": "light"
          }
        }
      ]
    },
    {
      "cell_type": "code",
      "source": [
        "# si queremos definir puntos, debemos hacerlo antes del estilo\n",
        "# 'bo' -> blue circle\n",
        "plt.plot(x_values, y_values,'c*',linestyle=\"--\")"
      ],
      "metadata": {
        "colab": {
          "base_uri": "https://localhost:8080/",
          "height": 315
        },
        "id": "SqiOHDozUKcq",
        "outputId": "b9c50ef2-8014-4df8-ccf2-4aea2f175414"
      },
      "execution_count": null,
      "outputs": [
        {
          "output_type": "execute_result",
          "data": {
            "text/plain": [
              "[<matplotlib.lines.Line2D at 0x7f869533c490>]"
            ]
          },
          "metadata": {},
          "execution_count": 51
        },
        {
          "output_type": "display_data",
          "data": {
            "text/plain": [
              "<Figure size 432x288 with 1 Axes>"
            ],
            "image/png": "[encoded data removed]"
          },
          "metadata": {
            "needs_background": "light"
          }
        }
      ]
    },
    {
      "cell_type": "code",
      "source": [
        "# otras propiedades para mejorar la apariencia de las líneas y puntos\n",
        "# markeredgecolor -> mec\n",
        "# markeredgewidth -> mew\n",
        "# markerfacecolor -> mfc\n",
        "# markerfacecoloralt -> mfcalt\n",
        "plt.plot(x_values, y_values,'-bD',c='blue', mfc='red', mec='k')"
      ],
      "metadata": {
        "colab": {
          "base_uri": "https://localhost:8080/",
          "height": 315
        },
        "id": "vKxMqn4yTWep",
        "outputId": "89a589bb-d98e-42df-822e-815df97be85b"
      },
      "execution_count": null,
      "outputs": [
        {
          "output_type": "execute_result",
          "data": {
            "text/plain": [
              "[<matplotlib.lines.Line2D at 0x7f8695298340>]"
            ]
          },
          "metadata": {},
          "execution_count": 52
        },
        {
          "output_type": "display_data",
          "data": {
            "text/plain": [
              "<Figure size 432x288 with 1 Axes>"
            ],
            "image/png": "[encoded data removed]"
          },
          "metadata": {
            "needs_background": "light"
          }
        }
      ]
    },
    {
      "cell_type": "markdown",
      "source": [
        "Podemos utilizar el plano Cartesiano que construimos anteriormente"
      ],
      "metadata": {
        "id": "e7CjbrakYR__"
      }
    },
    {
      "cell_type": "code",
      "execution_count": 80,
      "metadata": {
        "colab": {
          "base_uri": "https://localhost:8080/",
          "height": 732
        },
        "id": "iDN0RBycGEMs",
        "outputId": "71e069e5-5908-4599-ed48-45f158c20076"
      },
      "outputs": [
        {
          "output_type": "display_data",
          "data": {
            "text/plain": [
              "<Figure size 720x720 with 1 Axes>"
            ],
            "image/png": "[encoded data removed]"
          },
          "metadata": {
            "needs_background": "light"
          }
        }
      ],
      "source": [
        "## Plano Cartesiano\n",
        "ancho = 10\n",
        "alto = 10\n",
        "fig, ax = plt.subplots(figsize=(ancho, alto))\n",
        "\n",
        "xmin, xmax, ymin, ymax = -5, 5, -5, 5\n",
        "ax.set(xlim=(xmin, xmax), ylim=(ymin, ymax), aspect='equal')\n",
        "\n",
        "ax.spines['bottom'].set_position('zero')\n",
        "ax.spines['left'].set_position('zero')\n",
        "\n",
        "ax.spines['top'].set_visible(False)\n",
        "ax.spines['right'].set_visible(False)\n",
        "\n",
        "ax.set_xlabel('x', size=14, labelpad=-24, x=1.03)\n",
        "ax.set_ylabel('y', size=14, labelpad=-21, y=1.02, rotation=0)\n",
        "\n",
        "ticks_frequency = 1\n",
        "x_ticks = np.arange(xmin, xmax+1, ticks_frequency)\n",
        "y_ticks = np.arange(ymin, ymax+1, ticks_frequency)\n",
        "ax.set_xticks(x_ticks[x_ticks != 0])\n",
        "ax.set_yticks(y_ticks[y_ticks != 0])\n",
        "\n",
        "ax.set_xticks(np.arange(xmin, xmax+1), minor=True)\n",
        "ax.set_yticks(np.arange(ymin, ymax+1), minor=True)\n",
        "\n",
        "ax.grid(which='both', color='grey', linewidth=1, linestyle='-', alpha=0.2)\n",
        "\n",
        "arrow_fmt = dict(markersize=4, color='black', clip_on=False)\n",
        "ax.plot((1), (0), marker='>', transform=ax.get_yaxis_transform(), **arrow_fmt)\n",
        "ax.plot((0), (1), marker='^', transform=ax.get_xaxis_transform(), **arrow_fmt)\n",
        "\n",
        "\n",
        "## Puntos en el plano Cartesiano\n",
        "plt.plot(x_values, y_values, 'bo', linestyle=\"-\")\n",
        "\n",
        "# agregar etiquetas a puntos\n",
        "# punto1[0] -> abcisa de punto 1\n",
        "# punto1[1] -> ordenada de punto 1\n",
        "plt.text(punto1[0]-0.015, punto1[1]+0.25, \"Punto-1\")\n",
        "plt.text(punto2[0]-0.050, punto2[1]-0.25, \"Punto-2\")\n",
        "\n",
        "# Dibujar líneas de conexión entre los puntos y los ejes\n",
        "colors = ['m', 'g', 'r', 'b']\n",
        "for x, y, c in zip(x_values, y_values, colors):\n",
        "    ax.plot([x, x], [0, y], c=c, ls='--', lw=1.5, alpha=0.5)\n",
        "    ax.plot([0, x], [y, y], c=c, ls='--', lw=1.5, alpha=0.5)\n",
        "\n",
        "plt.show()"
      ]
    },
    {
      "cell_type": "markdown",
      "metadata": {
        "id": "pGLzim4z_fW3"
      },
      "source": [
        "## Ejercicios"
      ]
    },
    {
      "cell_type": "markdown",
      "metadata": {
        "id": "9ach5gDX_jUw"
      },
      "source": [
        "**Grafíca 2 líneas con sus correspondientes puntos de acuerdo a los siguientes requerimientos:**\n",
        "\n",
        "I. Nivel de dificultad: Baja\n",
        "* Seleccionar los puntos necesarios (diferentes a los ejemplos)\n",
        "* Los puntos deben localizarse entre $[-10,10]$\n",
        "* Usar colores diferentes para cada línea\n",
        "* Usar marcadores diferentes por cada par de puntos\n",
        "* Usar diferente color entre la línea y los puntos\n",
        "* Etiquetar los puntos como: A(x1,y1), B(x2,y2), C(x3,y3), D(x4,y4)\n",
        "* Las etiquetas (nombres) de los puntos deben localizarse lo más cercano a cada punto relacionado\n",
        "* Agregar lineas punteadas en cada punto y los ejes\n",
        "\n",
        "\n",
        "II. Nivel de dificultad: Media\n",
        "* Graficar dos líneas con N=4 puntos generados aleatoriamente entre $[a=-20, b=10]$\n",
        "* Existen varias estrategias para generar los valores de forma aleatoria:\n",
        "  * Float (decimales): valores = np.random.uniform(a, b, size=N)\n",
        "  * Integers (enteros): valores = np.random.randint(low=a, high=b, size=(N,))\n",
        "  * Integers (enteros): valores = np.random.uniform(low=a, high=b, size=(N,)).astype(int)\n",
        "  * Recuerden que ocupan dos vectores de valores: abcisas y ordenadas\n",
        "  * Dado que ocupan graficar dos líneas, una estrategía es graficarlas por separado (de una por una) \n",
        "  * Por ejemplo: plt.plot(linea1_abcisas, linea1_ordenadas)\n",
        "  * Entonces los valores aleatorios pudieran generarse de la siguiente manera: linea1_abcisas = np.random.uniform(a, b, size=N/2)\n",
        "* Una vez que logren producir las dos líneas de forma aleatoria, pudieran embellecer el gráfico mediante diferentes colores, diferentes marcas, etiquetas, etc.\n",
        "  * Pueden agregar etiquetas para leyendas: plt.plot(x, y, label = \"line 2\")\n",
        "  * Pueden agregar leyendas para los ejes: plt.xlabel('x - axis'), similarmente con ylabel\n",
        "  * Con esta instrucción muestran las leyendas: plt.legend()\n",
        "  * Finalmente agreguen un titulo significativo de la gráfica que acaban de crear, por ejemplo: plt.title('Gráfica de dos líneas')\n",
        "\n"
      ]
    }
  ],
  "metadata": {
    "colab": {
      "provenance": []
    },
    "kernelspec": {
      "display_name": "Python 3",
      "name": "python3"
    },
    "language_info": {
      "name": "python"
    }
  },
  "nbformat": 4,
  "nbformat_minor": 0
}
