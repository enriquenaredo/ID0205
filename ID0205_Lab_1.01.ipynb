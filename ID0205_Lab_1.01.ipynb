{
  "nbformat": 4,
  "nbformat_minor": 0,
  "metadata": {
    "colab": {
      "provenance": []
    },
    "kernelspec": {
      "name": "python3",
      "display_name": "Python 3"
    },
    "language_info": {
      "name": "python"
    }
  },
  "cells": [
    {
      "cell_type": "markdown",
      "source": [
        "#ID0205 - Geometría Computacional\n",
        "\n",
        "### Primavera 2023\n",
        "\n",
        "### ID0205_Lab-01\n",
        "\n",
        "**Profesor Enrique Naredo García**\n",
        "\n",
        "<font size = 2> \n",
        "©️ Todos los derechos reservados. All rights reserved.\n",
        "\n",
        "*Nota: El presente documento es una herramienta diseñada única y exclusivamente para los estudiantes de la asignatura arriba mencionada. Queda prohibido compartir este documento entre otros estudiantes, aún siendo de la misma clase, grupo o de la Universidad sin consentimiento del autor. Queda prohibida la reproducción total o parcial de este documento por cualquier medio o procedimiento, ya sea electrónico o mecánico, el tratamiento informático, el alquiler o cualquier otra forma de cesión sin la autorización previa y por escrito del titular del copyright.*\n",
        "</font>"
      ],
      "metadata": {
        "id": "yhrfFUR7X7ke"
      }
    },
    {
      "cell_type": "markdown",
      "source": [
        "## Introducción"
      ],
      "metadata": {
        "id": "1kO07VVbzB7m"
      }
    },
    {
      "cell_type": "markdown",
      "source": [
        "**El Plano Cartesiano**\n",
        "\n",
        "Es un diagrama que permite localizar puntos específicamente dentro de un sistema de coordenadas conocidas como coordenadas Cartesianas o rectangulares.\n",
        "\n",
        "* Se denominan coordenadas cartesianas en honor a René Descartes (1596-1650), el célebre filósofo y matemático francés, su método\n",
        "toma un «punto de partida» para construir el sistema de referencia cartesiano y representar puntos en un plano. \n",
        "* Este método usa solo dos rectas perpendiculares entre sí que se cortan en un punto denominado «origen de coordenadas».\n",
        "\n",
        "* Cada punto $P$ del plano puede \"nombrarse\" mediante dos números: (x, y), que son las coordenadas del punto, llamadas abscisa y ordenada, respectivamente y son las distancias ortogonales de dicho punto respecto a los ejes cartesianos.\n",
        "\n",
        "* La coordenada $x$ se ubica sobre el eje horizontal y la coordenada $y$ sobre el eje vertical.\n",
        "\n",
        "* Para localizar cada punto $P(x,y)$, se avanza la distancia indicada por la coordenada $x$ sobre el eje horizontal y la distancia $y$ sobre el eje vertical."
      ],
      "metadata": {
        "id": "IcImhMVEteQ0"
      }
    },
    {
      "cell_type": "markdown",
      "source": [
        "## Construcción de plano cartesiano\n",
        "\n",
        "* La construcción se realizará de manera incrmental.\n",
        "* Se espera que de esta manera la explicación sea intuitiva.\n",
        "* Además, se tiene como objetivo aprender al mismo tiempo Python.\n"
      ],
      "metadata": {
        "id": "Zl4vEbYEy_LY"
      }
    },
    {
      "cell_type": "code",
      "source": [
        "# Por defecto, matplotlib crea una figura en una ventana separada\n",
        "# Usando Jupyter notebooks, si se requiere que las figuras aparezcan en línea dentro del cuaderno\n",
        "# entonces la siguiente instrucción es muy útil:\n",
        "%matplotlib inline\n",
        "\n",
        "# Importar librerías\n",
        "import numpy as np\n",
        "import matplotlib.pyplot as plt"
      ],
      "metadata": {
        "id": "jQtHQo0IE2Er"
      },
      "execution_count": null,
      "outputs": []
    },
    {
      "cell_type": "code",
      "source": [
        "# Crea una figura con las siguientes dimesiones\n",
        "ancho = 10\n",
        "alto = 10\n",
        "# figura (fig) y ejes (ax)\n",
        "fig, ax = plt.subplots(figsize=(ancho, alto))"
      ],
      "metadata": {
        "colab": {
          "base_uri": "https://localhost:8080/",
          "height": 596
        },
        "id": "5XVPp6j5y5o3",
        "outputId": "80b0a8e0-e7f2-4bf5-d69d-09bdb8ed6e6c"
      },
      "execution_count": null,
      "outputs": [
        {
          "output_type": "display_data",
          "data": {
            "text/plain": [
              "<Figure size 720x720 with 1 Axes>"
            ],
            "image/png": "[encoded data removed]"
          },
          "metadata": {
            "needs_background": "light"
          }
        }
      ]
    },
    {
      "cell_type": "code",
      "source": [
        "# Selecciona la longitud de los ejes\n",
        "xmin, xmax, ymin, ymax = -5, 5, -5, 5\n"
      ],
      "metadata": {
        "id": "MaOERe7ay5iw"
      },
      "execution_count": null,
      "outputs": []
    },
    {
      "cell_type": "code",
      "source": [
        "# Establece escalas idénticas para ambos ejes\n",
        "ax.set(\n",
        "    # eje horizontal\n",
        "    xlim=(xmin, xmax), \n",
        "    # eje vertical\n",
        "    ylim=(ymin, ymax), \n",
        "    # mantener aspecto igual en ambos ejes\n",
        "    aspect='equal'\n",
        "    )"
      ],
      "metadata": {
        "colab": {
          "base_uri": "https://localhost:8080/"
        },
        "id": "nG5UyJL90iPh",
        "outputId": "031e8a8f-e01b-4faf-c69c-b871478cd40f"
      },
      "execution_count": null,
      "outputs": [
        {
          "output_type": "execute_result",
          "data": {
            "text/plain": [
              "[(-5.0, 5.0), (-5.0, 5.0), None]"
            ]
          },
          "metadata": {},
          "execution_count": 71
        }
      ]
    },
    {
      "cell_type": "code",
      "source": [
        "# Set bottom and left spines as x and y axes of coordinate system\n",
        "ax.spines['bottom'].set_position('zero')\n",
        "ax.spines['left'].set_position('zero')\n"
      ],
      "metadata": {
        "id": "SsPYbt7-17R-"
      },
      "execution_count": null,
      "outputs": []
    },
    {
      "cell_type": "code",
      "source": [
        "# Crea una figura con las siguientes dimesiones\n",
        "ancho = 10\n",
        "alto = 10\n",
        "fig, ax = plt.subplots(figsize=(ancho, alto))\n",
        "xmin, xmax, ymin, ymax = -5, 5, -5, 5\n",
        "ax.set(xlim=(xmin, xmax), ylim=(ymin, ymax), aspect='equal')"
      ],
      "metadata": {
        "colab": {
          "base_uri": "https://localhost:8080/",
          "height": 610
        },
        "id": "zn68_QZy2nSQ",
        "outputId": "4c4837a7-35bf-43b8-875b-ea9c75d54776"
      },
      "execution_count": null,
      "outputs": [
        {
          "output_type": "execute_result",
          "data": {
            "text/plain": [
              "[(-5.0, 5.0), (-5.0, 5.0), None]"
            ]
          },
          "metadata": {},
          "execution_count": 73
        },
        {
          "output_type": "display_data",
          "data": {
            "text/plain": [
              "<Figure size 720x720 with 1 Axes>"
            ],
            "image/png": "[encoded data removed]"
          },
          "metadata": {
            "needs_background": "light"
          }
        }
      ]
    },
    {
      "cell_type": "code",
      "source": [
        "# Crea una figura con las siguientes dimesiones\n",
        "ancho = 10\n",
        "alto = 10\n",
        "fig, ax = plt.subplots(figsize=(ancho, alto))\n",
        "\n",
        "xmin, xmax, ymin, ymax = -5, 5, -5, 5\n",
        "ax.set(xlim=(xmin, xmax), ylim=(ymin, ymax), aspect='equal')\n",
        "\n",
        "# Establece los ejes 'x' y 'y' del sistema de coordenadas\n",
        "ax.spines['bottom'].set_position('zero')\n",
        "ax.spines['left'].set_position('zero')"
      ],
      "metadata": {
        "colab": {
          "base_uri": "https://localhost:8080/",
          "height": 575
        },
        "id": "FHgk2HrB1-yY",
        "outputId": "55f2f4f6-6af0-481b-c3ed-ecc191cbc16f"
      },
      "execution_count": null,
      "outputs": [
        {
          "output_type": "display_data",
          "data": {
            "text/plain": [
              "<Figure size 720x720 with 1 Axes>"
            ],
            "image/png": "[encoded data removed]"
          },
          "metadata": {
            "needs_background": "light"
          }
        }
      ]
    },
    {
      "cell_type": "code",
      "source": [
        "# Crea una figura con las siguientes dimesiones\n",
        "ancho = 10\n",
        "alto = 10\n",
        "fig, ax = plt.subplots(figsize=(ancho, alto))\n",
        "\n",
        "xmin, xmax, ymin, ymax = -5, 5, -5, 5\n",
        "ax.set(xlim=(xmin, xmax), ylim=(ymin, ymax), aspect='equal')\n",
        "\n",
        "ax.spines['bottom'].set_position('zero')\n",
        "ax.spines['left'].set_position('zero')\n",
        "\n",
        "# Elimina las líneas superior y derecha de la figura\n",
        "ax.spines['top'].set_visible(False)\n",
        "ax.spines['right'].set_visible(False)"
      ],
      "metadata": {
        "colab": {
          "base_uri": "https://localhost:8080/",
          "height": 575
        },
        "id": "7MD1JjOK1-u9",
        "outputId": "3690a576-0ed0-43e9-dca9-f6c058fa46d7"
      },
      "execution_count": null,
      "outputs": [
        {
          "output_type": "display_data",
          "data": {
            "text/plain": [
              "<Figure size 720x720 with 1 Axes>"
            ],
            "image/png": "[encoded data removed]"
          },
          "metadata": {
            "needs_background": "light"
          }
        }
      ]
    },
    {
      "cell_type": "code",
      "source": [
        "# Crea una figura con las siguientes dimesiones\n",
        "ancho = 10\n",
        "alto = 10\n",
        "fig, ax = plt.subplots(figsize=(ancho, alto))\n",
        "\n",
        "xmin, xmax, ymin, ymax = -5, 5, -5, 5\n",
        "ax.set(xlim=(xmin, xmax), ylim=(ymin, ymax), aspect='equal')\n",
        "\n",
        "ax.spines['bottom'].set_position('zero')\n",
        "ax.spines['left'].set_position('zero')\n",
        "\n",
        "ax.spines['top'].set_visible(False)\n",
        "ax.spines['right'].set_visible(False)\n",
        "\n",
        "# Crear las etiquetas para 'x' and 'y' localizadas al final de los ejes\n",
        "ax.set_xlabel('x', size=14, labelpad=-24, x=1.03)\n",
        "ax.set_ylabel('y', size=14, labelpad=-21, y=1.02, rotation=0)"
      ],
      "metadata": {
        "colab": {
          "base_uri": "https://localhost:8080/",
          "height": 617
        },
        "id": "TJGnU9BZ1-n8",
        "outputId": "8cb07c7e-32db-4a94-82ee-7359078853c5"
      },
      "execution_count": null,
      "outputs": [
        {
          "output_type": "execute_result",
          "data": {
            "text/plain": [
              "Text(0, 1.02, 'y')"
            ]
          },
          "metadata": {},
          "execution_count": 76
        },
        {
          "output_type": "display_data",
          "data": {
            "text/plain": [
              "<Figure size 720x720 with 1 Axes>"
            ],
            "image/png": "[encoded data removed]"
          },
          "metadata": {
            "needs_background": "light"
          }
        }
      ]
    },
    {
      "cell_type": "code",
      "source": [
        "# Crea una figura con las siguientes dimesiones\n",
        "ancho = 10\n",
        "alto = 10\n",
        "fig, ax = plt.subplots(figsize=(ancho, alto))\n",
        "\n",
        "xmin, xmax, ymin, ymax = -5, 5, -5, 5\n",
        "ax.set(xlim=(xmin, xmax), ylim=(ymin, ymax), aspect='equal')\n",
        "\n",
        "ax.spines['bottom'].set_position('zero')\n",
        "ax.spines['left'].set_position('zero')\n",
        "\n",
        "ax.spines['top'].set_visible(False)\n",
        "ax.spines['right'].set_visible(False)\n",
        "\n",
        "ax.set_xlabel('x', size=14, labelpad=-24, x=1.03)\n",
        "ax.set_ylabel('y', size=14, labelpad=-21, y=1.02, rotation=0)\n",
        "\n",
        "# Espacio entre las etiquetas de marca\n",
        "ticks_frequency = 1\n",
        "# Crear marcas (mayores) para determinar la posición de las etiquetas de marca\n",
        "x_ticks = np.arange(xmin, xmax+1, ticks_frequency)\n",
        "y_ticks = np.arange(ymin, ymax+1, ticks_frequency)\n",
        "ax.set_xticks(x_ticks[x_ticks != 0])\n",
        "ax.set_yticks(y_ticks[y_ticks != 0])\n",
        "plt.show()\n"
      ],
      "metadata": {
        "colab": {
          "base_uri": "https://localhost:8080/",
          "height": 605
        },
        "id": "-jn9PHRW5D-C",
        "outputId": "76d769d5-d0a8-4d20-df2a-5bf78805e00f"
      },
      "execution_count": null,
      "outputs": [
        {
          "output_type": "display_data",
          "data": {
            "text/plain": [
              "<Figure size 720x720 with 1 Axes>"
            ],
            "image/png": "[encoded data removed]"
          },
          "metadata": {
            "needs_background": "light"
          }
        }
      ]
    },
    {
      "cell_type": "code",
      "source": [
        "# Crea una figura con las siguientes dimesiones\n",
        "ancho = 10\n",
        "alto = 10\n",
        "fig, ax = plt.subplots(figsize=(ancho, alto))\n",
        "\n",
        "xmin, xmax, ymin, ymax = -5, 5, -5, 5\n",
        "ax.set(xlim=(xmin, xmax), ylim=(ymin, ymax), aspect='equal')\n",
        "\n",
        "ax.spines['bottom'].set_position('zero')\n",
        "ax.spines['left'].set_position('zero')\n",
        "\n",
        "ax.spines['top'].set_visible(False)\n",
        "ax.spines['right'].set_visible(False)\n",
        "\n",
        "ax.set_xlabel('x', size=14, labelpad=-24, x=1.03)\n",
        "ax.set_ylabel('y', size=14, labelpad=-21, y=1.02, rotation=0)\n",
        "\n",
        "ticks_frequency = 1\n",
        "x_ticks = np.arange(xmin, xmax+1, ticks_frequency)\n",
        "y_ticks = np.arange(ymin, ymax+1, ticks_frequency)\n",
        "ax.set_xticks(x_ticks[x_ticks != 0])\n",
        "ax.set_yticks(y_ticks[y_ticks != 0])\n",
        "\n",
        "# Crear marcas menores localizadas en cada entero para permitir dibujar una cuadricula (menor)\n",
        "# Nota: En este ejemplo usando ticks_frequency=1, se nota el efecto\n",
        "ax.set_xticks(np.arange(xmin, xmax+1), minor=True)\n",
        "ax.set_yticks(np.arange(ymin, ymax+1), minor=True)\n",
        "plt.show()"
      ],
      "metadata": {
        "colab": {
          "base_uri": "https://localhost:8080/",
          "height": 605
        },
        "id": "NFEonQ_k5D7P",
        "outputId": "c8c1bc2c-7d3f-4e74-a99a-5a27514c6fbe"
      },
      "execution_count": null,
      "outputs": [
        {
          "output_type": "display_data",
          "data": {
            "text/plain": [
              "<Figure size 720x720 with 1 Axes>"
            ],
            "image/png": "[encoded data removed]"
          },
          "metadata": {
            "needs_background": "light"
          }
        }
      ]
    },
    {
      "cell_type": "code",
      "source": [
        "# Crea una figura con las siguientes dimesiones\n",
        "ancho = 10\n",
        "alto = 10\n",
        "fig, ax = plt.subplots(figsize=(ancho, alto))\n",
        "\n",
        "xmin, xmax, ymin, ymax = -5, 5, -5, 5\n",
        "ax.set(xlim=(xmin, xmax), ylim=(ymin, ymax), aspect='equal')\n",
        "\n",
        "ax.spines['bottom'].set_position('zero')\n",
        "ax.spines['left'].set_position('zero')\n",
        "\n",
        "ax.spines['top'].set_visible(False)\n",
        "ax.spines['right'].set_visible(False)\n",
        "\n",
        "ax.set_xlabel('x', size=14, labelpad=-24, x=1.03)\n",
        "ax.set_ylabel('y', size=14, labelpad=-21, y=1.02, rotation=0)\n",
        "\n",
        "ticks_frequency = 1\n",
        "x_ticks = np.arange(xmin, xmax+1, ticks_frequency)\n",
        "y_ticks = np.arange(ymin, ymax+1, ticks_frequency)\n",
        "ax.set_xticks(x_ticks[x_ticks != 0])\n",
        "ax.set_yticks(y_ticks[y_ticks != 0])\n",
        "\n",
        "ax.set_xticks(np.arange(xmin, xmax+1), minor=True)\n",
        "ax.set_yticks(np.arange(ymin, ymax+1), minor=True)\n",
        "\n",
        "# Dibujar cuadricula\n",
        "ax.grid(which='both', color='grey', linewidth=1, linestyle='-', alpha=0.2)\n",
        "\n",
        "plt.show()"
      ],
      "metadata": {
        "colab": {
          "base_uri": "https://localhost:8080/",
          "height": 605
        },
        "id": "5DHADyia5D5A",
        "outputId": "83cd1990-dd72-44ee-d2cd-d1d767eb87d1"
      },
      "execution_count": null,
      "outputs": [
        {
          "output_type": "display_data",
          "data": {
            "text/plain": [
              "<Figure size 720x720 with 1 Axes>"
            ],
            "image/png": "[encoded data removed]"
          },
          "metadata": {
            "needs_background": "light"
          }
        }
      ]
    },
    {
      "cell_type": "code",
      "source": [
        "# Crea una figura con las siguientes dimesiones\n",
        "ancho = 10\n",
        "alto = 10\n",
        "fig, ax = plt.subplots(figsize=(ancho, alto))\n",
        "\n",
        "xmin, xmax, ymin, ymax = -5, 5, -5, 5\n",
        "ax.set(xlim=(xmin, xmax), ylim=(ymin, ymax), aspect='equal')\n",
        "\n",
        "ax.spines['bottom'].set_position('zero')\n",
        "ax.spines['left'].set_position('zero')\n",
        "\n",
        "ax.spines['top'].set_visible(False)\n",
        "ax.spines['right'].set_visible(False)\n",
        "\n",
        "ax.set_xlabel('x', size=14, labelpad=-24, x=1.03)\n",
        "ax.set_ylabel('y', size=14, labelpad=-21, y=1.02, rotation=0)\n",
        "\n",
        "ticks_frequency = 1\n",
        "x_ticks = np.arange(xmin, xmax+1, ticks_frequency)\n",
        "y_ticks = np.arange(ymin, ymax+1, ticks_frequency)\n",
        "ax.set_xticks(x_ticks[x_ticks != 0])\n",
        "ax.set_yticks(y_ticks[y_ticks != 0])\n",
        "\n",
        "ax.set_xticks(np.arange(xmin, xmax+1), minor=True)\n",
        "ax.set_yticks(np.arange(ymin, ymax+1), minor=True)\n",
        "\n",
        "ax.grid(which='both', color='grey', linewidth=1, linestyle='-', alpha=0.2)\n",
        "\n",
        "# Dibujar flechas en los ejes\n",
        "arrow_fmt = dict(markersize=4, color='black', clip_on=False)\n",
        "ax.plot((1), (0), marker='>', transform=ax.get_yaxis_transform(), **arrow_fmt)\n",
        "ax.plot((0), (1), marker='^', transform=ax.get_xaxis_transform(), **arrow_fmt)\n",
        "\n",
        "plt.show()"
      ],
      "metadata": {
        "colab": {
          "base_uri": "https://localhost:8080/",
          "height": 605
        },
        "id": "Gr31Orag5D2m",
        "outputId": "7fdceb55-0470-4ecb-eb75-a6d1a3683733"
      },
      "execution_count": null,
      "outputs": [
        {
          "output_type": "display_data",
          "data": {
            "text/plain": [
              "<Figure size 720x720 with 1 Axes>"
            ],
            "image/png": "[encoded data removed]"
          },
          "metadata": {
            "needs_background": "light"
          }
        }
      ]
    },
    {
      "cell_type": "markdown",
      "source": [
        "## Ejercicios"
      ],
      "metadata": {
        "id": "pGLzim4z_fW3"
      }
    },
    {
      "cell_type": "markdown",
      "source": [
        "**Construye un plano cartesiano de acuerdo a los siguientes requerimientos:**\n",
        "\n",
        "I. Nivel de dificultad: Baja\n",
        "* Línea de eje vertical color azul\n",
        "* Flecha eje vertical color cyan\n",
        "* Línea de eje horizontal color rojo\n",
        "* Flecha eje horizontal color naranja\n",
        "* Incrementa en 5 unidades en cada cuadrante\n",
        "* Utiliza marcas (ticks) a cada 0.5 de unidad\n",
        "* Nombra el eje vertical como alpha (usa la letra griega)\n",
        "* Nombra el eje horizontal como beta (usa la letra griega)\n",
        "* Incrementa la letra de los ejes a 20\n",
        "\n",
        "II. Nivel de dificultad: Media\n",
        "* Crea una función que grafique el sistema de coordenadas\n",
        "* Seleccionar los argumentos adecuados, por ejemplo\n",
        "  * xmin, xmax, ymin, ymax\n",
        "  * Utilizar estos valores en lo posible para definir otros parámetros \n",
        "\n"
      ],
      "metadata": {
        "id": "9ach5gDX_jUw"
      }
    }
  ]
}
