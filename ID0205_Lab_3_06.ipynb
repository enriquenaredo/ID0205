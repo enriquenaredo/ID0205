{
  "cells": [
    {
      "cell_type": "markdown",
      "metadata": {
        "id": "kt3YGuRgX_pm"
      },
      "source": [
        "#ID0205 - Geometría Computacional\n",
        "\n",
        "### Primavera 2023\n",
        "\n",
        "### ID0205_Lab-3.06\n",
        "\n",
        "**Profesor Enrique Naredo García**\n",
        "\n",
        "<font size = 2> \n",
        "©️ Todos los derechos reservados. All rights reserved.\n",
        "\n",
        "*Nota: El presente documento es una herramienta diseñada única y exclusivamente para los estudiantes de la asignatura arriba mencionada. Queda prohibido compartir este documento entre otros estudiantes, aún siendo de la misma clase, grupo o de la Universidad sin consentimiento del autor. Queda prohibida la reproducción total o parcial de este documento por cualquier medio o procedimiento, ya sea electrónico o mecánico, el tratamiento informático, el alquiler o cualquier otra forma de cesión sin la autorización previa y por escrito del titular del copyright.*\n",
        "</font>"
      ]
    },
    {
      "cell_type": "markdown",
      "metadata": {
        "id": "5bkCyow1eKht"
      },
      "source": [
        "##[Teoría de grafos](https://sites.google.com/site/discretas27/unidad-5-introduccion-a-los-grafos)\n",
        "\n",
        "La teoría de grafos es un tema muy antiguo; sin embargo, es utilizado en muchas aplicaciones modernas. \n",
        "\n",
        "* Sus ideas básicas fueron introducidas en el siglo XVIII por el matemático suizo Leonhard Euler.\n",
        "* Los grafos son usados para resolver problemas en muchos campos,\n",
        "* por ejemplo, se puede utilizar para diferenciar dos compuestos químicos con la misma fórmula molecular pero empleando distintas estructuras; \n",
        "* para el caso de nuestra área de interés, un ejemplo es que los grafos pueden ser utilizados para establecer si dos computadoras están conectadas por un enlace de comunicaciones entre las  de redes de computadoras."
      ]
    },
    {
      "cell_type": "markdown",
      "metadata": {
        "id": "4VmWCadNFGOd"
      },
      "source": [
        "Esta es una introducción les brindará una descripción general rápida de las siguientes operaciones:\n",
        "\n",
        "- Construir un gráfico\n",
        "- Establecer atributos de nodos y bordes.\n",
        "- Traza un gráfico usando matplotlib\n",
        "- Guardar la trama como una imagen\n",
        "- Exportar e importar un gráfico como un archivo ``.gml``"
      ]
    },
    {
      "cell_type": "markdown",
      "source": [
        "## Ejemplo-1"
      ],
      "metadata": {
        "id": "idFtTDjfl5NW"
      }
    },
    {
      "cell_type": "code",
      "execution_count": 1,
      "metadata": {
        "colab": {
          "base_uri": "https://localhost:8080/"
        },
        "id": "QuBMkguZFMh6",
        "outputId": "40466deb-1e4d-43c1-ee6d-8e395a772cde"
      },
      "outputs": [
        {
          "output_type": "stream",
          "name": "stdout",
          "text": [
            "Looking in indexes: https://pypi.org/simple, https://us-python.pkg.dev/colab-wheels/public/simple/\n",
            "Requirement already satisfied: igraph in /usr/local/lib/python3.8/dist-packages (0.10.4)\n",
            "Requirement already satisfied: texttable>=1.6.2 in /usr/local/lib/python3.8/dist-packages (from igraph) (1.6.7)\n"
          ]
        }
      ],
      "source": [
        "!pip install igraph"
      ]
    },
    {
      "cell_type": "code",
      "execution_count": 2,
      "metadata": {
        "id": "ZLWLODsbFRpU"
      },
      "outputs": [],
      "source": [
        "import igraph as ig\n",
        "import matplotlib.pyplot as plt\n",
        "import numpy as np\n",
        "import pandas as pd\n",
        "import warnings\n",
        "warnings.filterwarnings('ignore')\n",
        "%matplotlib inline"
      ]
    },
    {
      "cell_type": "code",
      "execution_count": 3,
      "metadata": {
        "id": "Y6mymIDOe3jM"
      },
      "outputs": [],
      "source": [
        "# Construimos un grafo con 5 vertices\n",
        "n_vertices = 5\n",
        "edges = [(0, 1), (0, 2), (0, 3), (0, 4), (1, 2), (1, 3), (1, 4), (3, 4)]\n",
        "grafito = ig.Graph(n_vertices, edges)"
      ]
    },
    {
      "cell_type": "code",
      "execution_count": 4,
      "metadata": {
        "colab": {
          "base_uri": "https://localhost:8080/"
        },
        "id": "vdnAga7OfxTb",
        "outputId": "1f498e3e-b592-4b5b-ead4-a3d75a406b82"
      },
      "outputs": [
        {
          "output_type": "stream",
          "name": "stdout",
          "text": [
            "IGRAPH U--- 5 8 --\n",
            "+ edges:\n",
            "0 -- 1 2 3 4   1 -- 0 2 3 4   2 -- 0 1       3 -- 0 1 4     4 -- 0 1 3\n"
          ]
        }
      ],
      "source": [
        "# imprime grafo actual en forma de estructura\n",
        "print(grafito)"
      ]
    },
    {
      "cell_type": "code",
      "execution_count": 5,
      "metadata": {
        "id": "u-mknn_JfClr"
      },
      "outputs": [],
      "source": [
        "# Atributos para el gráfico\n",
        "grafito[\"titulo\"] = \"Pequeña Red Social\"\n",
        "grafito.vs[\"nombre\"] = [\"Daniel Cortinas\", \"Katy Archundia\", \"Ana Delgado\", \"Jose Vargas\", \"Juana Hilario\"]\n",
        "grafito.vs[\"genero\"] = [\"M\", \"F\", \"F\", \"M\", \"F\"]\n",
        "grafito.es[\"casado\"] = [False, False, False, False, False, False, False, True]"
      ]
    },
    {
      "cell_type": "code",
      "execution_count": 6,
      "metadata": {
        "id": "W9-nEXHNFGOe"
      },
      "outputs": [],
      "source": [
        "# Atributos individuales\n",
        "grafito.vs[1][\"nombre\"] = \"Katy Archundia\"\n",
        "grafito.es[0][\"casado\"] = True"
      ]
    },
    {
      "cell_type": "code",
      "execution_count": 7,
      "metadata": {
        "colab": {
          "base_uri": "https://localhost:8080/",
          "height": 575
        },
        "id": "Hyc8_88WFuqg",
        "outputId": "d50e259c-bba8-4c9c-f0f9-c582bfb6b0af"
      },
      "outputs": [
        {
          "output_type": "display_data",
          "data": {
            "text/plain": [
              "<Figure size 720x720 with 1 Axes>"
            ],
            "image/png": "[encoded data removed]"
          },
          "metadata": {}
        }
      ],
      "source": [
        "## Grafica con matplotlib\n",
        "# Nota: los atributos se pueden configurar globalmente \n",
        "# p. ej.: vertex_size \n",
        "# o configurar individualmente mediante matrices\n",
        "# p. ej.Ñ: vertex_color\n",
        "figurota, ejote = plt.subplots(figsize=(10,10))\n",
        "# utiliza plot de igraph\n",
        "ig.plot(\n",
        "    grafito,\n",
        "    # target es una palabra reservada en igraph\n",
        "    target=ejote,\n",
        "    # imprimir nodos en un diseño circular\n",
        "    layout=\"circle\", \n",
        "    vertex_size=0.1,\n",
        "    vertex_color=[\"steelblue\" if genero == \"M\" else \"salmon\" for genero in grafito.vs[\"genero\"]],\n",
        "    vertex_frame_width=4.0,\n",
        "    vertex_frame_color=\"white\",\n",
        "    vertex_label=grafito.vs[\"nombre\"],\n",
        "    vertex_label_size=14.0,\n",
        "    edge_width=[2 if casado else 1 for casado in grafito.es[\"casado\"]],\n",
        "    edge_color=[\"#7142cf\" if casado else \"#AAA\" for casado in grafito.es[\"casado\"]]\n",
        ")\n",
        "\n",
        "plt.show()"
      ]
    },
    {
      "cell_type": "code",
      "source": [
        "# Guarda el gráfico como archivo de imágen \n",
        "figurota.savefig('red_social.png')\n",
        "figurota.savefig('red_social.jpg')\n",
        "figurota.savefig('red_social.pdf')\n",
        "\n",
        "# Nota: Checa en tu folder (ícono de la izquierda)"
      ],
      "metadata": {
        "id": "QaX95DXblFJQ"
      },
      "execution_count": 8,
      "outputs": []
    },
    {
      "cell_type": "code",
      "execution_count": 9,
      "metadata": {
        "id": "X6bU7IRTFp5-"
      },
      "outputs": [],
      "source": [
        "# Exporta e importa gráfico como un archivo GML.\n",
        "grafito.save(\"red_social.gml\")\n",
        "grafito = ig.load(\"red_social.gml\")\n",
        "\n",
        "# Nota: Checa en tu folder (ícono de la izquierda)"
      ]
    },
    {
      "cell_type": "markdown",
      "source": [
        "## Ejemplo-2"
      ],
      "metadata": {
        "id": "U35PYYc-ls6q"
      }
    },
    {
      "cell_type": "code",
      "execution_count": 10,
      "metadata": {
        "id": "H-7xY9OzGdgR"
      },
      "outputs": [],
      "source": [
        "# Marco de datos\n",
        "datos_accion = pd.DataFrame([\n",
        "    ['dsj3239asadsa3', 'crearPagina', 'granProyecto'],\n",
        "    ['2r09ej221sk2k5', 'editarPagina', 'granProyecto'],\n",
        "    ['dsj3239asadsa3', 'editarPagina', 'granProyecto'],\n",
        "    ['789dsadafj32jj', 'editarPagina', 'granProyecto'],\n",
        "    ['oi32ncwosap399', 'editarPagina', 'granProyecto'],\n",
        "    ['4r4320dkqpdokk', 'crearPagina', 'miniProyecto'],\n",
        "    ['320eljl3lk3239', 'editarPagina', 'miniProyecto'],\n",
        "    ['dsj3239asadsa3', 'editarPagina', 'miniProyecto'],\n",
        "    ['3203ejew332323', 'crearPagina', 'privado'],\n",
        "    ['3203ejew332323', 'editarPagina', 'privado'],\n",
        "    ['40m11919332msa', 'crearPagina', 'privado2'],\n",
        "    ['40m11919332msa', 'editarPagina', 'privado2'],\n",
        "    ['dsj3239asadsa3', 'crearPagina', 'otraGranProyecto'],\n",
        "    ['2r09ej221sk2k5', 'editarPagina', 'otraGranProyecto'],\n",
        "    ],\n",
        "    columns=['usuarioid', 'accion', 'proyecto'],\n",
        ")"
      ]
    },
    {
      "cell_type": "code",
      "execution_count": 11,
      "metadata": {
        "id": "rkXwQ-WaGiBt"
      },
      "outputs": [],
      "source": [
        "usuarios = datos_accion['usuarioid'].unique()\n",
        "# utiliza pandas para crear marco de datos\n",
        "matriz_adyacencia = pd.DataFrame(\n",
        "    np.zeros((len(usuarios), len(usuarios)), np.int32),\n",
        "    index=usuarios,\n",
        "    columns=usuarios,\n",
        ")"
      ]
    },
    {
      "cell_type": "code",
      "source": [
        "# imprime usuarios\n",
        "print(usuarios)"
      ],
      "metadata": {
        "colab": {
          "base_uri": "https://localhost:8080/"
        },
        "id": "JPjuQvaCnGlX",
        "outputId": "5ae779e9-b74a-474d-dbef-9c6710395b37"
      },
      "execution_count": 12,
      "outputs": [
        {
          "output_type": "stream",
          "name": "stdout",
          "text": [
            "['dsj3239asadsa3' '2r09ej221sk2k5' '789dsadafj32jj' 'oi32ncwosap399'\n",
            " '4r4320dkqpdokk' '320eljl3lk3239' '3203ejew332323' '40m11919332msa']\n"
          ]
        }
      ]
    },
    {
      "cell_type": "code",
      "source": [
        "# Mestra el marco de datos\n",
        "display(matriz_adyacencia)"
      ],
      "metadata": {
        "colab": {
          "base_uri": "https://localhost:8080/",
          "height": 364
        },
        "id": "1QK5EieAnlOE",
        "outputId": "77f2614f-f282-4b08-a76d-f0ba68dab7ef"
      },
      "execution_count": 13,
      "outputs": [
        {
          "output_type": "display_data",
          "data": {
            "text/plain": [
              "                dsj3239asadsa3  2r09ej221sk2k5  789dsadafj32jj  \\\n",
              "dsj3239asadsa3               0               0               0   \n",
              "2r09ej221sk2k5               0               0               0   \n",
              "789dsadafj32jj               0               0               0   \n",
              "oi32ncwosap399               0               0               0   \n",
              "4r4320dkqpdokk               0               0               0   \n",
              "320eljl3lk3239               0               0               0   \n",
              "3203ejew332323               0               0               0   \n",
              "40m11919332msa               0               0               0   \n",
              "\n",
              "                oi32ncwosap399  4r4320dkqpdokk  320eljl3lk3239  \\\n",
              "dsj3239asadsa3               0               0               0   \n",
              "2r09ej221sk2k5               0               0               0   \n",
              "789dsadafj32jj               0               0               0   \n",
              "oi32ncwosap399               0               0               0   \n",
              "4r4320dkqpdokk               0               0               0   \n",
              "320eljl3lk3239               0               0               0   \n",
              "3203ejew332323               0               0               0   \n",
              "40m11919332msa               0               0               0   \n",
              "\n",
              "                3203ejew332323  40m11919332msa  \n",
              "dsj3239asadsa3               0               0  \n",
              "2r09ej221sk2k5               0               0  \n",
              "789dsadafj32jj               0               0  \n",
              "oi32ncwosap399               0               0  \n",
              "4r4320dkqpdokk               0               0  \n",
              "320eljl3lk3239               0               0  \n",
              "3203ejew332323               0               0  \n",
              "40m11919332msa               0               0  "
            ],
            "text/html": [
              "\n",
              "  <div id=\"df-2cc35c19-9193-4231-9384-fe09b551afdc\">\n",
              "    <div class=\"colab-df-container\">\n",
              "      <div>\n",
              "<style scoped>\n",
              "    .dataframe tbody tr th:only-of-type {\n",
              "        vertical-align: middle;\n",
              "    }\n",
              "\n",
              "    .dataframe tbody tr th {\n",
              "        vertical-align: top;\n",
              "    }\n",
              "\n",
              "    .dataframe thead th {\n",
              "        text-align: right;\n",
              "    }\n",
              "</style>\n",
              "<table border=\"1\" class=\"dataframe\">\n",
              "  <thead>\n",
              "    <tr style=\"text-align: right;\">\n",
              "      <th></th>\n",
              "      <th>dsj3239asadsa3</th>\n",
              "      <th>2r09ej221sk2k5</th>\n",
              "      <th>789dsadafj32jj</th>\n",
              "      <th>oi32ncwosap399</th>\n",
              "      <th>4r4320dkqpdokk</th>\n",
              "      <th>320eljl3lk3239</th>\n",
              "      <th>3203ejew332323</th>\n",
              "      <th>40m11919332msa</th>\n",
              "    </tr>\n",
              "  </thead>\n",
              "  <tbody>\n",
              "    <tr>\n",
              "      <th>dsj3239asadsa3</th>\n",
              "      <td>0</td>\n",
              "      <td>0</td>\n",
              "      <td>0</td>\n",
              "      <td>0</td>\n",
              "      <td>0</td>\n",
              "      <td>0</td>\n",
              "      <td>0</td>\n",
              "      <td>0</td>\n",
              "    </tr>\n",
              "    <tr>\n",
              "      <th>2r09ej221sk2k5</th>\n",
              "      <td>0</td>\n",
              "      <td>0</td>\n",
              "      <td>0</td>\n",
              "      <td>0</td>\n",
              "      <td>0</td>\n",
              "      <td>0</td>\n",
              "      <td>0</td>\n",
              "      <td>0</td>\n",
              "    </tr>\n",
              "    <tr>\n",
              "      <th>789dsadafj32jj</th>\n",
              "      <td>0</td>\n",
              "      <td>0</td>\n",
              "      <td>0</td>\n",
              "      <td>0</td>\n",
              "      <td>0</td>\n",
              "      <td>0</td>\n",
              "      <td>0</td>\n",
              "      <td>0</td>\n",
              "    </tr>\n",
              "    <tr>\n",
              "      <th>oi32ncwosap399</th>\n",
              "      <td>0</td>\n",
              "      <td>0</td>\n",
              "      <td>0</td>\n",
              "      <td>0</td>\n",
              "      <td>0</td>\n",
              "      <td>0</td>\n",
              "      <td>0</td>\n",
              "      <td>0</td>\n",
              "    </tr>\n",
              "    <tr>\n",
              "      <th>4r4320dkqpdokk</th>\n",
              "      <td>0</td>\n",
              "      <td>0</td>\n",
              "      <td>0</td>\n",
              "      <td>0</td>\n",
              "      <td>0</td>\n",
              "      <td>0</td>\n",
              "      <td>0</td>\n",
              "      <td>0</td>\n",
              "    </tr>\n",
              "    <tr>\n",
              "      <th>320eljl3lk3239</th>\n",
              "      <td>0</td>\n",
              "      <td>0</td>\n",
              "      <td>0</td>\n",
              "      <td>0</td>\n",
              "      <td>0</td>\n",
              "      <td>0</td>\n",
              "      <td>0</td>\n",
              "      <td>0</td>\n",
              "    </tr>\n",
              "    <tr>\n",
              "      <th>3203ejew332323</th>\n",
              "      <td>0</td>\n",
              "      <td>0</td>\n",
              "      <td>0</td>\n",
              "      <td>0</td>\n",
              "      <td>0</td>\n",
              "      <td>0</td>\n",
              "      <td>0</td>\n",
              "      <td>0</td>\n",
              "    </tr>\n",
              "    <tr>\n",
              "      <th>40m11919332msa</th>\n",
              "      <td>0</td>\n",
              "      <td>0</td>\n",
              "      <td>0</td>\n",
              "      <td>0</td>\n",
              "      <td>0</td>\n",
              "      <td>0</td>\n",
              "      <td>0</td>\n",
              "      <td>0</td>\n",
              "    </tr>\n",
              "  </tbody>\n",
              "</table>\n",
              "</div>\n",
              "      <button class=\"colab-df-convert\" onclick=\"convertToInteractive('df-2cc35c19-9193-4231-9384-fe09b551afdc')\"\n",
              "              title=\"Convert this dataframe to an interactive table.\"\n",
              "              style=\"display:none;\">\n",
              "        \n",
              "  <svg xmlns=\"http://www.w3.org/2000/svg\" height=\"24px\"viewBox=\"0 0 24 24\"\n",
              "       width=\"24px\">\n",
              "    <path d=\"M0 0h24v24H0V0z\" fill=\"none\"/>\n",
              "    <path d=\"M18.56 5.44l.94 2.06.94-2.06 2.06-.94-2.06-.94-.94-2.06-.94 2.06-2.06.94zm-11 1L8.5 8.5l.94-2.06 2.06-.94-2.06-.94L8.5 2.5l-.94 2.06-2.06.94zm10 10l.94 2.06.94-2.06 2.06-.94-2.06-.94-.94-2.06-.94 2.06-2.06.94z\"/><path d=\"M17.41 7.96l-1.37-1.37c-.4-.4-.92-.59-1.43-.59-.52 0-1.04.2-1.43.59L10.3 9.45l-7.72 7.72c-.78.78-.78 2.05 0 2.83L4 21.41c.39.39.9.59 1.41.59.51 0 1.02-.2 1.41-.59l7.78-7.78 2.81-2.81c.8-.78.8-2.07 0-2.86zM5.41 20L4 18.59l7.72-7.72 1.47 1.35L5.41 20z\"/>\n",
              "  </svg>\n",
              "      </button>\n",
              "      \n",
              "  <style>\n",
              "    .colab-df-container {\n",
              "      display:flex;\n",
              "      flex-wrap:wrap;\n",
              "      gap: 12px;\n",
              "    }\n",
              "\n",
              "    .colab-df-convert {\n",
              "      background-color: #E8F0FE;\n",
              "      border: none;\n",
              "      border-radius: 50%;\n",
              "      cursor: pointer;\n",
              "      display: none;\n",
              "      fill: #1967D2;\n",
              "      height: 32px;\n",
              "      padding: 0 0 0 0;\n",
              "      width: 32px;\n",
              "    }\n",
              "\n",
              "    .colab-df-convert:hover {\n",
              "      background-color: #E2EBFA;\n",
              "      box-shadow: 0px 1px 2px rgba(60, 64, 67, 0.3), 0px 1px 3px 1px rgba(60, 64, 67, 0.15);\n",
              "      fill: #174EA6;\n",
              "    }\n",
              "\n",
              "    [theme=dark] .colab-df-convert {\n",
              "      background-color: #3B4455;\n",
              "      fill: #D2E3FC;\n",
              "    }\n",
              "\n",
              "    [theme=dark] .colab-df-convert:hover {\n",
              "      background-color: #434B5C;\n",
              "      box-shadow: 0px 1px 3px 1px rgba(0, 0, 0, 0.15);\n",
              "      filter: drop-shadow(0px 1px 2px rgba(0, 0, 0, 0.3));\n",
              "      fill: #FFFFFF;\n",
              "    }\n",
              "  </style>\n",
              "\n",
              "      <script>\n",
              "        const buttonEl =\n",
              "          document.querySelector('#df-2cc35c19-9193-4231-9384-fe09b551afdc button.colab-df-convert');\n",
              "        buttonEl.style.display =\n",
              "          google.colab.kernel.accessAllowed ? 'block' : 'none';\n",
              "\n",
              "        async function convertToInteractive(key) {\n",
              "          const element = document.querySelector('#df-2cc35c19-9193-4231-9384-fe09b551afdc');\n",
              "          const dataTable =\n",
              "            await google.colab.kernel.invokeFunction('convertToInteractive',\n",
              "                                                     [key], {});\n",
              "          if (!dataTable) return;\n",
              "\n",
              "          const docLinkHtml = 'Like what you see? Visit the ' +\n",
              "            '<a target=\"_blank\" href=https://colab.research.google.com/notebooks/data_table.ipynb>data table notebook</a>'\n",
              "            + ' to learn more about interactive tables.';\n",
              "          element.innerHTML = '';\n",
              "          dataTable['output_type'] = 'display_data';\n",
              "          await google.colab.output.renderOutput(dataTable, element);\n",
              "          const docLink = document.createElement('div');\n",
              "          docLink.innerHTML = docLinkHtml;\n",
              "          element.appendChild(docLink);\n",
              "        }\n",
              "      </script>\n",
              "    </div>\n",
              "  </div>\n",
              "  "
            ]
          },
          "metadata": {}
        }
      ]
    },
    {
      "cell_type": "code",
      "execution_count": 14,
      "metadata": {
        "id": "GxXVpvEwGk0o"
      },
      "outputs": [],
      "source": [
        "# usuarios de proyecto\n",
        "for project, datos_accion in datos_accion.groupby('proyecto'):\n",
        "    usuarios_proyecto = datos_accion['usuarioid'].values\n",
        "    for i1, user1 in enumerate(usuarios_proyecto):\n",
        "        for user2 in usuarios_proyecto[:i1]:\n",
        "            matriz_adyacencia.at[user1, user2] += 1"
      ]
    },
    {
      "cell_type": "code",
      "execution_count": 15,
      "metadata": {
        "id": "BKduD7WVGnjc"
      },
      "outputs": [],
      "source": [
        "# grafo con matriz de adyacencia\n",
        "grafito = ig.Graph.Weighted_Adjacency(matriz_adyacencia, mode='plus')\n"
      ]
    },
    {
      "cell_type": "code",
      "execution_count": 16,
      "metadata": {
        "id": "6AahS6cdGqdL"
      },
      "outputs": [],
      "source": [
        "# imprimir nodos en un diseño circular\n",
        "layout = grafito.layout('circle')"
      ]
    },
    {
      "cell_type": "code",
      "execution_count": 17,
      "metadata": {
        "id": "_pwmvP30GtoU"
      },
      "outputs": [],
      "source": [
        "# \n",
        "tamanio_vertice = grafito.closeness()\n",
        "tamanio_vertice = [0.5 * v**2 if not np.isnan(v) else 0.05 for v in tamanio_vertice]"
      ]
    },
    {
      "cell_type": "code",
      "execution_count": 18,
      "metadata": {
        "id": "fLuHpOT1GwkD",
        "colab": {
          "base_uri": "https://localhost:8080/",
          "height": 248
        },
        "outputId": "7019c10a-9444-460b-c06a-ff0189b083dd"
      },
      "outputs": [
        {
          "output_type": "display_data",
          "data": {
            "text/plain": [
              "<Figure size 432x288 with 1 Axes>"
            ],
            "image/png": "[encoded data removed]"
          },
          "metadata": {}
        }
      ],
      "source": [
        "#\n",
        "fig, ax = plt.subplots()\n",
        "ig.plot(\n",
        "    grafito,\n",
        "    target=ax,\n",
        "    layout=layout,\n",
        "    vertex_label=grafito.vs['name'],\n",
        "    vertex_color=\"lightblue\",\n",
        "    vertex_size=tamanio_vertice,\n",
        "    edge_width=grafito.es[\"weight\"],\n",
        ")\n",
        "plt.show()"
      ]
    },
    {
      "cell_type": "code",
      "execution_count": 19,
      "metadata": {
        "id": "ww6VImIWG1os",
        "colab": {
          "base_uri": "https://localhost:8080/",
          "height": 248
        },
        "outputId": "5a762c4d-afeb-4f46-894b-c538a394ee40"
      },
      "outputs": [
        {
          "output_type": "display_data",
          "data": {
            "text/plain": [
              "<Figure size 432x288 with 1 Axes>"
            ],
            "image/png": "[encoded data removed]"
          },
          "metadata": {}
        }
      ],
      "source": [
        "#\n",
        "grafito = grafito.simplify(combine_edges='last') # 'first'\n",
        "\n",
        "fig, ax = plt.subplots()\n",
        "ig.plot(\n",
        "    grafito,\n",
        "    target=ax,\n",
        "    layout=layout,\n",
        "    vertex_label=grafito.vs['name'],\n",
        "    vertex_color=\"lightblue\",\n",
        "    vertex_size=tamanio_vertice,\n",
        "    edge_width=grafito.es[\"weight\"],\n",
        ")\n",
        "plt.show()"
      ]
    },
    {
      "cell_type": "markdown",
      "source": [
        "### Ejercicio\n",
        "\n",
        "* Crea una pequeña red social con nombres de tus amigos utilizando el ejemplo 1.\n",
        "\n",
        "* Crea un proyecto utilizando el ejemplo 2 y elementos de esta asignatura; Nombres de unidades, secciones, notebooks, utiliza claves de proyectos como por ejemplo; ID0205_02032023-1.\n",
        "\n",
        "\n"
      ],
      "metadata": {
        "id": "W3QU71Ndqdyu"
      }
    }
  ],
  "metadata": {
    "colab": {
      "provenance": []
    },
    "kernelspec": {
      "display_name": "Python 3",
      "name": "python3"
    },
    "language_info": {
      "name": "python"
    }
  },
  "nbformat": 4,
  "nbformat_minor": 0
}