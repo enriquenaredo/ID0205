{
  "cells": [
    {
      "cell_type": "markdown",
      "metadata": {
        "id": "IEd8UisfAlry"
      },
      "source": [
        "#ID0205 - Geometría Computacional\n",
        "\n",
        "### Primavera 2023\n",
        "\n",
        "### ID0205_Lab-3.09\n",
        "\n",
        "**Profesor Enrique Naredo García**\n",
        "\n",
        "<font size = 2> \n",
        "©️ Todos los derechos reservados. All rights reserved.\n",
        "\n",
        "*Nota: El presente documento es una herramienta diseñada única y exclusivamente para los estudiantes de la asignatura arriba mencionada. Queda prohibido compartir este documento entre otros estudiantes, aún siendo de la misma clase, grupo o de la Universidad sin consentimiento del autor. Queda prohibida la reproducción total o parcial de este documento por cualquier medio o procedimiento, ya sea electrónico o mecánico, el tratamiento informático, el alquiler o cualquier otra forma de cesión sin la autorización previa y por escrito del titular del copyright.*\n",
        "</font>"
      ]
    },
    {
      "cell_type": "markdown",
      "metadata": {
        "id": "V6gF1hvnoTB4"
      },
      "source": [
        "## [Búsqueda Líneal](https://es.wikipedia.org/wiki/B%C3%BAsqueda_lineal)\n",
        "\n",
        "En informática, la búsqueda lineal o la búsqueda secuencial es un método para encontrar un valor objetivo dentro de una lista. \n",
        "\n",
        "* Ésta comprueba secuencialmente cada elemento de la lista para el valor objetivo hasta que es encontrado o hasta que todos los elementos hayan sido comparados. "
      ]
    },
    {
      "cell_type": "markdown",
      "source": [
        "**Puntos importantes acerca de la búsqueda líneal**\n",
        "  \n",
        "* Cada elemento de la matriz/lista se compara con el elemento que debe buscarse.\n",
        "* Va hasta el final de la lista.\n",
        "* Si se encuentra el elemento, se devuelve un mensaje con el índice.\n",
        "* Si no se encuentra el elemento, se devuelve el mensaje correspondiente.\n",
        "* No es necesario organizar los elementos en un orden específico/clasificado.\n",
        "* Se puede implementar en cualquier estructura de datos lineales como una matriz, lista enlazada.\n",
        "* Se basa en un enfoque secuencial.\n",
        "* Es preferible utilizarlo con conjuntos de datos de pequeño tamaño.\n",
        "* Es menos eficiente cuando el tamaño de la matriz/lista es grande.\n",
        "* La complejidad del peor de los casos para encontrar un elemento es $O(n)$ donde $n$ es el número de elementos.\n",
        "* La complejidad del mejor de los casos para encontrar un elemento es $O(1)$.\n",
        "* Se puede utilizar con arreglos unidimensionales y multidimensionales."
      ],
      "metadata": {
        "id": "EUT92HfeyA2l"
      }
    },
    {
      "cell_type": "code",
      "execution_count": null,
      "metadata": {
        "id": "MHlSP71trqRs"
      },
      "outputs": [],
      "source": [
        "# arreglo de números\n",
        "arreglo = [2, 3, 4, 10, 40]\n",
        "\n",
        "# número a buscar\n",
        "numPorEncontrar = 10"
      ]
    },
    {
      "cell_type": "code",
      "execution_count": null,
      "metadata": {
        "colab": {
          "base_uri": "https://localhost:8080/"
        },
        "id": "xNW4uAKfsqEo",
        "outputId": "68cc3472-5ac7-4c30-f5df-9aebf238cecc"
      },
      "outputs": [
        {
          "output_type": "stream",
          "name": "stdout",
          "text": [
            "[2, 3, 4, 10, 40]\n"
          ]
        }
      ],
      "source": [
        "# imprime el arreglo\n",
        "print(arreglo)"
      ]
    },
    {
      "cell_type": "code",
      "execution_count": null,
      "metadata": {
        "colab": {
          "base_uri": "https://localhost:8080/"
        },
        "id": "FRsmyz26s4tJ",
        "outputId": "0f3af1be-02a7-4e49-a541-d63a3fcd3b54"
      },
      "outputs": [
        {
          "output_type": "execute_result",
          "data": {
            "text/plain": [
              "2"
            ]
          },
          "metadata": {},
          "execution_count": 3
        }
      ],
      "source": [
        "# número en el arreglo con el indice: 0\n",
        "arreglo[0]"
      ]
    },
    {
      "cell_type": "code",
      "execution_count": null,
      "metadata": {
        "colab": {
          "base_uri": "https://localhost:8080/"
        },
        "id": "BjgbqBxUtJAr",
        "outputId": "101de6fb-54fa-4821-f5f0-6d3215b15d1b"
      },
      "outputs": [
        {
          "output_type": "execute_result",
          "data": {
            "text/plain": [
              "3"
            ]
          },
          "metadata": {},
          "execution_count": 4
        }
      ],
      "source": [
        "# número en el arreglo con el indice: 1\n",
        "arreglo[1]"
      ]
    },
    {
      "cell_type": "code",
      "execution_count": null,
      "metadata": {
        "colab": {
          "base_uri": "https://localhost:8080/"
        },
        "id": "gDjteabEtLD4",
        "outputId": "a9003ac1-045e-4aed-f43d-d02d17e8c1d7"
      },
      "outputs": [
        {
          "output_type": "execute_result",
          "data": {
            "text/plain": [
              "4"
            ]
          },
          "metadata": {},
          "execution_count": 5
        }
      ],
      "source": [
        "# número en el arreglo con el indice: 2\n",
        "arreglo[2]"
      ]
    },
    {
      "cell_type": "code",
      "execution_count": null,
      "metadata": {
        "colab": {
          "base_uri": "https://localhost:8080/"
        },
        "id": "1HtQEKNytNIc",
        "outputId": "8a23abb7-320a-457d-ae0c-9dccc6c806c3"
      },
      "outputs": [
        {
          "output_type": "execute_result",
          "data": {
            "text/plain": [
              "10"
            ]
          },
          "metadata": {},
          "execution_count": 6
        }
      ],
      "source": [
        "# número en el arreglo con el indice: 3\n",
        "arreglo[3]"
      ]
    },
    {
      "cell_type": "code",
      "execution_count": null,
      "metadata": {
        "colab": {
          "base_uri": "https://localhost:8080/"
        },
        "id": "6D2pyYlptQJ7",
        "outputId": "dc332c6f-2a0d-4afa-edd3-4c7435349bba"
      },
      "outputs": [
        {
          "output_type": "execute_result",
          "data": {
            "text/plain": [
              "40"
            ]
          },
          "metadata": {},
          "execution_count": 7
        }
      ],
      "source": [
        "# número en el arreglo con el indice: 4\n",
        "arreglo[4]"
      ]
    },
    {
      "cell_type": "code",
      "execution_count": null,
      "metadata": {
        "colab": {
          "base_uri": "https://localhost:8080/",
          "height": 205
        },
        "id": "Smperx2OtSLn",
        "outputId": "7ad0b8a8-1137-4f7f-8b76-2677be633b57"
      },
      "outputs": [
        {
          "output_type": "error",
          "ename": "IndexError",
          "evalue": "ignored",
          "traceback": [
            "\u001b[0;31m---------------------------------------------------------------------------\u001b[0m",
            "\u001b[0;31mIndexError\u001b[0m                                Traceback (most recent call last)",
            "\u001b[0;32m<ipython-input-8-473b11f8fca4>\u001b[0m in \u001b[0;36m<module>\u001b[0;34m\u001b[0m\n\u001b[1;32m      1\u001b[0m \u001b[0;31m# número en el arreglo con el indice: 5\u001b[0m\u001b[0;34m\u001b[0m\u001b[0;34m\u001b[0m\u001b[0m\n\u001b[1;32m      2\u001b[0m \u001b[0;31m# no existe\u001b[0m\u001b[0;34m\u001b[0m\u001b[0;34m\u001b[0m\u001b[0m\n\u001b[0;32m----> 3\u001b[0;31m \u001b[0marreglo\u001b[0m\u001b[0;34m[\u001b[0m\u001b[0;36m5\u001b[0m\u001b[0;34m]\u001b[0m\u001b[0;34m\u001b[0m\u001b[0;34m\u001b[0m\u001b[0m\n\u001b[0m",
            "\u001b[0;31mIndexError\u001b[0m: list index out of range"
          ]
        }
      ],
      "source": [
        "# número en el arreglo con el indice: 5\n",
        "# no existe\n",
        "arreglo[5]"
      ]
    },
    {
      "cell_type": "code",
      "execution_count": null,
      "metadata": {
        "colab": {
          "base_uri": "https://localhost:8080/"
        },
        "id": "DigMs8X9tcfg",
        "outputId": "27a41148-6881-4ad8-edc8-b36008e0297d"
      },
      "outputs": [
        {
          "output_type": "execute_result",
          "data": {
            "text/plain": [
              "False"
            ]
          },
          "metadata": {},
          "execution_count": 9
        }
      ],
      "source": [
        "# comparamos cada número en el arreglo\n",
        "# con el número que buscamos\n",
        "# utilizamos el operador '==' para\n",
        "# comparar un valor con respecto a otro\n",
        "# es similar a preguntar: \"0 es igual a 10?\"\n",
        "# la respuesta es 'Falso' o 'Verdadero'\n",
        "arreglo[0] == 10\n"
      ]
    },
    {
      "cell_type": "code",
      "execution_count": null,
      "metadata": {
        "colab": {
          "base_uri": "https://localhost:8080/"
        },
        "id": "YD-aWJK1tw7U",
        "outputId": "3595c293-2b07-4f5c-adce-fa89dc2ebd92"
      },
      "outputs": [
        {
          "output_type": "execute_result",
          "data": {
            "text/plain": [
              "False"
            ]
          },
          "metadata": {},
          "execution_count": 10
        }
      ],
      "source": [
        "# comparamos cada número en el arreglo\n",
        "# con el número que buscamos\n",
        "arreglo[0] == numPorEncontrar"
      ]
    },
    {
      "cell_type": "code",
      "execution_count": null,
      "metadata": {
        "colab": {
          "base_uri": "https://localhost:8080/"
        },
        "id": "Jtv0ck38t4zF",
        "outputId": "6ac9e4f1-ab82-423c-9427-4dccd20c130f"
      },
      "outputs": [
        {
          "output_type": "stream",
          "name": "stdout",
          "text": [
            "False\n",
            "False\n",
            "False\n",
            "False\n",
            "True\n",
            "False\n"
          ]
        }
      ],
      "source": [
        "# comparamos contra todos los elementos\n",
        "# se usa print para visualizar las respuestas\n",
        "# imprimir no es necesario cuando se implementa \n",
        "# el código formalmente\n",
        "print(arreglo[0] == numPorEncontrar)\n",
        "print(arreglo[1] == numPorEncontrar)\n",
        "print(arreglo[2] == numPorEncontrar)\n",
        "print(arreglo[2] == numPorEncontrar)\n",
        "print(arreglo[3] == numPorEncontrar)\n",
        "print(arreglo[4] == numPorEncontrar)\n",
        "\n",
        "# Nota: arreglo[3] == numPorEncontrar = True"
      ]
    },
    {
      "cell_type": "code",
      "execution_count": null,
      "metadata": {
        "colab": {
          "base_uri": "https://localhost:8080/"
        },
        "id": "p1kjXfKgtcc5",
        "outputId": "7ad5fde2-c281-44e6-a9cb-bcad51323c93"
      },
      "outputs": [
        {
          "output_type": "stream",
          "name": "stdout",
          "text": [
            "3\n"
          ]
        }
      ],
      "source": [
        "# utilizando un ciclo \n",
        "for indiceNum in range(0, len(arreglo)):\n",
        "  # comparación\n",
        "  if (arreglo[indiceNum] == numPorEncontrar):\n",
        "    # si es verdadero, imprime el indice donde se encontró\n",
        "    print(indiceNum)"
      ]
    },
    {
      "cell_type": "markdown",
      "source": [
        "### Función iterativa"
      ],
      "metadata": {
        "id": "L6Ue1LVhAy_j"
      }
    },
    {
      "cell_type": "code",
      "execution_count": null,
      "metadata": {
        "id": "KNnun4GYw3vd"
      },
      "outputs": [],
      "source": [
        "# Búsqueda líneal iterativa\n",
        "def busqLineal_iter(arreglo, numPorEncontrar):\n",
        "  # ciclo para iterar en el arreglo mediante sus indices\n",
        "  for indiceNum in range(0, len(arreglo)):\n",
        "    # compara los números en el arreglo de uno por uno\n",
        "    if (arreglo[indiceNum] == numPorEncontrar):\n",
        "      # si es verdadero, imprime el indice donde se encontró\n",
        "      return indiceNum\n",
        "  # en caso de que no se encuentre regresa -1\n",
        "  return -1"
      ]
    },
    {
      "cell_type": "code",
      "source": [
        "# uso de la función de búsqueda líneal\n",
        "resultado = busqLineal_iter(arreglo, 10)"
      ],
      "metadata": {
        "id": "vY-EvloNt75_"
      },
      "execution_count": null,
      "outputs": []
    },
    {
      "cell_type": "code",
      "source": [
        "# imprime el resultado\n",
        "if(resultado == -1):\n",
        "    print(\"El número no se encuentra en el arreglo.\")\n",
        "else:\n",
        "    print(\"El número 10 se encuentra en el indice:\", resultado)"
      ],
      "metadata": {
        "colab": {
          "base_uri": "https://localhost:8080/"
        },
        "id": "BG8fhQ5HucbZ",
        "outputId": "752833e9-3b06-40b5-9be4-4ed6f6ab638c"
      },
      "execution_count": null,
      "outputs": [
        {
          "output_type": "stream",
          "name": "stdout",
          "text": [
            "El número 10 se encuentra en el indice: 3\n"
          ]
        }
      ]
    },
    {
      "cell_type": "code",
      "source": [
        "# probamos nuestra función con caracteres\n",
        "arr = ['g','e','o','m','e','t','r','i','a']\n",
        "x = 't'\n",
        "print(\"La letra\", x, \"se encuentra en el indice: \"+str(busqLineal_iter(arr, x)))"
      ],
      "metadata": {
        "colab": {
          "base_uri": "https://localhost:8080/"
        },
        "id": "9ZlWyvkB_AiB",
        "outputId": "a33925dd-1f23-4c52-8188-7850bd3db8f7"
      },
      "execution_count": null,
      "outputs": [
        {
          "output_type": "stream",
          "name": "stdout",
          "text": [
            "La letra t se encuentra en el indice: 5\n"
          ]
        }
      ]
    },
    {
      "cell_type": "markdown",
      "source": [
        "### Función recursiva"
      ],
      "metadata": {
        "id": "oOt32_IVA661"
      }
    },
    {
      "cell_type": "markdown",
      "source": [
        "La idea es comparar ```numPorEncontrar``` con el primer elemento en el ```arreglo[]```. \n",
        "* Si el elemento se encuentra en la primera posición, regresalo como salida. \n",
        "* De lo contrario, recurra a ```busqLineal_recur()``` en el arreglo restante y el elemento ```numPorEncontrar```.\n",
        "\n"
      ],
      "metadata": {
        "id": "EBYOmDlmCiWC"
      }
    },
    {
      "cell_type": "code",
      "source": [
        "arreglo"
      ],
      "metadata": {
        "colab": {
          "base_uri": "https://localhost:8080/"
        },
        "id": "tA1U6rKTI_vD",
        "outputId": "6f7f0ec0-fc1d-40d1-db8e-ff88e3087268"
      },
      "execution_count": null,
      "outputs": [
        {
          "output_type": "execute_result",
          "data": {
            "text/plain": [
              "[2, 3, 4, 10, 40]"
            ]
          },
          "metadata": {},
          "execution_count": 47
        }
      ]
    },
    {
      "cell_type": "code",
      "source": [
        "# primera posición\n",
        "arreglo[0]"
      ],
      "metadata": {
        "colab": {
          "base_uri": "https://localhost:8080/"
        },
        "id": "a0GardE9H2wC",
        "outputId": "44a864d2-87bf-487d-fc71-ba1ffc865930"
      },
      "execution_count": null,
      "outputs": [
        {
          "output_type": "execute_result",
          "data": {
            "text/plain": [
              "40"
            ]
          },
          "metadata": {},
          "execution_count": 46
        }
      ]
    },
    {
      "cell_type": "code",
      "source": [
        "# siguientes posición\n",
        "arreglo[0+1]"
      ],
      "metadata": {
        "colab": {
          "base_uri": "https://localhost:8080/"
        },
        "id": "Jqw5HjH0I3cW",
        "outputId": "c8a902a6-2c4d-4703-bbad-9782012b93e0"
      },
      "execution_count": null,
      "outputs": [
        {
          "output_type": "execute_result",
          "data": {
            "text/plain": [
              "10"
            ]
          },
          "metadata": {},
          "execution_count": 48
        }
      ]
    },
    {
      "cell_type": "code",
      "source": [
        "# Búsqueda líneal recursiva\n",
        "def busqLineal_recur(arreglo, numPorEncontrar, indiceActual):\n",
        "  if indiceActual >= len(arreglo):\n",
        "      return -1\n",
        "  if arreglo[indiceActual] == numPorEncontrar:\n",
        "      return indiceActual\n",
        "  return busqLineal_recur(arreglo, numPorEncontrar, indiceActual+1)"
      ],
      "metadata": {
        "id": "NkICXI-QA948"
      },
      "execution_count": null,
      "outputs": []
    },
    {
      "cell_type": "code",
      "source": [
        "# uso de la función de búsqueda líneal\n",
        "print(\"El número 10 se encuentra en el indice: \"+str(busqLineal_recur(arreglo, 10, 0)))"
      ],
      "metadata": {
        "colab": {
          "base_uri": "https://localhost:8080/"
        },
        "id": "uft7pnMFF_se",
        "outputId": "d3249a16-ef7a-4b96-a704-0e1ee7a84698"
      },
      "execution_count": null,
      "outputs": [
        {
          "output_type": "stream",
          "name": "stdout",
          "text": [
            "El número 10 se encuentra en el indice: 3\n"
          ]
        }
      ]
    },
    {
      "cell_type": "code",
      "source": [
        "# uso de la función de búsqueda líneal\n",
        "print(\"La letra\", x, \"se encuentra en el indice: \"+str(busqLineal_recur(arr, x, 0)))"
      ],
      "metadata": {
        "colab": {
          "base_uri": "https://localhost:8080/"
        },
        "id": "3yCje986Meni",
        "outputId": "10cffea3-2327-4cfb-9f15-68deafed126d"
      },
      "execution_count": null,
      "outputs": [
        {
          "output_type": "stream",
          "name": "stdout",
          "text": [
            "La letra t se encuentra en el indice: 5\n"
          ]
        }
      ]
    },
    {
      "cell_type": "markdown",
      "source": [
        "### Ejercicio\n",
        "\n",
        "* Propón un arreglo de 20 números para probar tus códigos.\n",
        "* Propón un arreglo de 15 caracteres para probar tus códigos.\n",
        "\n",
        "* Utiliza los ejemplos para crear un código que considere la búsqueda de los elementos iniciando desde el final, es decir tomando los indices en forma decreciente.\n",
        "  * Búsqueda líneal iterativa decreciente.\n",
        "  * Búsqueda líneal recursiva decreciente.\n",
        "\n",
        "* Basandote en los ejemplos crea un código que utilize 'while' en lugar de 'for'.\n",
        "  * Búsqueda líneal iterativa usando while.\n",
        "  * Búsqueda líneal recursiva usando while.\n",
        "\n",
        "* Crea una clase que integre todos los dos tipos de búsqueda líneal: \n",
        "  * Iterativa\n",
        "    * Iterativa creciente con for.\n",
        "    * Iterativa decreciente con for.\n",
        "    * Iterativa creciente con while.\n",
        "    * Iterativa decreciente con while.\n",
        "  * Recursiva.\n",
        "    * Recursiva creciente con for.\n",
        "    * Recursiva decreciente con for.\n",
        "    * Recursiva creciente con while.\n",
        "    * Recursiva decreciente con while.\n",
        "* Utiliza los recursos de 'input' y barra deslizante para interactuar con el usuario para ingresar datos y seleccionar opciones.\n",
        "* Agrega un contador para saber cuantos pasos le tomó a cada algoritmo resolver el problema y muestra la cantidad de pasos de cada uno para comparar todas las versiones.\n",
        "* Agregar el tiempo de ejecución para cada versión de la implementación de búsqueda líneal,\n",
        "\n",
        "**Nota**: La siguiente celda muestra un ejemplo para calcular el tiempo de ejecución."
      ],
      "metadata": {
        "id": "Vi8QiRVZOyrH"
      }
    },
    {
      "cell_type": "code",
      "source": [
        "# importa librería\n",
        "import time\n",
        "\n",
        "# inicio\n",
        "inicio = time.time()\n",
        " \n",
        "# aquí pones el código que vas a probar\n",
        "\n",
        "# código 1\n",
        "\n",
        "# código 2\n",
        "\n",
        "# ...\n",
        "\n",
        "# código n\n",
        "\n",
        " \n",
        "# fin\n",
        "fin = time.time()\n",
        " \n",
        "# imprime el tiempo de ejecución\n",
        "print(\"El el tiempo de ejecución es :\", (fin-inicio) * 10**3, \"ms\")"
      ],
      "metadata": {
        "id": "hKXhBhEryrMV"
      },
      "execution_count": null,
      "outputs": []
    }
  ],
  "metadata": {
    "colab": {
      "provenance": []
    },
    "kernelspec": {
      "display_name": "Python 3",
      "name": "python3"
    },
    "language_info": {
      "name": "python"
    }
  },
  "nbformat": 4,
  "nbformat_minor": 0
}